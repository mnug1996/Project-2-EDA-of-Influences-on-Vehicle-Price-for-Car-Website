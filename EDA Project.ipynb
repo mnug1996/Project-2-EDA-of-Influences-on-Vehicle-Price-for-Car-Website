{
 "cells": [
  {
   "cell_type": "markdown",
   "metadata": {},
   "source": [
    "# Research on car sales ads\n",
    "\n",
    "You're an analyst at Crankshaft List. Hundreds of free advertisements for vehicles are published on your site every day.\n",
    "\n",
    "You need to study data collected over the last few years and determine which factors influence the price of a vehicle. "
   ]
  },
  {
   "cell_type": "markdown",
   "metadata": {},
   "source": [
    "## Open the data file and study the general information. "
   ]
  },
  {
   "cell_type": "code",
   "execution_count": 1,
   "metadata": {},
   "outputs": [
    {
     "data": {
      "text/html": [
       "<div>\n",
       "<style scoped>\n",
       "    .dataframe tbody tr th:only-of-type {\n",
       "        vertical-align: middle;\n",
       "    }\n",
       "\n",
       "    .dataframe tbody tr th {\n",
       "        vertical-align: top;\n",
       "    }\n",
       "\n",
       "    .dataframe thead th {\n",
       "        text-align: right;\n",
       "    }\n",
       "</style>\n",
       "<table border=\"1\" class=\"dataframe\">\n",
       "  <thead>\n",
       "    <tr style=\"text-align: right;\">\n",
       "      <th></th>\n",
       "      <th>price</th>\n",
       "      <th>model_year</th>\n",
       "      <th>model</th>\n",
       "      <th>condition</th>\n",
       "      <th>cylinders</th>\n",
       "      <th>fuel</th>\n",
       "      <th>odometer</th>\n",
       "      <th>transmission</th>\n",
       "      <th>type</th>\n",
       "      <th>paint_color</th>\n",
       "      <th>is_4wd</th>\n",
       "      <th>date_posted</th>\n",
       "      <th>days_listed</th>\n",
       "    </tr>\n",
       "  </thead>\n",
       "  <tbody>\n",
       "    <tr>\n",
       "      <td>0</td>\n",
       "      <td>9400</td>\n",
       "      <td>2011.0</td>\n",
       "      <td>bmw x5</td>\n",
       "      <td>good</td>\n",
       "      <td>6.0</td>\n",
       "      <td>gas</td>\n",
       "      <td>145000.0</td>\n",
       "      <td>automatic</td>\n",
       "      <td>SUV</td>\n",
       "      <td>NaN</td>\n",
       "      <td>1.0</td>\n",
       "      <td>2018-06-23</td>\n",
       "      <td>19</td>\n",
       "    </tr>\n",
       "    <tr>\n",
       "      <td>1</td>\n",
       "      <td>25500</td>\n",
       "      <td>NaN</td>\n",
       "      <td>ford f-150</td>\n",
       "      <td>good</td>\n",
       "      <td>6.0</td>\n",
       "      <td>gas</td>\n",
       "      <td>88705.0</td>\n",
       "      <td>automatic</td>\n",
       "      <td>pickup</td>\n",
       "      <td>white</td>\n",
       "      <td>1.0</td>\n",
       "      <td>2018-10-19</td>\n",
       "      <td>50</td>\n",
       "    </tr>\n",
       "    <tr>\n",
       "      <td>2</td>\n",
       "      <td>5500</td>\n",
       "      <td>2013.0</td>\n",
       "      <td>hyundai sonata</td>\n",
       "      <td>like new</td>\n",
       "      <td>4.0</td>\n",
       "      <td>gas</td>\n",
       "      <td>110000.0</td>\n",
       "      <td>automatic</td>\n",
       "      <td>sedan</td>\n",
       "      <td>red</td>\n",
       "      <td>NaN</td>\n",
       "      <td>2019-02-07</td>\n",
       "      <td>79</td>\n",
       "    </tr>\n",
       "    <tr>\n",
       "      <td>3</td>\n",
       "      <td>1500</td>\n",
       "      <td>2003.0</td>\n",
       "      <td>ford f-150</td>\n",
       "      <td>fair</td>\n",
       "      <td>8.0</td>\n",
       "      <td>gas</td>\n",
       "      <td>NaN</td>\n",
       "      <td>automatic</td>\n",
       "      <td>pickup</td>\n",
       "      <td>NaN</td>\n",
       "      <td>NaN</td>\n",
       "      <td>2019-03-22</td>\n",
       "      <td>9</td>\n",
       "    </tr>\n",
       "    <tr>\n",
       "      <td>4</td>\n",
       "      <td>14900</td>\n",
       "      <td>2017.0</td>\n",
       "      <td>chrysler 200</td>\n",
       "      <td>excellent</td>\n",
       "      <td>4.0</td>\n",
       "      <td>gas</td>\n",
       "      <td>80903.0</td>\n",
       "      <td>automatic</td>\n",
       "      <td>sedan</td>\n",
       "      <td>black</td>\n",
       "      <td>NaN</td>\n",
       "      <td>2019-04-02</td>\n",
       "      <td>28</td>\n",
       "    </tr>\n",
       "    <tr>\n",
       "      <td>5</td>\n",
       "      <td>14990</td>\n",
       "      <td>2014.0</td>\n",
       "      <td>chrysler 300</td>\n",
       "      <td>excellent</td>\n",
       "      <td>6.0</td>\n",
       "      <td>gas</td>\n",
       "      <td>57954.0</td>\n",
       "      <td>automatic</td>\n",
       "      <td>sedan</td>\n",
       "      <td>black</td>\n",
       "      <td>1.0</td>\n",
       "      <td>2018-06-20</td>\n",
       "      <td>15</td>\n",
       "    </tr>\n",
       "    <tr>\n",
       "      <td>6</td>\n",
       "      <td>12990</td>\n",
       "      <td>2015.0</td>\n",
       "      <td>toyota camry</td>\n",
       "      <td>excellent</td>\n",
       "      <td>4.0</td>\n",
       "      <td>gas</td>\n",
       "      <td>79212.0</td>\n",
       "      <td>automatic</td>\n",
       "      <td>sedan</td>\n",
       "      <td>white</td>\n",
       "      <td>NaN</td>\n",
       "      <td>2018-12-27</td>\n",
       "      <td>73</td>\n",
       "    </tr>\n",
       "    <tr>\n",
       "      <td>7</td>\n",
       "      <td>15990</td>\n",
       "      <td>2013.0</td>\n",
       "      <td>honda pilot</td>\n",
       "      <td>excellent</td>\n",
       "      <td>6.0</td>\n",
       "      <td>gas</td>\n",
       "      <td>109473.0</td>\n",
       "      <td>automatic</td>\n",
       "      <td>SUV</td>\n",
       "      <td>black</td>\n",
       "      <td>1.0</td>\n",
       "      <td>2019-01-07</td>\n",
       "      <td>68</td>\n",
       "    </tr>\n",
       "    <tr>\n",
       "      <td>8</td>\n",
       "      <td>11500</td>\n",
       "      <td>2012.0</td>\n",
       "      <td>kia sorento</td>\n",
       "      <td>excellent</td>\n",
       "      <td>4.0</td>\n",
       "      <td>gas</td>\n",
       "      <td>104174.0</td>\n",
       "      <td>automatic</td>\n",
       "      <td>SUV</td>\n",
       "      <td>NaN</td>\n",
       "      <td>1.0</td>\n",
       "      <td>2018-07-16</td>\n",
       "      <td>19</td>\n",
       "    </tr>\n",
       "    <tr>\n",
       "      <td>9</td>\n",
       "      <td>9200</td>\n",
       "      <td>2008.0</td>\n",
       "      <td>honda pilot</td>\n",
       "      <td>excellent</td>\n",
       "      <td>NaN</td>\n",
       "      <td>gas</td>\n",
       "      <td>147191.0</td>\n",
       "      <td>automatic</td>\n",
       "      <td>SUV</td>\n",
       "      <td>blue</td>\n",
       "      <td>1.0</td>\n",
       "      <td>2019-02-15</td>\n",
       "      <td>17</td>\n",
       "    </tr>\n",
       "  </tbody>\n",
       "</table>\n",
       "</div>"
      ],
      "text/plain": [
       "   price  model_year           model  condition  cylinders fuel  odometer  \\\n",
       "0   9400      2011.0          bmw x5       good        6.0  gas  145000.0   \n",
       "1  25500         NaN      ford f-150       good        6.0  gas   88705.0   \n",
       "2   5500      2013.0  hyundai sonata   like new        4.0  gas  110000.0   \n",
       "3   1500      2003.0      ford f-150       fair        8.0  gas       NaN   \n",
       "4  14900      2017.0    chrysler 200  excellent        4.0  gas   80903.0   \n",
       "5  14990      2014.0    chrysler 300  excellent        6.0  gas   57954.0   \n",
       "6  12990      2015.0    toyota camry  excellent        4.0  gas   79212.0   \n",
       "7  15990      2013.0     honda pilot  excellent        6.0  gas  109473.0   \n",
       "8  11500      2012.0     kia sorento  excellent        4.0  gas  104174.0   \n",
       "9   9200      2008.0     honda pilot  excellent        NaN  gas  147191.0   \n",
       "\n",
       "  transmission    type paint_color  is_4wd date_posted  days_listed  \n",
       "0    automatic     SUV         NaN     1.0  2018-06-23           19  \n",
       "1    automatic  pickup       white     1.0  2018-10-19           50  \n",
       "2    automatic   sedan         red     NaN  2019-02-07           79  \n",
       "3    automatic  pickup         NaN     NaN  2019-03-22            9  \n",
       "4    automatic   sedan       black     NaN  2019-04-02           28  \n",
       "5    automatic   sedan       black     1.0  2018-06-20           15  \n",
       "6    automatic   sedan       white     NaN  2018-12-27           73  \n",
       "7    automatic     SUV       black     1.0  2019-01-07           68  \n",
       "8    automatic     SUV         NaN     1.0  2018-07-16           19  \n",
       "9    automatic     SUV        blue     1.0  2019-02-15           17  "
      ]
     },
     "metadata": {},
     "output_type": "display_data"
    },
    {
     "name": "stdout",
     "output_type": "stream",
     "text": [
      "<class 'pandas.core.frame.DataFrame'>\n",
      "RangeIndex: 51525 entries, 0 to 51524\n",
      "Data columns (total 13 columns):\n",
      "price           51525 non-null int64\n",
      "model_year      47906 non-null float64\n",
      "model           51525 non-null object\n",
      "condition       51525 non-null object\n",
      "cylinders       46265 non-null float64\n",
      "fuel            51525 non-null object\n",
      "odometer        43633 non-null float64\n",
      "transmission    51525 non-null object\n",
      "type            51525 non-null object\n",
      "paint_color     42258 non-null object\n",
      "is_4wd          25572 non-null float64\n",
      "date_posted     51525 non-null object\n",
      "days_listed     51525 non-null int64\n",
      "dtypes: float64(4), int64(2), object(7)\n",
      "memory usage: 5.1+ MB\n"
     ]
    },
    {
     "data": {
      "text/plain": [
       "None"
      ]
     },
     "metadata": {},
     "output_type": "display_data"
    }
   ],
   "source": [
    "import pandas as pd\n",
    "df = pd.read_csv('/datasets/vehicles_us.csv')\n",
    "try:\n",
    "    display(df.head(10)) #print first 10 rows\n",
    "    display(df.info()) #print general info\n",
    "except:\n",
    "    display('Cannot import dataframe')\n",
    "#The data is displayed "
   ]
  },
  {
   "cell_type": "code",
   "execution_count": 2,
   "metadata": {},
   "outputs": [
    {
     "data": {
      "text/html": [
       "<div>\n",
       "<style scoped>\n",
       "    .dataframe tbody tr th:only-of-type {\n",
       "        vertical-align: middle;\n",
       "    }\n",
       "\n",
       "    .dataframe tbody tr th {\n",
       "        vertical-align: top;\n",
       "    }\n",
       "\n",
       "    .dataframe thead th {\n",
       "        text-align: right;\n",
       "    }\n",
       "</style>\n",
       "<table border=\"1\" class=\"dataframe\">\n",
       "  <thead>\n",
       "    <tr style=\"text-align: right;\">\n",
       "      <th></th>\n",
       "      <th>missing_values</th>\n",
       "      <th>% of total</th>\n",
       "    </tr>\n",
       "  </thead>\n",
       "  <tbody>\n",
       "    <tr>\n",
       "      <td>is_4wd</td>\n",
       "      <td>25953</td>\n",
       "      <td>0.50</td>\n",
       "    </tr>\n",
       "    <tr>\n",
       "      <td>paint_color</td>\n",
       "      <td>9267</td>\n",
       "      <td>0.18</td>\n",
       "    </tr>\n",
       "    <tr>\n",
       "      <td>odometer</td>\n",
       "      <td>7892</td>\n",
       "      <td>0.15</td>\n",
       "    </tr>\n",
       "    <tr>\n",
       "      <td>cylinders</td>\n",
       "      <td>5260</td>\n",
       "      <td>0.10</td>\n",
       "    </tr>\n",
       "    <tr>\n",
       "      <td>model_year</td>\n",
       "      <td>3619</td>\n",
       "      <td>0.07</td>\n",
       "    </tr>\n",
       "    <tr>\n",
       "      <td>price</td>\n",
       "      <td>0</td>\n",
       "      <td>0.00</td>\n",
       "    </tr>\n",
       "    <tr>\n",
       "      <td>model</td>\n",
       "      <td>0</td>\n",
       "      <td>0.00</td>\n",
       "    </tr>\n",
       "    <tr>\n",
       "      <td>condition</td>\n",
       "      <td>0</td>\n",
       "      <td>0.00</td>\n",
       "    </tr>\n",
       "    <tr>\n",
       "      <td>fuel</td>\n",
       "      <td>0</td>\n",
       "      <td>0.00</td>\n",
       "    </tr>\n",
       "    <tr>\n",
       "      <td>transmission</td>\n",
       "      <td>0</td>\n",
       "      <td>0.00</td>\n",
       "    </tr>\n",
       "    <tr>\n",
       "      <td>type</td>\n",
       "      <td>0</td>\n",
       "      <td>0.00</td>\n",
       "    </tr>\n",
       "    <tr>\n",
       "      <td>date_posted</td>\n",
       "      <td>0</td>\n",
       "      <td>0.00</td>\n",
       "    </tr>\n",
       "    <tr>\n",
       "      <td>days_listed</td>\n",
       "      <td>0</td>\n",
       "      <td>0.00</td>\n",
       "    </tr>\n",
       "  </tbody>\n",
       "</table>\n",
       "</div>"
      ],
      "text/plain": [
       "              missing_values  % of total\n",
       "is_4wd                 25953        0.50\n",
       "paint_color             9267        0.18\n",
       "odometer                7892        0.15\n",
       "cylinders               5260        0.10\n",
       "model_year              3619        0.07\n",
       "price                      0        0.00\n",
       "model                      0        0.00\n",
       "condition                  0        0.00\n",
       "fuel                       0        0.00\n",
       "transmission               0        0.00\n",
       "type                       0        0.00\n",
       "date_posted                0        0.00\n",
       "days_listed                0        0.00"
      ]
     },
     "execution_count": 2,
     "metadata": {},
     "output_type": "execute_result"
    }
   ],
   "source": [
    "df.isna().mean() * 100\n",
    "\n",
    "report = df.isna().sum().to_frame()\n",
    "report = report.rename(columns = {0: 'missing_values'})\n",
    "report['% of total'] = (report['missing_values'] / df.shape[0]).round(2)\n",
    "report.sort_values(by = 'missing_values', ascending = False)\n",
    "\n"
   ]
  },
  {
   "cell_type": "code",
   "execution_count": 3,
   "metadata": {},
   "outputs": [
    {
     "name": "stderr",
     "output_type": "stream",
     "text": [
      "/opt/conda/lib/python3.7/site-packages/pandas/core/ops/__init__.py:1115: FutureWarning: elementwise comparison failed; returning scalar instead, but in the future will perform elementwise comparison\n",
      "  result = method(y)\n"
     ]
    },
    {
     "data": {
      "text/plain": [
       "price           0.0\n",
       "model_year      0.0\n",
       "model           0.0\n",
       "condition       0.0\n",
       "cylinders       0.0\n",
       "fuel            0.0\n",
       "odometer        0.0\n",
       "transmission    0.0\n",
       "type            0.0\n",
       "paint_color     0.0\n",
       "is_4wd          0.0\n",
       "date_posted     0.0\n",
       "days_listed     0.0\n",
       "dtype: float64"
      ]
     },
     "execution_count": 3,
     "metadata": {},
     "output_type": "execute_result"
    }
   ],
   "source": [
    "#Next, seeing if any 'None' str type missing values exist\n",
    "none_values = df[df == 'None'].sum()\n",
    "none_values\n",
    "#No None values exist, great!"
   ]
  },
  {
   "cell_type": "markdown",
   "metadata": {},
   "source": [
    "### Conclusion"
   ]
  },
  {
   "cell_type": "markdown",
   "metadata": {},
   "source": [
    "There are 51525 car ads in the data.\n",
    "\n",
    "There are 13 columns: price, model_year, model, condition, cylinders, fuel, odometer transmission, type, paint_color, is_4wd, date_posted, and days_listed.\n",
    "\n",
    "Missing values are observed in multiple columns: model_year, cylinders, odometer, paint_color, and is_4wd.\n",
    "\n",
    "The missing value columns effect more than .5% of the data and should be filled in with representative values.\n",
    "\n",
    "No 'None' str values were present.\n",
    "\n",
    "'odometer' and 'model_year' should be changed to int types rather than float for visualization\n",
    "\n",
    "'condition' values need to be encoded numerical so that they can be automatically plotted"
   ]
  },
  {
   "cell_type": "markdown",
   "metadata": {},
   "source": [
    "## Data preprocessing"
   ]
  },
  {
   "cell_type": "code",
   "execution_count": 4,
   "metadata": {},
   "outputs": [
    {
     "data": {
      "text/plain": [
       "model_year      2011\n",
       "cylinders          6\n",
       "odometer      113000\n",
       "is_4wd             1\n",
       "dtype: int64"
      ]
     },
     "execution_count": 4,
     "metadata": {},
     "output_type": "execute_result"
    }
   ],
   "source": [
    "#Since there is more than 10% of the data missing, using the medians for all the columns is the safest strategy\n",
    "df[['model_year', 'cylinders', 'odometer', 'paint_color', 'is_4wd']].median().astype('int')\n",
    "#these are all the representative values for each column with missing values"
   ]
  },
  {
   "cell_type": "code",
   "execution_count": 5,
   "metadata": {},
   "outputs": [
    {
     "data": {
      "text/plain": [
       "0"
      ]
     },
     "execution_count": 5,
     "metadata": {},
     "output_type": "execute_result"
    }
   ],
   "source": [
    "#Next, going through each column and filling in with the median\n",
    "\n",
    "df['model_year'].fillna(df['model_year'].median().astype('int'), inplace=True) \n",
    "#mode is expressed as int, fillna is used to fill the NaN values with the mode, [0] is used\n",
    "#to access the mode value since mode() returns a series object\n",
    "df['model_year'].isnull().sum() #checking to see if NaN values had been replaced"
   ]
  },
  {
   "cell_type": "code",
   "execution_count": 6,
   "metadata": {},
   "outputs": [
    {
     "data": {
      "text/plain": [
       "0"
      ]
     },
     "execution_count": 6,
     "metadata": {},
     "output_type": "execute_result"
    }
   ],
   "source": [
    "df['cylinders'] = df['cylinders'].fillna(df['cylinders'].median()) #filling NaN with median\n",
    "df['cylinders'].isnull().sum() #NaN's have been filled"
   ]
  },
  {
   "cell_type": "code",
   "execution_count": 7,
   "metadata": {},
   "outputs": [
    {
     "data": {
      "text/plain": [
       "0"
      ]
     },
     "execution_count": 7,
     "metadata": {},
     "output_type": "execute_result"
    }
   ],
   "source": [
    "df['odometer'] = df['odometer'].fillna(df['odometer'].median().astype('int'))\n",
    "#filling in NaN values with the mean expressed as an integer for visualization\n",
    "df['odometer'].isnull().sum() #checking if it worked"
   ]
  },
  {
   "cell_type": "code",
   "execution_count": 8,
   "metadata": {},
   "outputs": [
    {
     "data": {
      "text/plain": [
       "0"
      ]
     },
     "execution_count": 8,
     "metadata": {},
     "output_type": "execute_result"
    }
   ],
   "source": [
    "#paint_color -- categorical -- mode\n",
    "df['paint_color'].fillna(df['paint_color'].mode()[0], inplace=True) #filling in the mode for missing values\n",
    "df['paint_color'].isnull().sum() #checking if it worked\n"
   ]
  },
  {
   "cell_type": "code",
   "execution_count": 9,
   "metadata": {},
   "outputs": [
    {
     "data": {
      "text/plain": [
       "0    25953\n",
       "1    25572\n",
       "Name: is_4wd, dtype: int64"
      ]
     },
     "execution_count": 9,
     "metadata": {},
     "output_type": "execute_result"
    }
   ],
   "source": [
    "#is_4wd is suspicious because of the large amount of missing values. Let's see what happens to the\n",
    "#data when the values are filled with the mean '1' aka \"is a 4wd vehicle\".\n",
    "\n",
    "#df['is_4wd'] = df['is_4wd'].fillna(df['is_4wd'].mean()) #filling NaN with the mean\n",
    "#df['is_4wd'].value_counts() #identifying all unique values\n",
    "\n",
    "#There is only one unique value when we replace missing values with the mean, which does not add up.\n",
    "#Therefore, these missing values were meant as \"not a 4wd\"\n",
    "#These values should be filled in with a '0' to represent no\n",
    "\n",
    "df['is_4wd'] = df['is_4wd'].fillna(0).astype('int')\n",
    "df['is_4wd'].value_counts()\n",
    "#This makes more sense! Now to change value types"
   ]
  },
  {
   "cell_type": "code",
   "execution_count": 10,
   "metadata": {
    "scrolled": true
   },
   "outputs": [
    {
     "data": {
      "text/html": [
       "<div>\n",
       "<style scoped>\n",
       "    .dataframe tbody tr th:only-of-type {\n",
       "        vertical-align: middle;\n",
       "    }\n",
       "\n",
       "    .dataframe tbody tr th {\n",
       "        vertical-align: top;\n",
       "    }\n",
       "\n",
       "    .dataframe thead th {\n",
       "        text-align: right;\n",
       "    }\n",
       "</style>\n",
       "<table border=\"1\" class=\"dataframe\">\n",
       "  <thead>\n",
       "    <tr style=\"text-align: right;\">\n",
       "      <th></th>\n",
       "      <th>price</th>\n",
       "      <th>model_year</th>\n",
       "      <th>model</th>\n",
       "      <th>condition</th>\n",
       "      <th>cylinders</th>\n",
       "      <th>fuel</th>\n",
       "      <th>odometer</th>\n",
       "      <th>transmission</th>\n",
       "      <th>type</th>\n",
       "      <th>paint_color</th>\n",
       "      <th>is_4wd</th>\n",
       "      <th>date_posted</th>\n",
       "      <th>days_listed</th>\n",
       "    </tr>\n",
       "  </thead>\n",
       "  <tbody>\n",
       "    <tr>\n",
       "      <td>0</td>\n",
       "      <td>9400</td>\n",
       "      <td>2011</td>\n",
       "      <td>bmw x5</td>\n",
       "      <td>good</td>\n",
       "      <td>6.0</td>\n",
       "      <td>gas</td>\n",
       "      <td>145000</td>\n",
       "      <td>automatic</td>\n",
       "      <td>SUV</td>\n",
       "      <td>white</td>\n",
       "      <td>1</td>\n",
       "      <td>2018-06-23</td>\n",
       "      <td>19</td>\n",
       "    </tr>\n",
       "    <tr>\n",
       "      <td>1</td>\n",
       "      <td>25500</td>\n",
       "      <td>2011</td>\n",
       "      <td>ford f-150</td>\n",
       "      <td>good</td>\n",
       "      <td>6.0</td>\n",
       "      <td>gas</td>\n",
       "      <td>88705</td>\n",
       "      <td>automatic</td>\n",
       "      <td>pickup</td>\n",
       "      <td>white</td>\n",
       "      <td>1</td>\n",
       "      <td>2018-10-19</td>\n",
       "      <td>50</td>\n",
       "    </tr>\n",
       "    <tr>\n",
       "      <td>2</td>\n",
       "      <td>5500</td>\n",
       "      <td>2013</td>\n",
       "      <td>hyundai sonata</td>\n",
       "      <td>like new</td>\n",
       "      <td>4.0</td>\n",
       "      <td>gas</td>\n",
       "      <td>110000</td>\n",
       "      <td>automatic</td>\n",
       "      <td>sedan</td>\n",
       "      <td>red</td>\n",
       "      <td>0</td>\n",
       "      <td>2019-02-07</td>\n",
       "      <td>79</td>\n",
       "    </tr>\n",
       "    <tr>\n",
       "      <td>3</td>\n",
       "      <td>1500</td>\n",
       "      <td>2003</td>\n",
       "      <td>ford f-150</td>\n",
       "      <td>fair</td>\n",
       "      <td>8.0</td>\n",
       "      <td>gas</td>\n",
       "      <td>113000</td>\n",
       "      <td>automatic</td>\n",
       "      <td>pickup</td>\n",
       "      <td>white</td>\n",
       "      <td>0</td>\n",
       "      <td>2019-03-22</td>\n",
       "      <td>9</td>\n",
       "    </tr>\n",
       "    <tr>\n",
       "      <td>4</td>\n",
       "      <td>14900</td>\n",
       "      <td>2017</td>\n",
       "      <td>chrysler 200</td>\n",
       "      <td>excellent</td>\n",
       "      <td>4.0</td>\n",
       "      <td>gas</td>\n",
       "      <td>80903</td>\n",
       "      <td>automatic</td>\n",
       "      <td>sedan</td>\n",
       "      <td>black</td>\n",
       "      <td>0</td>\n",
       "      <td>2019-04-02</td>\n",
       "      <td>28</td>\n",
       "    </tr>\n",
       "  </tbody>\n",
       "</table>\n",
       "</div>"
      ],
      "text/plain": [
       "   price  model_year           model  condition  cylinders fuel  odometer  \\\n",
       "0   9400        2011          bmw x5       good        6.0  gas    145000   \n",
       "1  25500        2011      ford f-150       good        6.0  gas     88705   \n",
       "2   5500        2013  hyundai sonata   like new        4.0  gas    110000   \n",
       "3   1500        2003      ford f-150       fair        8.0  gas    113000   \n",
       "4  14900        2017    chrysler 200  excellent        4.0  gas     80903   \n",
       "\n",
       "  transmission    type paint_color  is_4wd date_posted  days_listed  \n",
       "0    automatic     SUV       white       1  2018-06-23           19  \n",
       "1    automatic  pickup       white       1  2018-10-19           50  \n",
       "2    automatic   sedan         red       0  2019-02-07           79  \n",
       "3    automatic  pickup       white       0  2019-03-22            9  \n",
       "4    automatic   sedan       black       0  2019-04-02           28  "
      ]
     },
     "execution_count": 10,
     "metadata": {},
     "output_type": "execute_result"
    }
   ],
   "source": [
    "#Now that all of the missing values have been filled, it is time to change value types\n",
    "#for 'odometer' and 'model_year' for visualization purposes\n",
    "\n",
    "df['odometer'] = df['odometer'].astype('int')\n",
    "df['model_year'] = df['model_year'].astype('int')\n",
    "df.head()\n",
    "#They have been successfully converted"
   ]
  },
  {
   "cell_type": "code",
   "execution_count": 11,
   "metadata": {},
   "outputs": [
    {
     "data": {
      "text/plain": [
       "excellent    24773\n",
       "good         20145\n",
       "like new      4742\n",
       "fair          1607\n",
       "new            143\n",
       "salvage        115\n",
       "Name: condition, dtype: int64"
      ]
     },
     "execution_count": 11,
     "metadata": {},
     "output_type": "execute_result"
    }
   ],
   "source": [
    "df['condition'].value_counts()"
   ]
  },
  {
   "cell_type": "code",
   "execution_count": 12,
   "metadata": {
    "scrolled": false
   },
   "outputs": [
    {
     "data": {
      "text/html": [
       "<div>\n",
       "<style scoped>\n",
       "    .dataframe tbody tr th:only-of-type {\n",
       "        vertical-align: middle;\n",
       "    }\n",
       "\n",
       "    .dataframe tbody tr th {\n",
       "        vertical-align: top;\n",
       "    }\n",
       "\n",
       "    .dataframe thead th {\n",
       "        text-align: right;\n",
       "    }\n",
       "</style>\n",
       "<table border=\"1\" class=\"dataframe\">\n",
       "  <thead>\n",
       "    <tr style=\"text-align: right;\">\n",
       "      <th></th>\n",
       "      <th>price</th>\n",
       "      <th>model_year</th>\n",
       "      <th>model</th>\n",
       "      <th>condition</th>\n",
       "      <th>cylinders</th>\n",
       "      <th>fuel</th>\n",
       "      <th>odometer</th>\n",
       "      <th>transmission</th>\n",
       "      <th>type</th>\n",
       "      <th>paint_color</th>\n",
       "      <th>is_4wd</th>\n",
       "      <th>date_posted</th>\n",
       "      <th>days_listed</th>\n",
       "    </tr>\n",
       "  </thead>\n",
       "  <tbody>\n",
       "    <tr>\n",
       "      <td>0</td>\n",
       "      <td>9400</td>\n",
       "      <td>2011</td>\n",
       "      <td>bmw x5</td>\n",
       "      <td>2</td>\n",
       "      <td>6.0</td>\n",
       "      <td>gas</td>\n",
       "      <td>145000</td>\n",
       "      <td>automatic</td>\n",
       "      <td>SUV</td>\n",
       "      <td>white</td>\n",
       "      <td>1</td>\n",
       "      <td>2018-06-23</td>\n",
       "      <td>19</td>\n",
       "    </tr>\n",
       "    <tr>\n",
       "      <td>1</td>\n",
       "      <td>25500</td>\n",
       "      <td>2011</td>\n",
       "      <td>ford f-150</td>\n",
       "      <td>2</td>\n",
       "      <td>6.0</td>\n",
       "      <td>gas</td>\n",
       "      <td>88705</td>\n",
       "      <td>automatic</td>\n",
       "      <td>pickup</td>\n",
       "      <td>white</td>\n",
       "      <td>1</td>\n",
       "      <td>2018-10-19</td>\n",
       "      <td>50</td>\n",
       "    </tr>\n",
       "    <tr>\n",
       "      <td>2</td>\n",
       "      <td>5500</td>\n",
       "      <td>2013</td>\n",
       "      <td>hyundai sonata</td>\n",
       "      <td>4</td>\n",
       "      <td>4.0</td>\n",
       "      <td>gas</td>\n",
       "      <td>110000</td>\n",
       "      <td>automatic</td>\n",
       "      <td>sedan</td>\n",
       "      <td>red</td>\n",
       "      <td>0</td>\n",
       "      <td>2019-02-07</td>\n",
       "      <td>79</td>\n",
       "    </tr>\n",
       "    <tr>\n",
       "      <td>3</td>\n",
       "      <td>1500</td>\n",
       "      <td>2003</td>\n",
       "      <td>ford f-150</td>\n",
       "      <td>1</td>\n",
       "      <td>8.0</td>\n",
       "      <td>gas</td>\n",
       "      <td>113000</td>\n",
       "      <td>automatic</td>\n",
       "      <td>pickup</td>\n",
       "      <td>white</td>\n",
       "      <td>0</td>\n",
       "      <td>2019-03-22</td>\n",
       "      <td>9</td>\n",
       "    </tr>\n",
       "    <tr>\n",
       "      <td>4</td>\n",
       "      <td>14900</td>\n",
       "      <td>2017</td>\n",
       "      <td>chrysler 200</td>\n",
       "      <td>3</td>\n",
       "      <td>4.0</td>\n",
       "      <td>gas</td>\n",
       "      <td>80903</td>\n",
       "      <td>automatic</td>\n",
       "      <td>sedan</td>\n",
       "      <td>black</td>\n",
       "      <td>0</td>\n",
       "      <td>2019-04-02</td>\n",
       "      <td>28</td>\n",
       "    </tr>\n",
       "  </tbody>\n",
       "</table>\n",
       "</div>"
      ],
      "text/plain": [
       "   price  model_year           model  condition  cylinders fuel  odometer  \\\n",
       "0   9400        2011          bmw x5          2        6.0  gas    145000   \n",
       "1  25500        2011      ford f-150          2        6.0  gas     88705   \n",
       "2   5500        2013  hyundai sonata          4        4.0  gas    110000   \n",
       "3   1500        2003      ford f-150          1        8.0  gas    113000   \n",
       "4  14900        2017    chrysler 200          3        4.0  gas     80903   \n",
       "\n",
       "  transmission    type paint_color  is_4wd date_posted  days_listed  \n",
       "0    automatic     SUV       white       1  2018-06-23           19  \n",
       "1    automatic  pickup       white       1  2018-10-19           50  \n",
       "2    automatic   sedan         red       0  2019-02-07           79  \n",
       "3    automatic  pickup       white       0  2019-03-22            9  \n",
       "4    automatic   sedan       black       0  2019-04-02           28  "
      ]
     },
     "execution_count": 12,
     "metadata": {},
     "output_type": "execute_result"
    }
   ],
   "source": [
    "#Encode the 'condition' values\n",
    "condition_nums = {\"condition\": {\"new\": 5, \"like new\": 4, \"excellent\": 3, \"good\": 2,\n",
    "                                  \"fair\": 1, \"salvage\": 0 }}\n",
    "df = df.replace(condition_nums)\n",
    "df.head()"
   ]
  },
  {
   "cell_type": "code",
   "execution_count": 13,
   "metadata": {
    "scrolled": true
   },
   "outputs": [
    {
     "data": {
      "text/plain": [
       "0"
      ]
     },
     "execution_count": 13,
     "metadata": {},
     "output_type": "execute_result"
    }
   ],
   "source": [
    "#checking for duplicate rows\n",
    "df.duplicated().sum() #there are no duplicate rows"
   ]
  },
  {
   "cell_type": "code",
   "execution_count": 14,
   "metadata": {
    "scrolled": true
   },
   "outputs": [
    {
     "data": {
      "text/plain": [
       "gas         47288\n",
       "diesel       3714\n",
       "hybrid        409\n",
       "other         108\n",
       "electric        6\n",
       "Name: fuel, dtype: int64"
      ]
     },
     "metadata": {},
     "output_type": "display_data"
    },
    {
     "data": {
      "text/plain": [
       "automatic    46902\n",
       "manual        2829\n",
       "other         1794\n",
       "Name: transmission, dtype: int64"
      ]
     },
     "metadata": {},
     "output_type": "display_data"
    },
    {
     "data": {
      "text/plain": [
       "SUV            12405\n",
       "truck          12353\n",
       "sedan          12154\n",
       "pickup          6988\n",
       "coupe           2303\n",
       "wagon           1541\n",
       "mini-van        1161\n",
       "hatchback       1047\n",
       "van              633\n",
       "convertible      446\n",
       "other            256\n",
       "offroad          214\n",
       "bus               24\n",
       "Name: type, dtype: int64"
      ]
     },
     "metadata": {},
     "output_type": "display_data"
    }
   ],
   "source": [
    "#checking for duplicates in categorical data\n",
    "display(df['fuel'].value_counts())\n",
    "display(df['transmission'].value_counts())\n",
    "display(df['type'].value_counts()) \n",
    "#no duplicates"
   ]
  },
  {
   "cell_type": "markdown",
   "metadata": {},
   "source": [
    "### Conclusion \n",
    "\n",
    "Missing values for the columns model_year, cylinders, odometer, paint_color, and is_4wd have been filled with their respective representative variables\n",
    "\n",
    "Possible explanations for these missing values: the people uploading these advertisements are the car owners themselves and chose to omit certain values, or do not know the information themselves. For examples, missing values in paint_color could be the result of the owners not being able to distinguish a certain color. is_4wd can be explained because the vehicle was not 4wd. Odometer could be missing for various reasons, such as they chose to omit it or the odometer doesn't work. Lastly, cylinders could be missing because the owners do not know that information about their vehicle.\n",
    "\n",
    "Values for 'odometer' and 'model_year' have been changed to int64 for visualization purposes\n",
    "\n",
    "The 'condition' column was encoded for graph automation"
   ]
  },
  {
   "cell_type": "markdown",
   "metadata": {},
   "source": [
    "## Make calculations and add them to the table"
   ]
  },
  {
   "cell_type": "code",
   "execution_count": 15,
   "metadata": {
    "scrolled": true
   },
   "outputs": [
    {
     "data": {
      "text/plain": [
       "Thursday     7510\n",
       "Saturday     7392\n",
       "Sunday       7356\n",
       "Monday       7339\n",
       "Friday       7334\n",
       "Wednesday    7299\n",
       "Tuesday      7295\n",
       "Name: day_of_week, dtype: int64"
      ]
     },
     "execution_count": 15,
     "metadata": {},
     "output_type": "execute_result"
    }
   ],
   "source": [
    "#Next calculate: day of the week, month, and year the ad was placed\n",
    "df['date_posted'] = pd.to_datetime(df['date_posted'], format='%Y-%m-%d')\n",
    "df['day_of_week'] = df['date_posted'].dt.day_name()\n",
    "df['day_of_week'].value_counts()\n",
    "#Thursdays were the most popular day to post a listing"
   ]
  },
  {
   "cell_type": "code",
   "execution_count": 16,
   "metadata": {
    "scrolled": true
   },
   "outputs": [
    {
     "data": {
      "text/plain": [
       "October      4643\n",
       "December     4564\n",
       "March        4559\n",
       "May          4503\n",
       "August       4480\n",
       "July         4471\n",
       "January      4452\n",
       "September    4452\n",
       "November     4354\n",
       "June         4216\n",
       "February     4014\n",
       "April        2817\n",
       "Name: month, dtype: int64"
      ]
     },
     "execution_count": 16,
     "metadata": {},
     "output_type": "execute_result"
    }
   ],
   "source": [
    "#Month\n",
    "df['month'] = df['date_posted'].dt.month_name()\n",
    "df['month'].value_counts()\n",
    "#The highest month for ads was October and the lowest month was April"
   ]
  },
  {
   "cell_type": "code",
   "execution_count": 17,
   "metadata": {
    "scrolled": true
   },
   "outputs": [
    {
     "data": {
      "text/plain": [
       "2018    35683\n",
       "2019    15842\n",
       "Name: year, dtype: int64"
      ]
     },
     "execution_count": 17,
     "metadata": {},
     "output_type": "execute_result"
    }
   ],
   "source": [
    "#Year\n",
    "df['year'] = df['date_posted'].dt.year\n",
    "df['year'].value_counts()\n",
    "#The data spans across two years\n",
    "#The amount of ads for cars dropped by more than half of the previous year"
   ]
  },
  {
   "cell_type": "code",
   "execution_count": 18,
   "metadata": {
    "scrolled": true
   },
   "outputs": [
    {
     "data": {
      "text/plain": [
       "0     8\n",
       "1     8\n",
       "2     7\n",
       "3    17\n",
       "4     3\n",
       "Name: vehicle_age, dtype: int64"
      ]
     },
     "execution_count": 18,
     "metadata": {},
     "output_type": "execute_result"
    }
   ],
   "source": [
    "#Next, add the vehicle's age (in years) when the ad was placed\n",
    "df['vehicle_age'] = 1 + (df['year'] - df['model_year'])\n",
    "df['vehicle_age'].head()"
   ]
  },
  {
   "cell_type": "markdown",
   "metadata": {},
   "source": [
    "### Conclusion\n",
    "\n",
    "The table was updated with new columns for: day of the week, month, year the ad was placed, vehicle age, and miles per year\n",
    "\n",
    "Thursdays were the most popular day to post a listing: perhaps many sellers knew buyers\n",
    "#would have more time to browse on the weekend?\n",
    "\n",
    "The highest month for ads was October and the lowest month was April\n",
    "\n",
    "The amount of ads for cars dropped by more than half of the previous year"
   ]
  },
  {
   "cell_type": "markdown",
   "metadata": {},
   "source": [
    "## Carry out exploratory data analysis"
   ]
  },
  {
   "cell_type": "code",
   "execution_count": 19,
   "metadata": {
    "scrolled": false
   },
   "outputs": [
    {
     "data": {
      "text/html": [
       "<div>\n",
       "<style scoped>\n",
       "    .dataframe tbody tr th:only-of-type {\n",
       "        vertical-align: middle;\n",
       "    }\n",
       "\n",
       "    .dataframe tbody tr th {\n",
       "        vertical-align: top;\n",
       "    }\n",
       "\n",
       "    .dataframe thead th {\n",
       "        text-align: right;\n",
       "    }\n",
       "</style>\n",
       "<table border=\"1\" class=\"dataframe\">\n",
       "  <thead>\n",
       "    <tr style=\"text-align: right;\">\n",
       "      <th></th>\n",
       "      <th>price</th>\n",
       "      <th>vehicle_age</th>\n",
       "      <th>cylinders</th>\n",
       "      <th>odometer</th>\n",
       "      <th>condition</th>\n",
       "    </tr>\n",
       "  </thead>\n",
       "  <tbody>\n",
       "    <tr>\n",
       "      <td>0</td>\n",
       "      <td>9400</td>\n",
       "      <td>8</td>\n",
       "      <td>6.0</td>\n",
       "      <td>145000</td>\n",
       "      <td>2</td>\n",
       "    </tr>\n",
       "    <tr>\n",
       "      <td>1</td>\n",
       "      <td>25500</td>\n",
       "      <td>8</td>\n",
       "      <td>6.0</td>\n",
       "      <td>88705</td>\n",
       "      <td>2</td>\n",
       "    </tr>\n",
       "    <tr>\n",
       "      <td>2</td>\n",
       "      <td>5500</td>\n",
       "      <td>7</td>\n",
       "      <td>4.0</td>\n",
       "      <td>110000</td>\n",
       "      <td>4</td>\n",
       "    </tr>\n",
       "    <tr>\n",
       "      <td>3</td>\n",
       "      <td>1500</td>\n",
       "      <td>17</td>\n",
       "      <td>8.0</td>\n",
       "      <td>113000</td>\n",
       "      <td>1</td>\n",
       "    </tr>\n",
       "    <tr>\n",
       "      <td>4</td>\n",
       "      <td>14900</td>\n",
       "      <td>3</td>\n",
       "      <td>4.0</td>\n",
       "      <td>80903</td>\n",
       "      <td>3</td>\n",
       "    </tr>\n",
       "    <tr>\n",
       "      <td>5</td>\n",
       "      <td>14990</td>\n",
       "      <td>5</td>\n",
       "      <td>6.0</td>\n",
       "      <td>57954</td>\n",
       "      <td>3</td>\n",
       "    </tr>\n",
       "    <tr>\n",
       "      <td>6</td>\n",
       "      <td>12990</td>\n",
       "      <td>4</td>\n",
       "      <td>4.0</td>\n",
       "      <td>79212</td>\n",
       "      <td>3</td>\n",
       "    </tr>\n",
       "    <tr>\n",
       "      <td>7</td>\n",
       "      <td>15990</td>\n",
       "      <td>7</td>\n",
       "      <td>6.0</td>\n",
       "      <td>109473</td>\n",
       "      <td>3</td>\n",
       "    </tr>\n",
       "    <tr>\n",
       "      <td>8</td>\n",
       "      <td>11500</td>\n",
       "      <td>7</td>\n",
       "      <td>4.0</td>\n",
       "      <td>104174</td>\n",
       "      <td>3</td>\n",
       "    </tr>\n",
       "    <tr>\n",
       "      <td>9</td>\n",
       "      <td>9200</td>\n",
       "      <td>12</td>\n",
       "      <td>6.0</td>\n",
       "      <td>147191</td>\n",
       "      <td>3</td>\n",
       "    </tr>\n",
       "  </tbody>\n",
       "</table>\n",
       "</div>"
      ],
      "text/plain": [
       "   price  vehicle_age  cylinders  odometer  condition\n",
       "0   9400            8        6.0    145000          2\n",
       "1  25500            8        6.0     88705          2\n",
       "2   5500            7        4.0    110000          4\n",
       "3   1500           17        8.0    113000          1\n",
       "4  14900            3        4.0     80903          3\n",
       "5  14990            5        6.0     57954          3\n",
       "6  12990            4        4.0     79212          3\n",
       "7  15990            7        6.0    109473          3\n",
       "8  11500            7        4.0    104174          3\n",
       "9   9200           12        6.0    147191          3"
      ]
     },
     "execution_count": 19,
     "metadata": {},
     "output_type": "execute_result"
    }
   ],
   "source": [
    "#Next, exploring the parameters: price, vehicle's age when the ad was placed, mileage, \n",
    "#number of cylinders, and condition by viewing their histograms\n",
    "df_parameters = df[['price', 'vehicle_age', 'cylinders', 'odometer', 'condition']].copy() #new df for parameters\n",
    "df_parameters.head(10)"
   ]
  },
  {
   "cell_type": "code",
   "execution_count": 20,
   "metadata": {
    "scrolled": true
   },
   "outputs": [
    {
     "data": {
      "image/png": "[encoded data removed]",
      "text/plain": [
       "<Figure size 432x288 with 1 Axes>"
      ]
     },
     "metadata": {
      "needs_background": "light"
     },
     "output_type": "display_data"
    },
    {
     "data": {
      "image/png": "[encoded data removed]",
      "text/plain": [
       "<Figure size 432x288 with 1 Axes>"
      ]
     },
     "metadata": {
      "needs_background": "light"
     },
     "output_type": "display_data"
    },
    {
     "data": {
      "image/png": "[encoded data removed]",
      "text/plain": [
       "<Figure size 432x288 with 1 Axes>"
      ]
     },
     "metadata": {
      "needs_background": "light"
     },
     "output_type": "display_data"
    },
    {
     "data": {
      "image/png": "[encoded data removed]",
      "text/plain": [
       "<Figure size 432x288 with 1 Axes>"
      ]
     },
     "metadata": {
      "needs_background": "light"
     },
     "output_type": "display_data"
    },
    {
     "data": {
      "image/png": "[encoded data removed]",
      "text/plain": [
       "<Figure size 432x288 with 1 Axes>"
      ]
     },
     "metadata": {
      "needs_background": "light"
     },
     "output_type": "display_data"
    }
   ],
   "source": [
    "import matplotlib.pyplot as plt\n",
    "\n",
    "df_parameters['price'].plot.box(by=None)\n",
    "plt.show()\n",
    "df_parameters['vehicle_age'].plot.box(by=None)\n",
    "plt.show()\n",
    "df_parameters['cylinders'].plot.box(by=None)\n",
    "plt.show()\n",
    "df_parameters['odometer'].plot.box(by=None)\n",
    "plt.show()\n",
    "df_parameters['condition'].plot.box(by=None)\n",
    "plt.show()\n",
    "#outliers make each graph a little difficult to read for odometer, price, and vehicle_age\n",
    "#it is best to remove the outliers"
   ]
  },
  {
   "cell_type": "markdown",
   "metadata": {},
   "source": [
    "#### Removing Outliers"
   ]
  },
  {
   "cell_type": "code",
   "execution_count": 21,
   "metadata": {
    "scrolled": true
   },
   "outputs": [
    {
     "name": "stdout",
     "output_type": "stream",
     "text": [
      "price          11839.0\n",
      "vehicle_age        8.0\n",
      "cylinders          4.0\n",
      "odometer       67360.0\n",
      "condition          1.0\n",
      "dtype: float64\n"
     ]
    }
   ],
   "source": [
    "Q1 = df_parameters.quantile(0.25)\n",
    "Q3 = df_parameters.quantile(0.75)\n",
    "IQR = Q3 - Q1\n",
    "print(IQR)"
   ]
  },
  {
   "cell_type": "code",
   "execution_count": 22,
   "metadata": {},
   "outputs": [
    {
     "name": "stdout",
     "output_type": "stream",
     "text": [
      "<class 'pandas.core.frame.DataFrame'>\n",
      "Int64Index: 3664 entries, 33 to 51521\n",
      "Data columns (total 5 columns):\n",
      "price          3664 non-null int64\n",
      "vehicle_age    3664 non-null int64\n",
      "cylinders      3664 non-null float64\n",
      "odometer       3664 non-null int64\n",
      "condition      3664 non-null int64\n",
      "dtypes: float64(1), int64(4)\n",
      "memory usage: 171.8 KB\n",
      "<class 'pandas.core.frame.DataFrame'>\n",
      "Int64Index: 47861 entries, 0 to 51524\n",
      "Data columns (total 5 columns):\n",
      "price          47861 non-null int64\n",
      "vehicle_age    47861 non-null int64\n",
      "cylinders      47861 non-null float64\n",
      "odometer       47861 non-null int64\n",
      "condition      47861 non-null int64\n",
      "dtypes: float64(1), int64(4)\n",
      "memory usage: 2.2 MB\n"
     ]
    }
   ],
   "source": [
    "df_outliers = df_parameters[((df_parameters < (Q1 - 1.5 * IQR)) |(df_parameters > (Q3 + 1.5 * IQR))).any(axis=1)]\n",
    "df_parameters = df_parameters[~((df_parameters < (Q1 - 1.5 * IQR)) |(df_parameters > (Q3 + 1.5 * IQR))).any(axis=1)] #excluding the outliers\n",
    "df_outliers.info() #there were 3664 outliers\n",
    "df_parameters.info()\n"
   ]
  },
  {
   "cell_type": "code",
   "execution_count": 23,
   "metadata": {},
   "outputs": [
    {
     "data": {
      "image/png": "[encoded data removed]",
      "text/plain": [
       "<Figure size 432x288 with 1 Axes>"
      ]
     },
     "metadata": {
      "needs_background": "light"
     },
     "output_type": "display_data"
    },
    {
     "data": {
      "image/png": "[encoded data removed]",
      "text/plain": [
       "<Figure size 432x288 with 1 Axes>"
      ]
     },
     "metadata": {
      "needs_background": "light"
     },
     "output_type": "display_data"
    },
    {
     "data": {
      "image/png": "[encoded data removed]",
      "text/plain": [
       "<Figure size 432x288 with 1 Axes>"
      ]
     },
     "metadata": {
      "needs_background": "light"
     },
     "output_type": "display_data"
    },
    {
     "data": {
      "image/png": "[encoded data removed]",
      "text/plain": [
       "<Figure size 432x288 with 1 Axes>"
      ]
     },
     "metadata": {
      "needs_background": "light"
     },
     "output_type": "display_data"
    },
    {
     "data": {
      "image/png": "[encoded data removed]",
      "text/plain": [
       "<Figure size 432x288 with 1 Axes>"
      ]
     },
     "metadata": {
      "needs_background": "light"
     },
     "output_type": "display_data"
    }
   ],
   "source": [
    "#Next to reprint the boxplots from before\n",
    "df_parameters['price'].plot.box(by=None)\n",
    "plt.show()\n",
    "df_parameters['vehicle_age'].plot.box(by=None)\n",
    "plt.show()\n",
    "df_parameters['cylinders'].plot.box(by=None)\n",
    "plt.show()\n",
    "df_parameters['odometer'].plot.box(by=None)\n",
    "plt.show()\n",
    "df_parameters['condition'].plot.box(by=None)\n",
    "plt.show()"
   ]
  },
  {
   "cell_type": "code",
   "execution_count": 24,
   "metadata": {},
   "outputs": [
    {
     "data": {
      "image/png": "[encoded data removed]",
      "text/plain": [
       "<Figure size 648x648 with 6 Axes>"
      ]
     },
     "metadata": {
      "needs_background": "light"
     },
     "output_type": "display_data"
    }
   ],
   "source": [
    "#Now that outliers have been removed, we can view their histograms\n",
    "df_parameters.hist(figsize=(9,9))\n",
    "plt.show()"
   ]
  },
  {
   "cell_type": "markdown",
   "metadata": {},
   "source": [
    "#### Boxplot Data\n",
    "\n",
    "The previous boxplots were difficult to read due to the outliers, but now that they have been removed the data is much more readable. We can also now view their histograms\n",
    "\n",
    "The largest value for condition is excellent (3) and the lowest values are salvages (0) and new (5)\n",
    "\n",
    "6 cylinder vehicles were the most common listing while lowest values were lower than 4 and greater than 10 cylinders\n",
    "\n",
    "Many vehicles were listed had approximately 100,000 - 125000 miles\n",
    "\n",
    "Many vehicles had a cheaper price listing -- the median is appx 8000\n",
    "\n",
    "Vehicles were most often 5 - 10 years in age"
   ]
  },
  {
   "cell_type": "code",
   "execution_count": 25,
   "metadata": {
    "scrolled": false
   },
   "outputs": [
    {
     "data": {
      "text/plain": [
       "<matplotlib.axes._subplots.AxesSubplot at 0x7fbfb7242790>"
      ]
     },
     "execution_count": 25,
     "metadata": {},
     "output_type": "execute_result"
    },
    {
     "data": {
      "image/png": "[encoded data removed]",
      "text/plain": [
       "<Figure size 432x288 with 1 Axes>"
      ]
     },
     "metadata": {
      "needs_background": "light"
     },
     "output_type": "display_data"
    }
   ],
   "source": [
    "#merging df and df_parameters\n",
    "df = pd.merge(df, df_parameters,  how='right', left_on=['condition','cylinders', 'odometer', 'price', 'vehicle_age'], right_on = ['condition','cylinders', 'odometer', 'price', 'vehicle_age'])\n",
    "df['vehicle_age'].hist() #testing if merge worked\n"
   ]
  },
  {
   "cell_type": "code",
   "execution_count": 26,
   "metadata": {
    "scrolled": true
   },
   "outputs": [
    {
     "data": {
      "image/png": "[encoded data removed]",
      "text/plain": [
       "<Figure size 576x360 with 1 Axes>"
      ]
     },
     "metadata": {
      "needs_background": "light"
     },
     "output_type": "display_data"
    }
   ],
   "source": [
    "fig, ax = plt.subplots(figsize=(8,5))\n",
    "\n",
    "days_listed = df['days_listed'].plot(grid=True, kind = 'hist', title='Ad Lifespan')\n",
    "ax.set_xlabel('Days Listed')\n",
    "ax.set_ylabel('Frequency')\n",
    "plt.show()\n",
    "#Many vehicles were sold within 50 days, more so within 25 days."
   ]
  },
  {
   "cell_type": "code",
   "execution_count": 27,
   "metadata": {},
   "outputs": [
    {
     "name": "stdout",
     "output_type": "stream",
     "text": [
      "39.6361619722532\n",
      "34.0\n"
     ]
    }
   ],
   "source": [
    "#Calculating the mean and mean for 'days_listed'\n",
    "print(df['days_listed'].mean())\n",
    "print(df['days_listed'].median())\n",
    "#There is about a 15% difference between mean and median, meaning that there are a significant\n",
    "#amount of vehicles that are taking longer to sell -- what factors are causing this?\n"
   ]
  },
  {
   "cell_type": "code",
   "execution_count": 28,
   "metadata": {
    "scrolled": false
   },
   "outputs": [
    {
     "data": {
      "image/png": "[encoded data removed]",
      "text/plain": [
       "<Figure size 720x720 with 9 Axes>"
      ]
     },
     "metadata": {
      "needs_background": "light"
     },
     "output_type": "display_data"
    }
   ],
   "source": [
    "#Next, to view the relationships affecting 'days_listed' two scatter matrices will be used\n",
    "#in order to better visualize the data (one matrix is too and it is not possible to\n",
    "#slice the matrix for only the 'days_listed' column)\n",
    "\n",
    "df_parameters1 = df[['days_listed', 'vehicle_age', 'cylinders']].copy()\n",
    "pd.plotting.scatter_matrix(df_parameters1, figsize=(10,10))\n",
    "plt.show()"
   ]
  },
  {
   "cell_type": "code",
   "execution_count": 29,
   "metadata": {},
   "outputs": [
    {
     "data": {
      "image/png": "[encoded data removed]",
      "text/plain": [
       "<Figure size 720x720 with 16 Axes>"
      ]
     },
     "metadata": {
      "needs_background": "light"
     },
     "output_type": "display_data"
    }
   ],
   "source": [
    "df_parameters2 = df[['days_listed', 'price', 'odometer', 'condition']].copy()\n",
    "pd.plotting.scatter_matrix(df_parameters2, figsize=(10,10))\n",
    "plt.show()"
   ]
  },
  {
   "cell_type": "code",
   "execution_count": 30,
   "metadata": {},
   "outputs": [
    {
     "data": {
      "text/html": [
       "<div>\n",
       "<style scoped>\n",
       "    .dataframe tbody tr th:only-of-type {\n",
       "        vertical-align: middle;\n",
       "    }\n",
       "\n",
       "    .dataframe tbody tr th {\n",
       "        vertical-align: top;\n",
       "    }\n",
       "\n",
       "    .dataframe thead th {\n",
       "        text-align: right;\n",
       "    }\n",
       "</style>\n",
       "<table border=\"1\" class=\"dataframe\">\n",
       "  <thead>\n",
       "    <tr style=\"text-align: right;\">\n",
       "      <th></th>\n",
       "      <th>days_listed</th>\n",
       "      <th>price</th>\n",
       "      <th>vehicle_age</th>\n",
       "      <th>odometer</th>\n",
       "      <th>condition</th>\n",
       "      <th>cylinders</th>\n",
       "    </tr>\n",
       "  </thead>\n",
       "  <tbody>\n",
       "    <tr>\n",
       "      <td>days_listed</td>\n",
       "      <td>1.000000</td>\n",
       "      <td>-0.000459</td>\n",
       "      <td>0.009217</td>\n",
       "      <td>0.006412</td>\n",
       "      <td>0.008961</td>\n",
       "      <td>0.003121</td>\n",
       "    </tr>\n",
       "    <tr>\n",
       "      <td>price</td>\n",
       "      <td>-0.000459</td>\n",
       "      <td>1.000000</td>\n",
       "      <td>-0.469187</td>\n",
       "      <td>-0.401724</td>\n",
       "      <td>-0.048225</td>\n",
       "      <td>0.269987</td>\n",
       "    </tr>\n",
       "    <tr>\n",
       "      <td>vehicle_age</td>\n",
       "      <td>0.009217</td>\n",
       "      <td>-0.469187</td>\n",
       "      <td>1.000000</td>\n",
       "      <td>0.557044</td>\n",
       "      <td>-0.098194</td>\n",
       "      <td>0.050400</td>\n",
       "    </tr>\n",
       "    <tr>\n",
       "      <td>odometer</td>\n",
       "      <td>0.006412</td>\n",
       "      <td>-0.401724</td>\n",
       "      <td>0.557044</td>\n",
       "      <td>1.000000</td>\n",
       "      <td>-0.077033</td>\n",
       "      <td>0.029453</td>\n",
       "    </tr>\n",
       "    <tr>\n",
       "      <td>condition</td>\n",
       "      <td>0.008961</td>\n",
       "      <td>-0.048225</td>\n",
       "      <td>-0.098194</td>\n",
       "      <td>-0.077033</td>\n",
       "      <td>1.000000</td>\n",
       "      <td>-0.092697</td>\n",
       "    </tr>\n",
       "    <tr>\n",
       "      <td>cylinders</td>\n",
       "      <td>0.003121</td>\n",
       "      <td>0.269987</td>\n",
       "      <td>0.050400</td>\n",
       "      <td>0.029453</td>\n",
       "      <td>-0.092697</td>\n",
       "      <td>1.000000</td>\n",
       "    </tr>\n",
       "  </tbody>\n",
       "</table>\n",
       "</div>"
      ],
      "text/plain": [
       "             days_listed     price  vehicle_age  odometer  condition  \\\n",
       "days_listed     1.000000 -0.000459     0.009217  0.006412   0.008961   \n",
       "price          -0.000459  1.000000    -0.469187 -0.401724  -0.048225   \n",
       "vehicle_age     0.009217 -0.469187     1.000000  0.557044  -0.098194   \n",
       "odometer        0.006412 -0.401724     0.557044  1.000000  -0.077033   \n",
       "condition       0.008961 -0.048225    -0.098194 -0.077033   1.000000   \n",
       "cylinders       0.003121  0.269987     0.050400  0.029453  -0.092697   \n",
       "\n",
       "             cylinders  \n",
       "days_listed   0.003121  \n",
       "price         0.269987  \n",
       "vehicle_age   0.050400  \n",
       "odometer      0.029453  \n",
       "condition    -0.092697  \n",
       "cylinders     1.000000  "
      ]
     },
     "execution_count": 30,
     "metadata": {},
     "output_type": "execute_result"
    }
   ],
   "source": [
    "quant_var = df[['days_listed', 'price', 'vehicle_age', 'odometer', 'condition', 'cylinders']].copy()\n",
    "quant_var.corr()"
   ]
  },
  {
   "cell_type": "markdown",
   "metadata": {},
   "source": [
    "#### Factors Influencing Ad Lifespans\n",
    "\n",
    "Focusing on the 'days_listed' row of histograms (far left column of graphs):\n",
    "\n",
    "1) 'vehicle_age': this graph shows that most vehicles 20 years or younger are being sold within 100 days but as the ad-lifespan grows older, newer vehicles heavily outnumber old vehicles.\n",
    "\n",
    "2) 'cylinders': 8 and 6 cylinder vehicles were more likely to have a short ad lifespan and 4 cylinder vehicles were more likely to have a longer listing time.\n",
    "\n",
    "3) 'price': As price declined, the lifespan of the listing became longer. 20,000 dollars and below vehicles more heavily populated the longer listing times.\n",
    "\n",
    "4) 'odometer': At about 150,000 miles and below, these cars more densely populated the longer listing times (100 days and more). Interestingly, vehicles with miles > 150k were sold more quickly\n",
    "\n",
    "5) 'condition': Interestingly, vehicles in \"excellent\" condition were more often listed longer than vehicles in fair condition. "
   ]
  },
  {
   "cell_type": "markdown",
   "metadata": {},
   "source": [
    "#### Analyze the number of ads and the average price for each type of vehicle. Plot a graph showing the dependence of the number of ads on the vehicle type. Select the two types with the greatest number of ads. "
   ]
  },
  {
   "cell_type": "code",
   "execution_count": 31,
   "metadata": {},
   "outputs": [
    {
     "data": {
      "text/plain": [
       "truck          22635\n",
       "SUV            17680\n",
       "sedan          16234\n",
       "pickup         12714\n",
       "coupe           5760\n",
       "wagon           3391\n",
       "mini-van        1493\n",
       "hatchback       1314\n",
       "van              994\n",
       "convertible      471\n",
       "offroad          336\n",
       "other            299\n",
       "bus               76\n",
       "Name: type, dtype: int64"
      ]
     },
     "execution_count": 31,
     "metadata": {},
     "output_type": "execute_result"
    }
   ],
   "source": [
    "type_count = df['type'].value_counts()\n",
    "type_count\n",
    "#Trucks and SUVs had the highest number of ads"
   ]
  },
  {
   "cell_type": "code",
   "execution_count": 32,
   "metadata": {
    "scrolled": true
   },
   "outputs": [
    {
     "data": {
      "text/html": [
       "<div>\n",
       "<style scoped>\n",
       "    .dataframe tbody tr th:only-of-type {\n",
       "        vertical-align: middle;\n",
       "    }\n",
       "\n",
       "    .dataframe tbody tr th {\n",
       "        vertical-align: top;\n",
       "    }\n",
       "\n",
       "    .dataframe thead th {\n",
       "        text-align: right;\n",
       "    }\n",
       "</style>\n",
       "<table border=\"1\" class=\"dataframe\">\n",
       "  <thead>\n",
       "    <tr style=\"text-align: right;\">\n",
       "      <th></th>\n",
       "      <th>price</th>\n",
       "    </tr>\n",
       "    <tr>\n",
       "      <th>type</th>\n",
       "      <th></th>\n",
       "    </tr>\n",
       "  </thead>\n",
       "  <tbody>\n",
       "    <tr>\n",
       "      <td>bus</td>\n",
       "      <td>22575</td>\n",
       "    </tr>\n",
       "    <tr>\n",
       "      <td>pickup</td>\n",
       "      <td>19188</td>\n",
       "    </tr>\n",
       "    <tr>\n",
       "      <td>coupe</td>\n",
       "      <td>17777</td>\n",
       "    </tr>\n",
       "    <tr>\n",
       "      <td>truck</td>\n",
       "      <td>15756</td>\n",
       "    </tr>\n",
       "    <tr>\n",
       "      <td>offroad</td>\n",
       "      <td>13486</td>\n",
       "    </tr>\n",
       "    <tr>\n",
       "      <td>convertible</td>\n",
       "      <td>11536</td>\n",
       "    </tr>\n",
       "    <tr>\n",
       "      <td>other</td>\n",
       "      <td>10867</td>\n",
       "    </tr>\n",
       "    <tr>\n",
       "      <td>SUV</td>\n",
       "      <td>10364</td>\n",
       "    </tr>\n",
       "    <tr>\n",
       "      <td>wagon</td>\n",
       "      <td>9750</td>\n",
       "    </tr>\n",
       "    <tr>\n",
       "      <td>van</td>\n",
       "      <td>9122</td>\n",
       "    </tr>\n",
       "    <tr>\n",
       "      <td>mini-van</td>\n",
       "      <td>8167</td>\n",
       "    </tr>\n",
       "    <tr>\n",
       "      <td>sedan</td>\n",
       "      <td>6965</td>\n",
       "    </tr>\n",
       "    <tr>\n",
       "      <td>hatchback</td>\n",
       "      <td>6559</td>\n",
       "    </tr>\n",
       "  </tbody>\n",
       "</table>\n",
       "</div>"
      ],
      "text/plain": [
       "             price\n",
       "type              \n",
       "bus          22575\n",
       "pickup       19188\n",
       "coupe        17777\n",
       "truck        15756\n",
       "offroad      13486\n",
       "convertible  11536\n",
       "other        10867\n",
       "SUV          10364\n",
       "wagon         9750\n",
       "van           9122\n",
       "mini-van      8167\n",
       "sedan         6965\n",
       "hatchback     6559"
      ]
     },
     "execution_count": 32,
     "metadata": {},
     "output_type": "execute_result"
    }
   ],
   "source": [
    "type_pivot = df.pivot_table(index='type', values='price').astype('int') #pivot table is used to organize the data\n",
    "type_pivot.sort_values(by='price', ascending=False)"
   ]
  },
  {
   "cell_type": "code",
   "execution_count": 33,
   "metadata": {
    "scrolled": true
   },
   "outputs": [
    {
     "data": {
      "image/png": "[encoded data removed]",
      "text/plain": [
       "<Figure size 432x288 with 1 Axes>"
      ]
     },
     "metadata": {
      "needs_background": "light"
     },
     "output_type": "display_data"
    }
   ],
   "source": [
    "type_count.plot(kind='bar', title='Vehicle Type Counts', grid=True)\n",
    "ax.set_xlabel('Type')\n",
    "ax.set_ylabel('Count')\n",
    "plt.show()\n",
    "\n",
    "#This graph shows how the frequency of the ads depend on the type - trucks and SUVs are the most listed type"
   ]
  },
  {
   "cell_type": "markdown",
   "metadata": {},
   "source": [
    "#### What factors impact the price most? Take each of the popular types you detected at the previous stage and study whether the price depends on age, mileage, condition, transmission type, and color. For categorical variables (transmission type and color), plot box-and-whisker charts, and create scatterplots for the rest. When analyzing categorical variables, note that the categories must have at least 50 ads; otherwise, their parameters won't be valid for analysis"
   ]
  },
  {
   "cell_type": "code",
   "execution_count": 34,
   "metadata": {},
   "outputs": [
    {
     "data": {
      "text/html": [
       "<div>\n",
       "<style scoped>\n",
       "    .dataframe tbody tr th:only-of-type {\n",
       "        vertical-align: middle;\n",
       "    }\n",
       "\n",
       "    .dataframe tbody tr th {\n",
       "        vertical-align: top;\n",
       "    }\n",
       "\n",
       "    .dataframe thead th {\n",
       "        text-align: right;\n",
       "    }\n",
       "</style>\n",
       "<table border=\"1\" class=\"dataframe\">\n",
       "  <thead>\n",
       "    <tr style=\"text-align: right;\">\n",
       "      <th></th>\n",
       "      <th>days_listed</th>\n",
       "      <th>price</th>\n",
       "      <th>vehicle_age</th>\n",
       "      <th>odometer</th>\n",
       "      <th>condition</th>\n",
       "      <th>cylinders</th>\n",
       "    </tr>\n",
       "  </thead>\n",
       "  <tbody>\n",
       "    <tr>\n",
       "      <td>days_listed</td>\n",
       "      <td>1.000000</td>\n",
       "      <td>-0.018141</td>\n",
       "      <td>0.007924</td>\n",
       "      <td>0.011050</td>\n",
       "      <td>0.001511</td>\n",
       "      <td>0.014238</td>\n",
       "    </tr>\n",
       "    <tr>\n",
       "      <td>price</td>\n",
       "      <td>-0.018141</td>\n",
       "      <td>1.000000</td>\n",
       "      <td>-0.414471</td>\n",
       "      <td>-0.334259</td>\n",
       "      <td>0.187005</td>\n",
       "      <td>-0.044606</td>\n",
       "    </tr>\n",
       "    <tr>\n",
       "      <td>vehicle_age</td>\n",
       "      <td>0.007924</td>\n",
       "      <td>-0.414471</td>\n",
       "      <td>1.000000</td>\n",
       "      <td>0.545767</td>\n",
       "      <td>-0.273560</td>\n",
       "      <td>0.168017</td>\n",
       "    </tr>\n",
       "    <tr>\n",
       "      <td>odometer</td>\n",
       "      <td>0.011050</td>\n",
       "      <td>-0.334259</td>\n",
       "      <td>0.545767</td>\n",
       "      <td>1.000000</td>\n",
       "      <td>-0.307802</td>\n",
       "      <td>0.113324</td>\n",
       "    </tr>\n",
       "    <tr>\n",
       "      <td>condition</td>\n",
       "      <td>0.001511</td>\n",
       "      <td>0.187005</td>\n",
       "      <td>-0.273560</td>\n",
       "      <td>-0.307802</td>\n",
       "      <td>1.000000</td>\n",
       "      <td>-0.043815</td>\n",
       "    </tr>\n",
       "    <tr>\n",
       "      <td>cylinders</td>\n",
       "      <td>0.014238</td>\n",
       "      <td>-0.044606</td>\n",
       "      <td>0.168017</td>\n",
       "      <td>0.113324</td>\n",
       "      <td>-0.043815</td>\n",
       "      <td>1.000000</td>\n",
       "    </tr>\n",
       "  </tbody>\n",
       "</table>\n",
       "</div>"
      ],
      "text/plain": [
       "             days_listed     price  vehicle_age  odometer  condition  \\\n",
       "days_listed     1.000000 -0.018141     0.007924  0.011050   0.001511   \n",
       "price          -0.018141  1.000000    -0.414471 -0.334259   0.187005   \n",
       "vehicle_age     0.007924 -0.414471     1.000000  0.545767  -0.273560   \n",
       "odometer        0.011050 -0.334259     0.545767  1.000000  -0.307802   \n",
       "condition       0.001511  0.187005    -0.273560 -0.307802   1.000000   \n",
       "cylinders       0.014238 -0.044606     0.168017  0.113324  -0.043815   \n",
       "\n",
       "             cylinders  \n",
       "days_listed   0.014238  \n",
       "price        -0.044606  \n",
       "vehicle_age   0.168017  \n",
       "odometer      0.113324  \n",
       "condition    -0.043815  \n",
       "cylinders     1.000000  "
      ]
     },
     "metadata": {},
     "output_type": "display_data"
    },
    {
     "data": {
      "text/html": [
       "<div>\n",
       "<style scoped>\n",
       "    .dataframe tbody tr th:only-of-type {\n",
       "        vertical-align: middle;\n",
       "    }\n",
       "\n",
       "    .dataframe tbody tr th {\n",
       "        vertical-align: top;\n",
       "    }\n",
       "\n",
       "    .dataframe thead th {\n",
       "        text-align: right;\n",
       "    }\n",
       "</style>\n",
       "<table border=\"1\" class=\"dataframe\">\n",
       "  <thead>\n",
       "    <tr style=\"text-align: right;\">\n",
       "      <th></th>\n",
       "      <th>days_listed</th>\n",
       "      <th>price</th>\n",
       "      <th>vehicle_age</th>\n",
       "      <th>odometer</th>\n",
       "      <th>condition</th>\n",
       "      <th>cylinders</th>\n",
       "    </tr>\n",
       "  </thead>\n",
       "  <tbody>\n",
       "    <tr>\n",
       "      <td>days_listed</td>\n",
       "      <td>1.000000</td>\n",
       "      <td>0.017318</td>\n",
       "      <td>0.027193</td>\n",
       "      <td>-0.003227</td>\n",
       "      <td>0.010639</td>\n",
       "      <td>0.010406</td>\n",
       "    </tr>\n",
       "    <tr>\n",
       "      <td>price</td>\n",
       "      <td>0.017318</td>\n",
       "      <td>1.000000</td>\n",
       "      <td>-0.364916</td>\n",
       "      <td>-0.236129</td>\n",
       "      <td>0.069956</td>\n",
       "      <td>-0.041749</td>\n",
       "    </tr>\n",
       "    <tr>\n",
       "      <td>vehicle_age</td>\n",
       "      <td>0.027193</td>\n",
       "      <td>-0.364916</td>\n",
       "      <td>1.000000</td>\n",
       "      <td>0.402582</td>\n",
       "      <td>-0.173550</td>\n",
       "      <td>-0.062981</td>\n",
       "    </tr>\n",
       "    <tr>\n",
       "      <td>odometer</td>\n",
       "      <td>-0.003227</td>\n",
       "      <td>-0.236129</td>\n",
       "      <td>0.402582</td>\n",
       "      <td>1.000000</td>\n",
       "      <td>-0.120596</td>\n",
       "      <td>-0.062432</td>\n",
       "    </tr>\n",
       "    <tr>\n",
       "      <td>condition</td>\n",
       "      <td>0.010639</td>\n",
       "      <td>0.069956</td>\n",
       "      <td>-0.173550</td>\n",
       "      <td>-0.120596</td>\n",
       "      <td>1.000000</td>\n",
       "      <td>-0.028921</td>\n",
       "    </tr>\n",
       "    <tr>\n",
       "      <td>cylinders</td>\n",
       "      <td>0.010406</td>\n",
       "      <td>-0.041749</td>\n",
       "      <td>-0.062981</td>\n",
       "      <td>-0.062432</td>\n",
       "      <td>-0.028921</td>\n",
       "      <td>1.000000</td>\n",
       "    </tr>\n",
       "  </tbody>\n",
       "</table>\n",
       "</div>"
      ],
      "text/plain": [
       "             days_listed     price  vehicle_age  odometer  condition  \\\n",
       "days_listed     1.000000  0.017318     0.027193 -0.003227   0.010639   \n",
       "price           0.017318  1.000000    -0.364916 -0.236129   0.069956   \n",
       "vehicle_age     0.027193 -0.364916     1.000000  0.402582  -0.173550   \n",
       "odometer       -0.003227 -0.236129     0.402582  1.000000  -0.120596   \n",
       "condition       0.010639  0.069956    -0.173550 -0.120596   1.000000   \n",
       "cylinders       0.010406 -0.041749    -0.062981 -0.062432  -0.028921   \n",
       "\n",
       "             cylinders  \n",
       "days_listed   0.010406  \n",
       "price        -0.041749  \n",
       "vehicle_age  -0.062981  \n",
       "odometer     -0.062432  \n",
       "condition    -0.028921  \n",
       "cylinders     1.000000  "
      ]
     },
     "metadata": {},
     "output_type": "display_data"
    }
   ],
   "source": [
    "#add type to quant_var\n",
    "quant_var = df[['type', 'days_listed', 'price', 'vehicle_age', 'odometer', 'condition', 'cylinders']].copy()\n",
    "SUV_Q = quant_var[quant_var['type'] == 'SUV']\n",
    "truck_Q = quant_var[quant_var['type'] == 'truck']\n",
    "\n",
    "#displaying the correlation between quantitative values for SUV and truck\n",
    "display(SUV_Q.corr())\n",
    "display(truck_Q.corr())"
   ]
  },
  {
   "cell_type": "code",
   "execution_count": 35,
   "metadata": {
    "scrolled": true
   },
   "outputs": [
    {
     "data": {
      "image/png": "[encoded data removed]",
      "text/plain": [
       "<Figure size 648x648 with 6 Axes>"
      ]
     },
     "metadata": {
      "needs_background": "light"
     },
     "output_type": "display_data"
    }
   ],
   "source": [
    "SUV_Q.hist(figsize=(9,9))\n",
    "plt.show()"
   ]
  },
  {
   "cell_type": "code",
   "execution_count": 36,
   "metadata": {},
   "outputs": [
    {
     "data": {
      "image/png": "[encoded data removed]",
      "text/plain": [
       "<Figure size 648x648 with 6 Axes>"
      ]
     },
     "metadata": {
      "needs_background": "light"
     },
     "output_type": "display_data"
    }
   ],
   "source": [
    "truck_Q.hist(figsize=(9,9))\n",
    "plt.show()"
   ]
  },
  {
   "cell_type": "code",
   "execution_count": 37,
   "metadata": {
    "scrolled": true
   },
   "outputs": [
    {
     "name": "stderr",
     "output_type": "stream",
     "text": [
      "/opt/conda/lib/python3.7/site-packages/numpy/core/_asarray.py:83: VisibleDeprecationWarning: Creating an ndarray from ragged nested sequences (which is a list-or-tuple of lists-or-tuples-or ndarrays with different lengths or shapes) is deprecated. If you meant to do this, you must specify 'dtype=object' when creating the ndarray\n",
      "  return array(a, dtype, copy=False, order=order)\n"
     ]
    },
    {
     "data": {
      "image/png": "[encoded data removed]",
      "text/plain": [
       "<Figure size 864x432 with 1 Axes>"
      ]
     },
     "metadata": {
      "needs_background": "light"
     },
     "output_type": "display_data"
    },
    {
     "name": "stderr",
     "output_type": "stream",
     "text": [
      "/opt/conda/lib/python3.7/site-packages/numpy/core/_asarray.py:83: VisibleDeprecationWarning: Creating an ndarray from ragged nested sequences (which is a list-or-tuple of lists-or-tuples-or ndarrays with different lengths or shapes) is deprecated. If you meant to do this, you must specify 'dtype=object' when creating the ndarray\n",
      "  return array(a, dtype, copy=False, order=order)\n"
     ]
    },
    {
     "data": {
      "image/png": "[encoded data removed]",
      "text/plain": [
       "<Figure size 864x432 with 1 Axes>"
      ]
     },
     "metadata": {
      "needs_background": "light"
     },
     "output_type": "display_data"
    }
   ],
   "source": [
    "#create pivot tables to organize data for both categorical variables\n",
    "cat_var = df[['paint_color', 'transmission', 'price', 'type']].copy()\n",
    "\n",
    "SUV_C = cat_var[cat_var['type'] == 'SUV']\n",
    "truck_C = cat_var[cat_var['type'] == 'truck']\n",
    "\n",
    "#starting with SUVs\n",
    "SUV_color_pivot = SUV_C.pivot_table(index='transmission', columns='paint_color', values='price')\n",
    "SUV_transmission_pivot = SUV_C.pivot_table(index='paint_color', columns='transmission', values='price')\n",
    "\n",
    "#plotting them as boxplots\n",
    "SUV_color_pivot.plot(kind='box', figsize=(12,6))\n",
    "plt.show()\n",
    "SUV_transmission_pivot.plot(kind='box', figsize=(12,6))\n",
    "plt.show()"
   ]
  },
  {
   "cell_type": "code",
   "execution_count": 38,
   "metadata": {},
   "outputs": [
    {
     "name": "stderr",
     "output_type": "stream",
     "text": [
      "/opt/conda/lib/python3.7/site-packages/numpy/core/_asarray.py:83: VisibleDeprecationWarning: Creating an ndarray from ragged nested sequences (which is a list-or-tuple of lists-or-tuples-or ndarrays with different lengths or shapes) is deprecated. If you meant to do this, you must specify 'dtype=object' when creating the ndarray\n",
      "  return array(a, dtype, copy=False, order=order)\n"
     ]
    },
    {
     "data": {
      "image/png": "[encoded data removed]",
      "text/plain": [
       "<Figure size 864x432 with 1 Axes>"
      ]
     },
     "metadata": {
      "needs_background": "light"
     },
     "output_type": "display_data"
    },
    {
     "name": "stderr",
     "output_type": "stream",
     "text": [
      "/opt/conda/lib/python3.7/site-packages/numpy/core/_asarray.py:83: VisibleDeprecationWarning: Creating an ndarray from ragged nested sequences (which is a list-or-tuple of lists-or-tuples-or ndarrays with different lengths or shapes) is deprecated. If you meant to do this, you must specify 'dtype=object' when creating the ndarray\n",
      "  return array(a, dtype, copy=False, order=order)\n"
     ]
    },
    {
     "data": {
      "image/png": "[encoded data removed]",
      "text/plain": [
       "<Figure size 864x432 with 1 Axes>"
      ]
     },
     "metadata": {
      "needs_background": "light"
     },
     "output_type": "display_data"
    }
   ],
   "source": [
    "#Same process for trucks\n",
    "truck_color_pivot = truck_C.pivot_table(index='transmission', columns='paint_color', values='price')\n",
    "truck_transmission_pivot = truck_C.pivot_table(index='paint_color', columns='transmission', values='price')\n",
    "\n",
    "#plotting them as boxplots\n",
    "truck_color_pivot.plot(kind='box', figsize=(12,6))\n",
    "plt.show()\n",
    "truck_transmission_pivot.plot(kind='box', figsize=(12,6))\n",
    "plt.show()"
   ]
  },
  {
   "cell_type": "markdown",
   "metadata": {},
   "source": [
    "### Truck and SUV analysis\n",
    "\n",
    "#### Correlation\n",
    "Referring to the correlation graphs, vehicle age was the highest influencer on price for both SUVs and trucks. \n",
    "\n",
    "#### Quantitative Analysis\n",
    "In regards to the histograms, the prices of SUVs and trucks varied in that most SUVs were 5,000 and trucks were more expensive at 15,000. \n",
    "\n",
    "Trucks were sold faster than SUVs -- 8000 trucks were sold under 50 days compared to 6000 for SUVs.\n",
    "\n",
    "Trucks were more expensive than SUV's -- 4800 trucks at ~15,000 vs. 4200 SUVs at ~5000.\n",
    "\n",
    "Most SUVs were 6 cylinder and trucks mainly 8.\n",
    "\n",
    "The odometer readings for trucks and SUVs consolidated at ~125000.\n",
    "\n",
    "Most trucks and SUVs were aged at 8 years.\n",
    "\n",
    "#### Categorical Analysis\n",
    "Referring to the boxplots, orange SUVs were priced as the most expensive (median value ~17,000) while green trucks were most expensive (median value ~17000)\n",
    "\n",
    "Manual SUVs were found to increase the price (median value ~12,000) while the latter was automatic trucks raising the price (median value ~16,000)\n",
    "\n"
   ]
  },
  {
   "cell_type": "markdown",
   "metadata": {},
   "source": [
    "## Overall conclusion"
   ]
  },
  {
   "cell_type": "markdown",
   "metadata": {},
   "source": [
    "The parameter that had the highest impact on price was vehicle_age because it had the largest correlation coefficient (-0.47). This means age has a negative impact on the price.\n",
    "\n",
    "Referring to the transmission boxplot, automatics were priced higher than manuals and other types had a wider spread of value.\n",
    "\n",
    "In terms of color, black, orange, white, and yellow vehicles had the highest average prices.\n",
    "\n",
    "Trucks and SUVs comprised of most of the listings on the website.\n",
    "\n",
    "Vans, busses, and pickups were the most expensive vehicle types listed.\n",
    "\n",
    "Cheaper vehicles (20,000 and lower) had a tendency to stay on the website longer than expensive vehicles (above 20,000).\n",
    "\n",
    "Vehicles with <= 150k miles were more likely to stay longer on the lot while older vehicles were being sold faster. This may have to do with rare vehicles being more sought after.\n",
    "\n",
    "The lower cylinder vehicles (4) had longer listing times showing that performance is important in listing times.\n",
    "\n",
    "The biggest determining factor in price was age for the most popular vehicle types (trucks and SUVs).\n",
    "\n",
    "Trucks had a tendency to be more expensive."
   ]
  },
  {
   "cell_type": "markdown",
   "metadata": {},
   "source": [
    "# Project completion checklist\n",
    "\n",
    "Mark the completed tasks with 'x'. Then press Shift+Enter."
   ]
  },
  {
   "cell_type": "markdown",
   "metadata": {},
   "source": [
    "#### DATA PREPROCESSING (10)\n",
    "- [x]  file opened\n",
    "- [x]  files explored (first rows printed, info() method)\n",
    "- [x]  missing values determined\n",
    "- [x]  missing values filled in\n",
    "- [x]  clarification of the discovered missing values provided\n",
    "- [x]  data types converted\n",
    "- [x]  explanation of which columns had the data types changed and why\n",
    "#### MAKE CALCULATIONS & ADD TO TABLE (3)\n",
    "- [x]  calculated and added to the table: day of the week, month, and year the ad was placed\n",
    "- [x]  calculated and added to the table: the vehicle's age (in years) when the ad was placed\n",
    "- [x]  calculated and added to the table: the vehicle's average mileage per year\n",
    "#### EXPLORATORY DATA ANALYSIS (9)\n",
    "- [x]  the following parameters investigated: price, vehicle's age when the ad was placed, mileage, number of cylinders, and condition\n",
    "- [x]  histograms for each parameter created\n",
    "- [x]  task completed: \"Determine the upper limits of outliers, remove the outliers and store them in a separate DataFrame, and continue your work with the filtered data.\"\n",
    "- [x]  task completed: \"Use the filtered data to plot new histograms. Compare them with the earlier histograms (the ones that included outliers). Draw conclusions for each histogram.\"\n",
    "- [x]  task completed: \"Study how many days advertisements were displayed (days_listed). Plot a histogram. Calculate the mean and median. Describe the typical lifetime of an ad. Determine when ads were removed quickly, and when they were listed for an abnormally long time.  \"\n",
    "- [x]  task completed: \"Analyze the number of ads and the average price for each type of vehicle. Plot a graph showing the dependence of the number of ads on the vehicle type. Select the two types with the greatest number of ads. \n",
    "- [x]  task completed: \"What factors impact the price most? Take each of the popular types you detected at the previous stage and study whether the price depends on age, mileage, condition, transmission type, and color. For categorical variables (transmission type and color), plot box-and-whisker charts, and create scatterplots for the rest. When analyzing categorical variables, note that the categories must have at least 50 ads; otherwise, their parameters won't be valid for analysis.  \"\n",
    "- [x]  each stage has a conclusion\n",
    "- [x]  overall conclusion drawn"
   ]
  },
  {
   "cell_type": "code",
   "execution_count": null,
   "metadata": {},
   "outputs": [],
   "source": []
  }
 ],
 "metadata": {
  "ExecuteTimeLog": [
   {
    "duration": 668,
    "start_time": "2021-09-02T21:38:01.813Z"
   },
   {
    "duration": 105,
    "start_time": "2021-09-02T21:38:21.934Z"
   },
   {
    "duration": 22,
    "start_time": "2021-09-02T21:42:41.876Z"
   },
   {
    "duration": 18,
    "start_time": "2021-09-02T21:42:50.802Z"
   },
   {
    "duration": 21,
    "start_time": "2021-09-02T21:49:58.100Z"
   },
   {
    "duration": 97,
    "start_time": "2021-09-02T21:52:35.786Z"
   },
   {
    "duration": 99,
    "start_time": "2021-09-02T21:54:26.962Z"
   },
   {
    "duration": 98,
    "start_time": "2021-09-02T21:54:32.101Z"
   },
   {
    "duration": 5,
    "start_time": "2021-09-02T22:06:25.796Z"
   },
   {
    "duration": 5,
    "start_time": "2021-09-02T22:06:58.575Z"
   },
   {
    "duration": 9,
    "start_time": "2021-09-02T22:07:10.771Z"
   },
   {
    "duration": 6,
    "start_time": "2021-09-02T22:07:53.732Z"
   },
   {
    "duration": 9,
    "start_time": "2021-09-02T22:08:07.256Z"
   },
   {
    "duration": 28,
    "start_time": "2021-09-02T22:10:37.662Z"
   },
   {
    "duration": 24,
    "start_time": "2021-09-02T22:10:57.459Z"
   },
   {
    "duration": 21,
    "start_time": "2021-09-02T22:11:46.128Z"
   },
   {
    "duration": 17,
    "start_time": "2021-09-02T22:12:07.988Z"
   },
   {
    "duration": 14,
    "start_time": "2021-09-02T22:12:22.314Z"
   },
   {
    "duration": 9,
    "start_time": "2021-09-02T22:12:34.127Z"
   },
   {
    "duration": 13,
    "start_time": "2021-09-02T22:13:25.675Z"
   },
   {
    "duration": 15,
    "start_time": "2021-09-02T22:13:34.035Z"
   },
   {
    "duration": 272,
    "start_time": "2021-09-03T01:47:37.163Z"
   },
   {
    "duration": 864,
    "start_time": "2021-09-03T01:51:42.463Z"
   },
   {
    "duration": 845,
    "start_time": "2021-09-03T01:51:54.384Z"
   },
   {
    "duration": 42,
    "start_time": "2021-09-03T01:51:55.231Z"
   },
   {
    "duration": 24,
    "start_time": "2021-09-03T01:51:55.276Z"
   },
   {
    "duration": 184,
    "start_time": "2021-09-03T01:51:55.303Z"
   },
   {
    "duration": 20,
    "start_time": "2021-09-03T01:51:55.489Z"
   },
   {
    "duration": 9,
    "start_time": "2021-09-03T01:51:55.512Z"
   },
   {
    "duration": 6,
    "start_time": "2021-09-03T01:51:55.523Z"
   },
   {
    "duration": 11,
    "start_time": "2021-09-03T02:01:38.292Z"
   },
   {
    "duration": 10,
    "start_time": "2021-09-03T02:01:48.905Z"
   },
   {
    "duration": 12,
    "start_time": "2021-09-03T02:03:21.591Z"
   },
   {
    "duration": 7,
    "start_time": "2021-09-03T02:03:41.940Z"
   },
   {
    "duration": 8,
    "start_time": "2021-09-03T02:04:02.464Z"
   },
   {
    "duration": 8,
    "start_time": "2021-09-03T02:04:08.507Z"
   },
   {
    "duration": 26,
    "start_time": "2021-09-03T02:05:23.260Z"
   },
   {
    "duration": 12,
    "start_time": "2021-09-03T02:06:11.083Z"
   },
   {
    "duration": 13,
    "start_time": "2021-09-03T02:08:59.641Z"
   },
   {
    "duration": 20,
    "start_time": "2021-09-03T02:09:03.673Z"
   },
   {
    "duration": 37,
    "start_time": "2021-09-03T02:09:12.303Z"
   },
   {
    "duration": 374,
    "start_time": "2021-09-03T02:10:49.848Z"
   },
   {
    "duration": 1272,
    "start_time": "2021-09-03T02:12:38.514Z"
   },
   {
    "duration": 19,
    "start_time": "2021-09-03T02:13:16.496Z"
   },
   {
    "duration": 13,
    "start_time": "2021-09-03T02:13:42.969Z"
   },
   {
    "duration": 289,
    "start_time": "2021-09-03T02:14:09.958Z"
   },
   {
    "duration": 19,
    "start_time": "2021-09-03T02:14:22.686Z"
   },
   {
    "duration": 320,
    "start_time": "2021-09-03T02:14:53.863Z"
   },
   {
    "duration": 845,
    "start_time": "2021-09-03T02:15:09.999Z"
   },
   {
    "duration": 34,
    "start_time": "2021-09-03T02:15:10.847Z"
   },
   {
    "duration": 25,
    "start_time": "2021-09-03T02:15:10.884Z"
   },
   {
    "duration": 197,
    "start_time": "2021-09-03T02:15:10.911Z"
   },
   {
    "duration": 20,
    "start_time": "2021-09-03T02:15:11.110Z"
   },
   {
    "duration": 34,
    "start_time": "2021-09-03T02:15:11.132Z"
   },
   {
    "duration": 3,
    "start_time": "2021-09-03T02:15:11.168Z"
   },
   {
    "duration": 329,
    "start_time": "2021-09-03T02:18:31.541Z"
   },
   {
    "duration": 857,
    "start_time": "2021-09-03T02:18:49.429Z"
   },
   {
    "duration": 31,
    "start_time": "2021-09-03T02:18:50.289Z"
   },
   {
    "duration": 45,
    "start_time": "2021-09-03T02:18:50.324Z"
   },
   {
    "duration": 179,
    "start_time": "2021-09-03T02:18:50.372Z"
   },
   {
    "duration": 24,
    "start_time": "2021-09-03T02:18:50.553Z"
   },
   {
    "duration": -246,
    "start_time": "2021-09-03T02:19:02.351Z"
   },
   {
    "duration": -245,
    "start_time": "2021-09-03T02:19:02.353Z"
   },
   {
    "duration": 293,
    "start_time": "2021-09-03T02:26:38.567Z"
   },
   {
    "duration": 856,
    "start_time": "2021-09-03T02:26:51.338Z"
   },
   {
    "duration": 31,
    "start_time": "2021-09-03T02:26:52.197Z"
   },
   {
    "duration": 39,
    "start_time": "2021-09-03T02:26:52.231Z"
   },
   {
    "duration": 180,
    "start_time": "2021-09-03T02:26:52.273Z"
   },
   {
    "duration": 20,
    "start_time": "2021-09-03T02:26:52.455Z"
   },
   {
    "duration": 6,
    "start_time": "2021-09-03T02:26:52.477Z"
   },
   {
    "duration": 24,
    "start_time": "2021-09-03T02:29:04.097Z"
   },
   {
    "duration": 28,
    "start_time": "2021-09-03T02:29:30.694Z"
   },
   {
    "duration": 10,
    "start_time": "2021-09-03T02:29:47.387Z"
   },
   {
    "duration": 11,
    "start_time": "2021-09-03T02:32:01.085Z"
   },
   {
    "duration": 11,
    "start_time": "2021-09-03T02:32:08.657Z"
   },
   {
    "duration": 861,
    "start_time": "2021-09-03T02:32:15.841Z"
   },
   {
    "duration": 30,
    "start_time": "2021-09-03T02:32:16.704Z"
   },
   {
    "duration": 37,
    "start_time": "2021-09-03T02:32:16.736Z"
   },
   {
    "duration": 179,
    "start_time": "2021-09-03T02:32:16.776Z"
   },
   {
    "duration": 20,
    "start_time": "2021-09-03T02:32:16.961Z"
   },
   {
    "duration": 15,
    "start_time": "2021-09-03T02:32:16.983Z"
   },
   {
    "duration": 3,
    "start_time": "2021-09-03T02:32:17.000Z"
   },
   {
    "duration": 7,
    "start_time": "2021-09-03T02:32:54.475Z"
   },
   {
    "duration": 8,
    "start_time": "2021-09-03T02:33:33.689Z"
   },
   {
    "duration": 7,
    "start_time": "2021-09-03T02:37:43.996Z"
   },
   {
    "duration": 14,
    "start_time": "2021-09-03T02:39:48.708Z"
   },
   {
    "duration": 7,
    "start_time": "2021-09-03T02:41:15.590Z"
   },
   {
    "duration": 8,
    "start_time": "2021-09-03T02:46:16.073Z"
   },
   {
    "duration": 8,
    "start_time": "2021-09-03T02:48:49.243Z"
   },
   {
    "duration": 7,
    "start_time": "2021-09-03T02:54:24.784Z"
   },
   {
    "duration": 318,
    "start_time": "2021-09-03T02:56:08.088Z"
   },
   {
    "duration": 8,
    "start_time": "2021-09-03T02:56:18.424Z"
   },
   {
    "duration": 8,
    "start_time": "2021-09-03T02:56:30.583Z"
   },
   {
    "duration": 9,
    "start_time": "2021-09-03T02:57:08.714Z"
   },
   {
    "duration": 9,
    "start_time": "2021-09-03T03:05:23.201Z"
   },
   {
    "duration": 9,
    "start_time": "2021-09-03T03:05:31.207Z"
   },
   {
    "duration": 9,
    "start_time": "2021-09-03T03:05:49.392Z"
   },
   {
    "duration": 11,
    "start_time": "2021-09-03T03:09:07.268Z"
   },
   {
    "duration": 99,
    "start_time": "2021-09-03T03:11:35.229Z"
   },
   {
    "duration": 8,
    "start_time": "2021-09-03T03:11:55.800Z"
   },
   {
    "duration": 921,
    "start_time": "2021-09-03T19:45:52.426Z"
   },
   {
    "duration": 32,
    "start_time": "2021-09-03T19:45:53.350Z"
   },
   {
    "duration": 24,
    "start_time": "2021-09-03T19:45:53.385Z"
   },
   {
    "duration": 191,
    "start_time": "2021-09-03T19:45:53.413Z"
   },
   {
    "duration": 20,
    "start_time": "2021-09-03T19:45:53.606Z"
   },
   {
    "duration": 31,
    "start_time": "2021-09-03T19:45:53.628Z"
   },
   {
    "duration": 16,
    "start_time": "2021-09-03T19:45:53.661Z"
   },
   {
    "duration": 12,
    "start_time": "2021-09-03T19:45:53.681Z"
   },
   {
    "duration": 30,
    "start_time": "2021-09-03T19:45:53.696Z"
   },
   {
    "duration": 8,
    "start_time": "2021-09-03T19:45:53.729Z"
   },
   {
    "duration": 14,
    "start_time": "2021-09-03T19:45:53.755Z"
   },
   {
    "duration": 16,
    "start_time": "2021-09-03T19:45:53.772Z"
   },
   {
    "duration": 15,
    "start_time": "2021-09-03T19:46:19.930Z"
   },
   {
    "duration": 15,
    "start_time": "2021-09-03T19:47:25.277Z"
   },
   {
    "duration": 14,
    "start_time": "2021-09-03T19:48:04.179Z"
   },
   {
    "duration": 7,
    "start_time": "2021-09-03T19:55:48.333Z"
   },
   {
    "duration": 13,
    "start_time": "2021-09-03T19:56:51.074Z"
   },
   {
    "duration": 13,
    "start_time": "2021-09-03T19:57:55.665Z"
   },
   {
    "duration": 8,
    "start_time": "2021-09-03T20:05:12.419Z"
   },
   {
    "duration": 9,
    "start_time": "2021-09-03T20:05:27.407Z"
   },
   {
    "duration": 8,
    "start_time": "2021-09-03T20:05:51.949Z"
   },
   {
    "duration": 10,
    "start_time": "2021-09-03T21:07:51.382Z"
   },
   {
    "duration": 11,
    "start_time": "2021-09-03T21:08:05.970Z"
   },
   {
    "duration": 10,
    "start_time": "2021-09-03T21:13:53.954Z"
   },
   {
    "duration": 5,
    "start_time": "2021-09-03T21:15:09.966Z"
   },
   {
    "duration": 10,
    "start_time": "2021-09-03T21:17:28.240Z"
   },
   {
    "duration": 862,
    "start_time": "2021-09-03T21:17:38.173Z"
   },
   {
    "duration": 40,
    "start_time": "2021-09-03T21:17:39.039Z"
   },
   {
    "duration": 30,
    "start_time": "2021-09-03T21:17:39.083Z"
   },
   {
    "duration": 204,
    "start_time": "2021-09-03T21:17:39.116Z"
   },
   {
    "duration": 33,
    "start_time": "2021-09-03T21:17:39.324Z"
   },
   {
    "duration": 20,
    "start_time": "2021-09-03T21:17:39.359Z"
   },
   {
    "duration": 18,
    "start_time": "2021-09-03T21:17:39.382Z"
   },
   {
    "duration": 25,
    "start_time": "2021-09-03T21:17:39.403Z"
   },
   {
    "duration": 20,
    "start_time": "2021-09-03T21:17:39.431Z"
   },
   {
    "duration": 24,
    "start_time": "2021-09-03T21:17:39.453Z"
   },
   {
    "duration": 26,
    "start_time": "2021-09-03T21:17:39.479Z"
   },
   {
    "duration": 30,
    "start_time": "2021-09-03T21:17:39.507Z"
   },
   {
    "duration": 39,
    "start_time": "2021-09-03T21:17:39.540Z"
   },
   {
    "duration": 3,
    "start_time": "2021-09-03T21:17:39.582Z"
   },
   {
    "duration": 367,
    "start_time": "2021-09-03T21:18:28.812Z"
   },
   {
    "duration": 10,
    "start_time": "2021-09-03T21:19:23.142Z"
   },
   {
    "duration": 10,
    "start_time": "2021-09-03T21:19:34.632Z"
   },
   {
    "duration": 263,
    "start_time": "2021-09-03T21:19:46.908Z"
   },
   {
    "duration": 280,
    "start_time": "2021-09-03T21:20:00.690Z"
   },
   {
    "duration": 772,
    "start_time": "2021-09-03T21:20:35.167Z"
   },
   {
    "duration": 673,
    "start_time": "2021-09-03T21:20:52.796Z"
   },
   {
    "duration": 710,
    "start_time": "2021-09-03T21:21:17.385Z"
   },
   {
    "duration": 319,
    "start_time": "2021-09-03T21:21:55.330Z"
   },
   {
    "duration": 889,
    "start_time": "2021-09-03T21:22:13.832Z"
   },
   {
    "duration": 39,
    "start_time": "2021-09-03T21:22:14.724Z"
   },
   {
    "duration": 28,
    "start_time": "2021-09-03T21:22:14.766Z"
   },
   {
    "duration": 194,
    "start_time": "2021-09-03T21:22:14.797Z"
   },
   {
    "duration": 20,
    "start_time": "2021-09-03T21:22:14.994Z"
   },
   {
    "duration": 37,
    "start_time": "2021-09-03T21:22:15.017Z"
   },
   {
    "duration": 13,
    "start_time": "2021-09-03T21:22:15.056Z"
   },
   {
    "duration": 14,
    "start_time": "2021-09-03T21:22:15.071Z"
   },
   {
    "duration": 12,
    "start_time": "2021-09-03T21:22:15.089Z"
   },
   {
    "duration": 8,
    "start_time": "2021-09-03T21:22:15.104Z"
   },
   {
    "duration": 48,
    "start_time": "2021-09-03T21:22:15.114Z"
   },
   {
    "duration": 23,
    "start_time": "2021-09-03T21:22:15.165Z"
   },
   {
    "duration": 665,
    "start_time": "2021-09-03T21:22:15.190Z"
   },
   {
    "duration": -145,
    "start_time": "2021-09-03T21:22:16.003Z"
   },
   {
    "duration": 731,
    "start_time": "2021-09-03T21:23:26.243Z"
   },
   {
    "duration": 20,
    "start_time": "2021-09-03T21:23:42.789Z"
   },
   {
    "duration": 665,
    "start_time": "2021-09-03T21:23:47.195Z"
   },
   {
    "duration": 22,
    "start_time": "2021-09-03T21:24:06.034Z"
   },
   {
    "duration": 362,
    "start_time": "2021-09-03T23:44:47.715Z"
   },
   {
    "duration": 6735,
    "start_time": "2021-09-03T23:47:20.146Z"
   },
   {
    "duration": 1812,
    "start_time": "2021-09-03T23:48:07.178Z"
   },
   {
    "duration": 1773,
    "start_time": "2021-09-03T23:48:39.041Z"
   },
   {
    "duration": 40,
    "start_time": "2021-09-03T23:48:58.667Z"
   },
   {
    "duration": 17,
    "start_time": "2021-09-03T23:56:31.898Z"
   },
   {
    "duration": 16,
    "start_time": "2021-09-03T23:59:01.365Z"
   },
   {
    "duration": 8,
    "start_time": "2021-09-04T00:14:34.660Z"
   },
   {
    "duration": 10,
    "start_time": "2021-09-04T00:18:35.151Z"
   },
   {
    "duration": 276,
    "start_time": "2021-09-04T00:19:25.349Z"
   },
   {
    "duration": 277,
    "start_time": "2021-09-04T00:20:11.948Z"
   },
   {
    "duration": 6,
    "start_time": "2021-09-04T00:20:53.879Z"
   },
   {
    "duration": 7,
    "start_time": "2021-09-04T00:21:02.413Z"
   },
   {
    "duration": 289,
    "start_time": "2021-09-04T00:21:16.902Z"
   },
   {
    "duration": 45,
    "start_time": "2021-09-04T00:21:57.402Z"
   },
   {
    "duration": 10,
    "start_time": "2021-09-04T00:23:04.589Z"
   },
   {
    "duration": 9,
    "start_time": "2021-09-04T00:25:44.405Z"
   },
   {
    "duration": 860,
    "start_time": "2021-09-04T00:26:14.171Z"
   },
   {
    "duration": 32,
    "start_time": "2021-09-04T00:26:15.034Z"
   },
   {
    "duration": 32,
    "start_time": "2021-09-04T00:26:15.069Z"
   },
   {
    "duration": 183,
    "start_time": "2021-09-04T00:26:15.104Z"
   },
   {
    "duration": 20,
    "start_time": "2021-09-04T00:26:15.289Z"
   },
   {
    "duration": 35,
    "start_time": "2021-09-04T00:26:15.312Z"
   },
   {
    "duration": 27,
    "start_time": "2021-09-04T00:26:15.349Z"
   },
   {
    "duration": 28,
    "start_time": "2021-09-04T00:26:15.380Z"
   },
   {
    "duration": 20,
    "start_time": "2021-09-04T00:26:15.411Z"
   },
   {
    "duration": 28,
    "start_time": "2021-09-04T00:26:15.434Z"
   },
   {
    "duration": 36,
    "start_time": "2021-09-04T00:26:15.465Z"
   },
   {
    "duration": 47,
    "start_time": "2021-09-04T00:26:15.503Z"
   },
   {
    "duration": 27,
    "start_time": "2021-09-04T00:26:15.553Z"
   },
   {
    "duration": 31,
    "start_time": "2021-09-04T00:26:15.582Z"
   },
   {
    "duration": 16,
    "start_time": "2021-09-04T00:26:15.615Z"
   },
   {
    "duration": 16,
    "start_time": "2021-09-04T00:26:15.654Z"
   },
   {
    "duration": 26,
    "start_time": "2021-09-04T00:26:15.672Z"
   },
   {
    "duration": 43,
    "start_time": "2021-09-04T00:26:15.701Z"
   },
   {
    "duration": 49,
    "start_time": "2021-09-04T00:26:15.746Z"
   },
   {
    "duration": 388,
    "start_time": "2021-09-04T00:26:47.757Z"
   },
   {
    "duration": 41,
    "start_time": "2021-09-04T00:26:54.822Z"
   },
   {
    "duration": 25,
    "start_time": "2021-09-04T00:27:32.320Z"
   },
   {
    "duration": 8,
    "start_time": "2021-09-04T00:29:36.617Z"
   },
   {
    "duration": 3,
    "start_time": "2021-09-04T00:35:04.963Z"
   },
   {
    "duration": 11,
    "start_time": "2021-09-04T00:36:19.049Z"
   },
   {
    "duration": 101,
    "start_time": "2021-09-04T00:37:46.824Z"
   },
   {
    "duration": 8,
    "start_time": "2021-09-04T00:37:54.243Z"
   },
   {
    "duration": 27,
    "start_time": "2021-09-04T00:39:01.316Z"
   },
   {
    "duration": 18,
    "start_time": "2021-09-04T00:43:06.474Z"
   },
   {
    "duration": 22559,
    "start_time": "2021-09-04T01:26:19.832Z"
   },
   {
    "duration": 6081,
    "start_time": "2021-09-04T01:28:17.179Z"
   },
   {
    "duration": 1138,
    "start_time": "2021-09-04T01:32:23.904Z"
   },
   {
    "duration": 1269,
    "start_time": "2021-09-04T01:32:44.619Z"
   },
   {
    "duration": 1371,
    "start_time": "2021-09-04T01:37:38.140Z"
   },
   {
    "duration": 1252,
    "start_time": "2021-09-04T01:38:03.140Z"
   },
   {
    "duration": 16,
    "start_time": "2021-09-04T01:40:50.482Z"
   },
   {
    "duration": 628,
    "start_time": "2021-09-04T01:47:41.869Z"
   },
   {
    "duration": 824,
    "start_time": "2021-09-04T01:48:55.494Z"
   },
   {
    "duration": 34,
    "start_time": "2021-09-04T01:48:56.321Z"
   },
   {
    "duration": 27,
    "start_time": "2021-09-04T01:48:56.359Z"
   },
   {
    "duration": 187,
    "start_time": "2021-09-04T01:48:56.389Z"
   },
   {
    "duration": 20,
    "start_time": "2021-09-04T01:48:56.579Z"
   },
   {
    "duration": 28,
    "start_time": "2021-09-04T01:48:56.601Z"
   },
   {
    "duration": 21,
    "start_time": "2021-09-04T01:48:56.632Z"
   },
   {
    "duration": 27,
    "start_time": "2021-09-04T01:48:56.656Z"
   },
   {
    "duration": 35,
    "start_time": "2021-09-04T01:48:56.687Z"
   },
   {
    "duration": 11,
    "start_time": "2021-09-04T01:48:56.725Z"
   },
   {
    "duration": 32,
    "start_time": "2021-09-04T01:48:56.738Z"
   },
   {
    "duration": 42,
    "start_time": "2021-09-04T01:48:56.772Z"
   },
   {
    "duration": 26,
    "start_time": "2021-09-04T01:48:56.816Z"
   },
   {
    "duration": 35,
    "start_time": "2021-09-04T01:48:56.844Z"
   },
   {
    "duration": 16,
    "start_time": "2021-09-04T01:48:56.881Z"
   },
   {
    "duration": 25,
    "start_time": "2021-09-04T01:48:56.899Z"
   },
   {
    "duration": 21,
    "start_time": "2021-09-04T01:48:56.926Z"
   },
   {
    "duration": 20,
    "start_time": "2021-09-04T01:48:56.949Z"
   },
   {
    "duration": 62,
    "start_time": "2021-09-04T01:48:56.971Z"
   },
   {
    "duration": 17,
    "start_time": "2021-09-04T01:48:57.035Z"
   },
   {
    "duration": 43,
    "start_time": "2021-09-04T01:48:57.055Z"
   },
   {
    "duration": 306,
    "start_time": "2021-09-04T01:49:21.557Z"
   },
   {
    "duration": 260,
    "start_time": "2021-09-04T01:51:03.393Z"
   },
   {
    "duration": 854,
    "start_time": "2021-09-04T01:51:19.942Z"
   },
   {
    "duration": 30,
    "start_time": "2021-09-04T01:51:20.798Z"
   },
   {
    "duration": 36,
    "start_time": "2021-09-04T01:51:20.831Z"
   },
   {
    "duration": 173,
    "start_time": "2021-09-04T01:51:20.869Z"
   },
   {
    "duration": 24,
    "start_time": "2021-09-04T01:51:21.044Z"
   },
   {
    "duration": 14,
    "start_time": "2021-09-04T01:51:21.071Z"
   },
   {
    "duration": 7,
    "start_time": "2021-09-04T01:51:21.087Z"
   },
   {
    "duration": 9,
    "start_time": "2021-09-04T01:51:21.098Z"
   },
   {
    "duration": 52,
    "start_time": "2021-09-04T01:51:21.110Z"
   },
   {
    "duration": 11,
    "start_time": "2021-09-04T01:51:21.164Z"
   },
   {
    "duration": 19,
    "start_time": "2021-09-04T01:51:21.178Z"
   },
   {
    "duration": 37,
    "start_time": "2021-09-04T01:51:21.199Z"
   },
   {
    "duration": 34,
    "start_time": "2021-09-04T01:51:21.239Z"
   },
   {
    "duration": 29,
    "start_time": "2021-09-04T01:51:21.276Z"
   },
   {
    "duration": 49,
    "start_time": "2021-09-04T01:51:21.307Z"
   },
   {
    "duration": 16,
    "start_time": "2021-09-04T01:51:21.358Z"
   },
   {
    "duration": 8,
    "start_time": "2021-09-04T01:51:21.376Z"
   },
   {
    "duration": 23,
    "start_time": "2021-09-04T01:51:21.386Z"
   },
   {
    "duration": 58,
    "start_time": "2021-09-04T01:51:21.411Z"
   },
   {
    "duration": 17,
    "start_time": "2021-09-04T01:51:21.471Z"
   },
   {
    "duration": 24,
    "start_time": "2021-09-04T01:51:21.490Z"
   },
   {
    "duration": 746,
    "start_time": "2021-09-04T01:51:21.517Z"
   },
   {
    "duration": 1449,
    "start_time": "2021-09-04T01:51:22.267Z"
   },
   {
    "duration": 6220,
    "start_time": "2021-09-04T01:51:39.092Z"
   },
   {
    "duration": 266,
    "start_time": "2021-09-04T01:53:19.361Z"
   },
   {
    "duration": 6768,
    "start_time": "2021-09-04T01:53:53.551Z"
   },
   {
    "duration": 6,
    "start_time": "2021-09-04T01:55:02.286Z"
   },
   {
    "duration": 13,
    "start_time": "2021-09-04T01:55:11.253Z"
   },
   {
    "duration": 6726,
    "start_time": "2021-09-04T01:55:48.807Z"
   },
   {
    "duration": 16,
    "start_time": "2021-09-04T01:56:04.659Z"
   },
   {
    "duration": 18,
    "start_time": "2021-09-04T01:56:11.505Z"
   },
   {
    "duration": 620,
    "start_time": "2021-09-04T01:56:43.823Z"
   },
   {
    "duration": 6215,
    "start_time": "2021-09-04T01:57:57.807Z"
   },
   {
    "duration": -317,
    "start_time": "2021-09-04T01:59:05.934Z"
   },
   {
    "duration": 276,
    "start_time": "2021-09-04T01:59:11.184Z"
   },
   {
    "duration": 251,
    "start_time": "2021-09-04T02:00:14.638Z"
   },
   {
    "duration": 418,
    "start_time": "2021-09-04T02:00:50.894Z"
   },
   {
    "duration": 630,
    "start_time": "2021-09-04T02:01:17.167Z"
   },
   {
    "duration": 945,
    "start_time": "2021-09-04T02:01:26.808Z"
   },
   {
    "duration": 675,
    "start_time": "2021-09-04T02:01:35.299Z"
   },
   {
    "duration": 92,
    "start_time": "2021-09-04T02:01:56.212Z"
   },
   {
    "duration": 2376,
    "start_time": "2021-09-04T02:02:06.590Z"
   },
   {
    "duration": 292,
    "start_time": "2021-09-04T02:03:55.994Z"
   },
   {
    "duration": 291,
    "start_time": "2021-09-04T02:04:15.018Z"
   },
   {
    "duration": 304,
    "start_time": "2021-09-04T02:05:19.500Z"
   },
   {
    "duration": 313,
    "start_time": "2021-09-04T02:08:00.110Z"
   },
   {
    "duration": 402,
    "start_time": "2021-09-04T02:11:00.649Z"
   },
   {
    "duration": 773,
    "start_time": "2021-09-04T02:11:24.616Z"
   },
   {
    "duration": 306,
    "start_time": "2021-09-04T02:11:30.637Z"
   },
   {
    "duration": 287,
    "start_time": "2021-09-04T02:13:11.191Z"
   },
   {
    "duration": 318,
    "start_time": "2021-09-04T02:13:31.553Z"
   },
   {
    "duration": 250,
    "start_time": "2021-09-04T02:28:35.890Z"
   },
   {
    "duration": 261,
    "start_time": "2021-09-04T02:30:17.567Z"
   },
   {
    "duration": 2239,
    "start_time": "2021-09-04T02:36:02.815Z"
   },
   {
    "duration": 2646,
    "start_time": "2021-09-04T02:38:54.948Z"
   },
   {
    "duration": 271,
    "start_time": "2021-09-04T02:39:12.891Z"
   },
   {
    "duration": 2293,
    "start_time": "2021-09-04T02:40:07.531Z"
   },
   {
    "duration": 2210,
    "start_time": "2021-09-04T02:41:07.913Z"
   },
   {
    "duration": 6515,
    "start_time": "2021-09-04T02:41:21.882Z"
   },
   {
    "duration": 2539,
    "start_time": "2021-09-04T02:41:38.957Z"
   },
   {
    "duration": 13,
    "start_time": "2021-09-04T02:43:09.295Z"
   },
   {
    "duration": 878,
    "start_time": "2021-09-04T02:44:55.038Z"
   },
   {
    "duration": 43,
    "start_time": "2021-09-04T02:44:55.919Z"
   },
   {
    "duration": 28,
    "start_time": "2021-09-04T02:44:55.966Z"
   },
   {
    "duration": 193,
    "start_time": "2021-09-04T02:44:55.997Z"
   },
   {
    "duration": 21,
    "start_time": "2021-09-04T02:44:56.193Z"
   },
   {
    "duration": 38,
    "start_time": "2021-09-04T02:44:56.216Z"
   },
   {
    "duration": 8,
    "start_time": "2021-09-04T02:44:56.257Z"
   },
   {
    "duration": 10,
    "start_time": "2021-09-04T02:44:56.268Z"
   },
   {
    "duration": 11,
    "start_time": "2021-09-04T02:44:56.281Z"
   },
   {
    "duration": 61,
    "start_time": "2021-09-04T02:44:56.295Z"
   },
   {
    "duration": 15,
    "start_time": "2021-09-04T02:44:56.359Z"
   },
   {
    "duration": 27,
    "start_time": "2021-09-04T02:44:56.376Z"
   },
   {
    "duration": 64,
    "start_time": "2021-09-04T02:44:56.406Z"
   },
   {
    "duration": 31,
    "start_time": "2021-09-04T02:44:56.473Z"
   },
   {
    "duration": 17,
    "start_time": "2021-09-04T02:44:56.506Z"
   },
   {
    "duration": 17,
    "start_time": "2021-09-04T02:44:56.555Z"
   },
   {
    "duration": 8,
    "start_time": "2021-09-04T02:44:56.575Z"
   },
   {
    "duration": 15,
    "start_time": "2021-09-04T02:44:56.585Z"
   },
   {
    "duration": 76,
    "start_time": "2021-09-04T02:44:56.603Z"
   },
   {
    "duration": 16,
    "start_time": "2021-09-04T02:44:56.681Z"
   },
   {
    "duration": 439,
    "start_time": "2021-09-04T02:44:56.700Z"
   },
   {
    "duration": 312,
    "start_time": "2021-09-04T02:44:57.142Z"
   },
   {
    "duration": 317,
    "start_time": "2021-09-04T02:44:57.458Z"
   },
   {
    "duration": 379,
    "start_time": "2021-09-04T02:44:57.778Z"
   },
   {
    "duration": 27,
    "start_time": "2021-09-04T02:44:58.159Z"
   },
   {
    "duration": 599,
    "start_time": "2021-09-04T02:44:58.189Z"
   },
   {
    "duration": 13,
    "start_time": "2021-09-04T02:44:58.790Z"
   },
   {
    "duration": 1473,
    "start_time": "2021-09-04T02:44:58.806Z"
   },
   {
    "duration": 1066,
    "start_time": "2021-09-04T02:45:24.751Z"
   },
   {
    "duration": 1057,
    "start_time": "2021-09-04T02:47:01.475Z"
   },
   {
    "duration": 1147,
    "start_time": "2021-09-04T02:47:36.584Z"
   },
   {
    "duration": 17,
    "start_time": "2021-09-04T02:53:25.698Z"
   },
   {
    "duration": 1493,
    "start_time": "2021-09-04T02:53:31.462Z"
   },
   {
    "duration": 1428,
    "start_time": "2021-09-04T02:53:53.945Z"
   },
   {
    "duration": 1351,
    "start_time": "2021-09-04T02:54:16.070Z"
   },
   {
    "duration": 12,
    "start_time": "2021-09-04T03:01:06.789Z"
   },
   {
    "duration": 64,
    "start_time": "2021-09-04T03:04:18.064Z"
   },
   {
    "duration": 363,
    "start_time": "2021-09-04T03:04:40.768Z"
   },
   {
    "duration": 281,
    "start_time": "2021-09-04T03:04:53.973Z"
   },
   {
    "duration": 281,
    "start_time": "2021-09-04T03:05:08.539Z"
   },
   {
    "duration": 896,
    "start_time": "2021-09-04T03:05:24.017Z"
   },
   {
    "duration": 48,
    "start_time": "2021-09-04T03:05:24.916Z"
   },
   {
    "duration": 24,
    "start_time": "2021-09-04T03:05:24.968Z"
   },
   {
    "duration": 195,
    "start_time": "2021-09-04T03:05:24.996Z"
   },
   {
    "duration": 19,
    "start_time": "2021-09-04T03:05:25.194Z"
   },
   {
    "duration": 39,
    "start_time": "2021-09-04T03:05:25.216Z"
   },
   {
    "duration": 7,
    "start_time": "2021-09-04T03:05:25.258Z"
   },
   {
    "duration": 19,
    "start_time": "2021-09-04T03:05:25.267Z"
   },
   {
    "duration": 21,
    "start_time": "2021-09-04T03:05:25.290Z"
   },
   {
    "duration": 28,
    "start_time": "2021-09-04T03:05:25.314Z"
   },
   {
    "duration": 14,
    "start_time": "2021-09-04T03:05:25.355Z"
   },
   {
    "duration": 36,
    "start_time": "2021-09-04T03:05:25.371Z"
   },
   {
    "duration": 46,
    "start_time": "2021-09-04T03:05:25.410Z"
   },
   {
    "duration": 12,
    "start_time": "2021-09-04T03:05:25.459Z"
   },
   {
    "duration": 86,
    "start_time": "2021-09-04T03:05:25.473Z"
   },
   {
    "duration": 29,
    "start_time": "2021-09-04T03:05:25.562Z"
   },
   {
    "duration": 25,
    "start_time": "2021-09-04T03:05:25.593Z"
   },
   {
    "duration": 46,
    "start_time": "2021-09-04T03:05:25.620Z"
   },
   {
    "duration": 10,
    "start_time": "2021-09-04T03:05:25.669Z"
   },
   {
    "duration": 16,
    "start_time": "2021-09-04T03:05:25.681Z"
   },
   {
    "duration": 58,
    "start_time": "2021-09-04T03:05:25.699Z"
   },
   {
    "duration": 17,
    "start_time": "2021-09-04T03:05:25.759Z"
   },
   {
    "duration": 445,
    "start_time": "2021-09-04T03:05:25.778Z"
   },
   {
    "duration": 320,
    "start_time": "2021-09-04T03:05:26.226Z"
   },
   {
    "duration": 320,
    "start_time": "2021-09-04T03:05:26.548Z"
   },
   {
    "duration": 384,
    "start_time": "2021-09-04T03:05:26.870Z"
   },
   {
    "duration": 22,
    "start_time": "2021-09-04T03:05:27.259Z"
   },
   {
    "duration": 352,
    "start_time": "2021-09-04T03:05:27.283Z"
   },
   {
    "duration": -140,
    "start_time": "2021-09-04T03:05:27.777Z"
   },
   {
    "duration": -141,
    "start_time": "2021-09-04T03:05:27.780Z"
   },
   {
    "duration": 16,
    "start_time": "2021-09-04T03:07:12.300Z"
   },
   {
    "duration": 263,
    "start_time": "2021-09-04T03:07:16.446Z"
   },
   {
    "duration": 1773,
    "start_time": "2021-09-04T03:07:27.643Z"
   },
   {
    "duration": 1608,
    "start_time": "2021-09-04T03:07:45.557Z"
   },
   {
    "duration": 964,
    "start_time": "2021-09-04T09:39:14.694Z"
   },
   {
    "duration": 31,
    "start_time": "2021-09-04T09:39:15.660Z"
   },
   {
    "duration": 42,
    "start_time": "2021-09-04T09:39:15.694Z"
   },
   {
    "duration": 195,
    "start_time": "2021-09-04T09:39:15.739Z"
   },
   {
    "duration": 20,
    "start_time": "2021-09-04T09:39:15.937Z"
   },
   {
    "duration": 13,
    "start_time": "2021-09-04T09:39:15.960Z"
   },
   {
    "duration": 11,
    "start_time": "2021-09-04T09:39:15.975Z"
   },
   {
    "duration": 10,
    "start_time": "2021-09-04T09:39:16.019Z"
   },
   {
    "duration": 15,
    "start_time": "2021-09-04T09:39:16.032Z"
   },
   {
    "duration": 17,
    "start_time": "2021-09-04T09:39:16.049Z"
   },
   {
    "duration": 16,
    "start_time": "2021-09-04T09:39:16.069Z"
   },
   {
    "duration": 23,
    "start_time": "2021-09-04T09:39:16.116Z"
   },
   {
    "duration": 23,
    "start_time": "2021-09-04T09:39:16.142Z"
   },
   {
    "duration": 13,
    "start_time": "2021-09-04T09:39:16.167Z"
   },
   {
    "duration": 100,
    "start_time": "2021-09-04T09:39:16.182Z"
   },
   {
    "duration": 55,
    "start_time": "2021-09-04T09:39:16.284Z"
   },
   {
    "duration": 17,
    "start_time": "2021-09-04T09:39:16.341Z"
   },
   {
    "duration": 17,
    "start_time": "2021-09-04T09:39:16.360Z"
   },
   {
    "duration": 38,
    "start_time": "2021-09-04T09:39:16.380Z"
   },
   {
    "duration": 17,
    "start_time": "2021-09-04T09:39:16.421Z"
   },
   {
    "duration": 34,
    "start_time": "2021-09-04T09:39:16.440Z"
   },
   {
    "duration": 16,
    "start_time": "2021-09-04T09:39:16.477Z"
   },
   {
    "duration": 21,
    "start_time": "2021-09-04T09:39:16.518Z"
   },
   {
    "duration": 1985,
    "start_time": "2021-09-04T09:39:16.542Z"
   },
   {
    "duration": 8,
    "start_time": "2021-09-04T09:39:18.530Z"
   },
   {
    "duration": 1920,
    "start_time": "2021-09-04T09:39:18.541Z"
   },
   {
    "duration": 6,
    "start_time": "2021-09-04T09:52:32.126Z"
   },
   {
    "duration": 485,
    "start_time": "2021-09-04T10:08:50.082Z"
   },
   {
    "duration": 934,
    "start_time": "2021-09-04T10:09:17.123Z"
   },
   {
    "duration": 32,
    "start_time": "2021-09-04T10:09:18.059Z"
   },
   {
    "duration": 41,
    "start_time": "2021-09-04T10:09:18.094Z"
   },
   {
    "duration": 208,
    "start_time": "2021-09-04T10:09:18.138Z"
   },
   {
    "duration": 22,
    "start_time": "2021-09-04T10:09:18.348Z"
   },
   {
    "duration": 10,
    "start_time": "2021-09-04T10:09:18.373Z"
   },
   {
    "duration": 35,
    "start_time": "2021-09-04T10:09:18.385Z"
   },
   {
    "duration": 10,
    "start_time": "2021-09-04T10:09:18.422Z"
   },
   {
    "duration": 11,
    "start_time": "2021-09-04T10:09:18.436Z"
   },
   {
    "duration": 7,
    "start_time": "2021-09-04T10:09:18.450Z"
   },
   {
    "duration": 14,
    "start_time": "2021-09-04T10:09:18.460Z"
   },
   {
    "duration": 61,
    "start_time": "2021-09-04T10:09:18.476Z"
   },
   {
    "duration": 21,
    "start_time": "2021-09-04T10:09:18.539Z"
   },
   {
    "duration": 12,
    "start_time": "2021-09-04T10:09:18.563Z"
   },
   {
    "duration": 65,
    "start_time": "2021-09-04T10:09:18.616Z"
   },
   {
    "duration": 47,
    "start_time": "2021-09-04T10:09:18.684Z"
   },
   {
    "duration": 16,
    "start_time": "2021-09-04T10:09:18.733Z"
   },
   {
    "duration": 15,
    "start_time": "2021-09-04T10:09:18.752Z"
   },
   {
    "duration": 7,
    "start_time": "2021-09-04T10:09:18.769Z"
   },
   {
    "duration": 45,
    "start_time": "2021-09-04T10:09:18.778Z"
   },
   {
    "duration": 44,
    "start_time": "2021-09-04T10:09:18.825Z"
   },
   {
    "duration": 16,
    "start_time": "2021-09-04T10:09:18.872Z"
   },
   {
    "duration": 41,
    "start_time": "2021-09-04T10:09:18.890Z"
   },
   {
    "duration": 1883,
    "start_time": "2021-09-04T10:09:18.933Z"
   },
   {
    "duration": 691,
    "start_time": "2021-09-04T10:09:20.819Z"
   },
   {
    "duration": -110,
    "start_time": "2021-09-04T10:09:21.623Z"
   },
   {
    "duration": 17,
    "start_time": "2021-09-04T10:09:35.437Z"
   },
   {
    "duration": 403,
    "start_time": "2021-09-04T10:10:29.903Z"
   },
   {
    "duration": 403,
    "start_time": "2021-09-04T10:10:48.608Z"
   },
   {
    "duration": 17,
    "start_time": "2021-09-04T10:10:56.737Z"
   },
   {
    "duration": 359,
    "start_time": "2021-09-04T10:27:32.725Z"
   },
   {
    "duration": 135,
    "start_time": "2021-09-04T10:28:25.201Z"
   },
   {
    "duration": 83,
    "start_time": "2021-09-04T10:29:48.351Z"
   },
   {
    "duration": 10,
    "start_time": "2021-09-04T10:32:19.980Z"
   },
   {
    "duration": 9,
    "start_time": "2021-09-04T10:32:23.001Z"
   },
   {
    "duration": 944,
    "start_time": "2021-09-04T10:32:32.837Z"
   },
   {
    "duration": 37,
    "start_time": "2021-09-04T10:32:33.783Z"
   },
   {
    "duration": 27,
    "start_time": "2021-09-04T10:32:33.823Z"
   },
   {
    "duration": 209,
    "start_time": "2021-09-04T10:32:33.853Z"
   },
   {
    "duration": 21,
    "start_time": "2021-09-04T10:32:34.064Z"
   },
   {
    "duration": 33,
    "start_time": "2021-09-04T10:32:34.088Z"
   },
   {
    "duration": 8,
    "start_time": "2021-09-04T10:32:34.124Z"
   },
   {
    "duration": 11,
    "start_time": "2021-09-04T10:32:34.136Z"
   },
   {
    "duration": 17,
    "start_time": "2021-09-04T10:32:34.150Z"
   },
   {
    "duration": 9,
    "start_time": "2021-09-04T10:32:34.170Z"
   },
   {
    "duration": 49,
    "start_time": "2021-09-04T10:32:34.181Z"
   },
   {
    "duration": 26,
    "start_time": "2021-09-04T10:32:34.233Z"
   },
   {
    "duration": 24,
    "start_time": "2021-09-04T10:32:34.262Z"
   },
   {
    "duration": 14,
    "start_time": "2021-09-04T10:32:34.317Z"
   },
   {
    "duration": 89,
    "start_time": "2021-09-04T10:32:34.333Z"
   },
   {
    "duration": 31,
    "start_time": "2021-09-04T10:32:34.424Z"
   },
   {
    "duration": 16,
    "start_time": "2021-09-04T10:32:34.457Z"
   },
   {
    "duration": 45,
    "start_time": "2021-09-04T10:32:34.475Z"
   },
   {
    "duration": 9,
    "start_time": "2021-09-04T10:32:34.522Z"
   },
   {
    "duration": 16,
    "start_time": "2021-09-04T10:32:34.533Z"
   },
   {
    "duration": 77,
    "start_time": "2021-09-04T10:32:34.552Z"
   },
   {
    "duration": 25,
    "start_time": "2021-09-04T10:32:34.632Z"
   },
   {
    "duration": 52,
    "start_time": "2021-09-04T10:32:34.664Z"
   },
   {
    "duration": 2968,
    "start_time": "2021-09-04T10:32:34.720Z"
   },
   {
    "duration": 35,
    "start_time": "2021-09-04T10:32:37.692Z"
   },
   {
    "duration": 3276,
    "start_time": "2021-09-04T10:32:37.730Z"
   },
   {
    "duration": 11,
    "start_time": "2021-09-04T10:33:08.807Z"
   },
   {
    "duration": 10,
    "start_time": "2021-09-04T10:33:52.607Z"
   },
   {
    "duration": 9,
    "start_time": "2021-09-04T10:34:02.223Z"
   },
   {
    "duration": 963,
    "start_time": "2021-09-04T10:34:13.315Z"
   },
   {
    "duration": 41,
    "start_time": "2021-09-04T10:34:14.281Z"
   },
   {
    "duration": 26,
    "start_time": "2021-09-04T10:34:14.325Z"
   },
   {
    "duration": 210,
    "start_time": "2021-09-04T10:34:14.354Z"
   },
   {
    "duration": 22,
    "start_time": "2021-09-04T10:34:14.567Z"
   },
   {
    "duration": 34,
    "start_time": "2021-09-04T10:34:14.592Z"
   },
   {
    "duration": 10,
    "start_time": "2021-09-04T10:34:14.629Z"
   },
   {
    "duration": 14,
    "start_time": "2021-09-04T10:34:14.644Z"
   },
   {
    "duration": 54,
    "start_time": "2021-09-04T10:34:14.662Z"
   },
   {
    "duration": 9,
    "start_time": "2021-09-04T10:34:14.719Z"
   },
   {
    "duration": 18,
    "start_time": "2021-09-04T10:34:14.731Z"
   },
   {
    "duration": 25,
    "start_time": "2021-09-04T10:34:14.752Z"
   },
   {
    "duration": 58,
    "start_time": "2021-09-04T10:34:14.780Z"
   },
   {
    "duration": 13,
    "start_time": "2021-09-04T10:34:14.840Z"
   },
   {
    "duration": 102,
    "start_time": "2021-09-04T10:34:14.856Z"
   },
   {
    "duration": 32,
    "start_time": "2021-09-04T10:34:14.960Z"
   },
   {
    "duration": 38,
    "start_time": "2021-09-04T10:34:14.994Z"
   },
   {
    "duration": 21,
    "start_time": "2021-09-04T10:34:15.035Z"
   },
   {
    "duration": 9,
    "start_time": "2021-09-04T10:34:15.059Z"
   },
   {
    "duration": 48,
    "start_time": "2021-09-04T10:34:15.070Z"
   },
   {
    "duration": 37,
    "start_time": "2021-09-04T10:34:15.121Z"
   },
   {
    "duration": 19,
    "start_time": "2021-09-04T10:34:15.161Z"
   },
   {
    "duration": 31,
    "start_time": "2021-09-04T10:34:15.215Z"
   },
   {
    "duration": 2947,
    "start_time": "2021-09-04T10:34:15.250Z"
   },
   {
    "duration": 21,
    "start_time": "2021-09-04T10:34:18.201Z"
   },
   {
    "duration": 3111,
    "start_time": "2021-09-04T10:34:18.225Z"
   },
   {
    "duration": 14,
    "start_time": "2021-09-04T10:35:20.750Z"
   },
   {
    "duration": 334,
    "start_time": "2021-09-04T10:35:45.523Z"
   },
   {
    "duration": 11,
    "start_time": "2021-09-04T10:37:14.223Z"
   },
   {
    "duration": 12,
    "start_time": "2021-09-04T10:38:04.575Z"
   },
   {
    "duration": 17,
    "start_time": "2021-09-04T10:39:00.671Z"
   },
   {
    "duration": 17,
    "start_time": "2021-09-04T10:39:28.612Z"
   },
   {
    "duration": 12,
    "start_time": "2021-09-04T10:39:51.846Z"
   },
   {
    "duration": 15,
    "start_time": "2021-09-04T10:41:23.890Z"
   },
   {
    "duration": 14,
    "start_time": "2021-09-04T10:42:07.840Z"
   },
   {
    "duration": 306,
    "start_time": "2021-09-04T10:42:47.300Z"
   },
   {
    "duration": 1014,
    "start_time": "2021-09-04T10:43:01.797Z"
   },
   {
    "duration": 34,
    "start_time": "2021-09-04T10:43:02.817Z"
   },
   {
    "duration": 27,
    "start_time": "2021-09-04T10:43:02.854Z"
   },
   {
    "duration": 209,
    "start_time": "2021-09-04T10:43:02.883Z"
   },
   {
    "duration": 34,
    "start_time": "2021-09-04T10:43:03.095Z"
   },
   {
    "duration": 10,
    "start_time": "2021-09-04T10:43:03.131Z"
   },
   {
    "duration": 7,
    "start_time": "2021-09-04T10:43:03.144Z"
   },
   {
    "duration": 16,
    "start_time": "2021-09-04T10:43:03.153Z"
   },
   {
    "duration": 42,
    "start_time": "2021-09-04T10:43:03.174Z"
   },
   {
    "duration": 8,
    "start_time": "2021-09-04T10:43:03.220Z"
   },
   {
    "duration": 17,
    "start_time": "2021-09-04T10:43:03.230Z"
   },
   {
    "duration": 28,
    "start_time": "2021-09-04T10:43:03.250Z"
   },
   {
    "duration": 57,
    "start_time": "2021-09-04T10:43:03.281Z"
   },
   {
    "duration": 15,
    "start_time": "2021-09-04T10:43:03.341Z"
   },
   {
    "duration": 104,
    "start_time": "2021-09-04T10:43:03.359Z"
   },
   {
    "duration": 51,
    "start_time": "2021-09-04T10:43:03.467Z"
   },
   {
    "duration": 19,
    "start_time": "2021-09-04T10:43:03.521Z"
   },
   {
    "duration": 19,
    "start_time": "2021-09-04T10:43:03.543Z"
   },
   {
    "duration": 9,
    "start_time": "2021-09-04T10:43:03.565Z"
   },
   {
    "duration": 48,
    "start_time": "2021-09-04T10:43:03.576Z"
   },
   {
    "duration": 32,
    "start_time": "2021-09-04T10:43:03.627Z"
   },
   {
    "duration": 62,
    "start_time": "2021-09-04T10:43:03.662Z"
   },
   {
    "duration": 21,
    "start_time": "2021-09-04T10:43:03.726Z"
   },
   {
    "duration": 2006,
    "start_time": "2021-09-04T10:43:03.750Z"
   },
   {
    "duration": 344,
    "start_time": "2021-09-04T10:43:05.758Z"
   },
   {
    "duration": 2336,
    "start_time": "2021-09-04T10:43:06.105Z"
   },
   {
    "duration": 568,
    "start_time": "2021-09-04T10:43:37.434Z"
   },
   {
    "duration": 10,
    "start_time": "2021-09-04T10:43:52.999Z"
   },
   {
    "duration": 958,
    "start_time": "2021-09-04T10:44:12.550Z"
   },
   {
    "duration": 35,
    "start_time": "2021-09-04T10:44:13.511Z"
   },
   {
    "duration": 27,
    "start_time": "2021-09-04T10:44:13.549Z"
   },
   {
    "duration": 309,
    "start_time": "2021-09-04T10:44:13.579Z"
   },
   {
    "duration": 34,
    "start_time": "2021-09-04T10:44:13.891Z"
   },
   {
    "duration": 15,
    "start_time": "2021-09-04T10:44:13.928Z"
   },
   {
    "duration": 16,
    "start_time": "2021-09-04T10:44:13.945Z"
   },
   {
    "duration": 11,
    "start_time": "2021-09-04T10:44:13.964Z"
   },
   {
    "duration": 41,
    "start_time": "2021-09-04T10:44:13.979Z"
   },
   {
    "duration": 8,
    "start_time": "2021-09-04T10:44:14.023Z"
   },
   {
    "duration": 23,
    "start_time": "2021-09-04T10:44:14.034Z"
   },
   {
    "duration": 34,
    "start_time": "2021-09-04T10:44:14.059Z"
   },
   {
    "duration": 24,
    "start_time": "2021-09-04T10:44:14.117Z"
   },
   {
    "duration": 13,
    "start_time": "2021-09-04T10:44:14.144Z"
   },
   {
    "duration": 97,
    "start_time": "2021-09-04T10:44:14.160Z"
   },
   {
    "duration": 30,
    "start_time": "2021-09-04T10:44:14.259Z"
   },
   {
    "duration": 37,
    "start_time": "2021-09-04T10:44:14.291Z"
   },
   {
    "duration": 17,
    "start_time": "2021-09-04T10:44:14.331Z"
   },
   {
    "duration": 8,
    "start_time": "2021-09-04T10:44:14.350Z"
   },
   {
    "duration": 13,
    "start_time": "2021-09-04T10:44:14.360Z"
   },
   {
    "duration": 67,
    "start_time": "2021-09-04T10:44:14.375Z"
   },
   {
    "duration": 19,
    "start_time": "2021-09-04T10:44:14.444Z"
   },
   {
    "duration": 27,
    "start_time": "2021-09-04T10:44:14.465Z"
   },
   {
    "duration": 1992,
    "start_time": "2021-09-04T10:44:14.516Z"
   },
   {
    "duration": 14,
    "start_time": "2021-09-04T10:44:16.510Z"
   },
   {
    "duration": 2007,
    "start_time": "2021-09-04T10:44:16.527Z"
   },
   {
    "duration": 306,
    "start_time": "2021-09-04T10:44:33.928Z"
   },
   {
    "duration": 320,
    "start_time": "2021-09-04T10:45:18.699Z"
   },
   {
    "duration": 504,
    "start_time": "2021-09-04T10:48:00.307Z"
   },
   {
    "duration": 956,
    "start_time": "2021-09-04T10:48:11.656Z"
   },
   {
    "duration": 31,
    "start_time": "2021-09-04T10:48:12.615Z"
   },
   {
    "duration": 27,
    "start_time": "2021-09-04T10:48:12.649Z"
   },
   {
    "duration": 209,
    "start_time": "2021-09-04T10:48:12.679Z"
   },
   {
    "duration": 36,
    "start_time": "2021-09-04T10:48:12.892Z"
   },
   {
    "duration": 11,
    "start_time": "2021-09-04T10:48:12.932Z"
   },
   {
    "duration": 9,
    "start_time": "2021-09-04T10:48:12.946Z"
   },
   {
    "duration": 18,
    "start_time": "2021-09-04T10:48:12.959Z"
   },
   {
    "duration": 45,
    "start_time": "2021-09-04T10:48:12.980Z"
   },
   {
    "duration": 11,
    "start_time": "2021-09-04T10:48:13.027Z"
   },
   {
    "duration": 24,
    "start_time": "2021-09-04T10:48:13.041Z"
   },
   {
    "duration": 49,
    "start_time": "2021-09-04T10:48:13.068Z"
   },
   {
    "duration": 24,
    "start_time": "2021-09-04T10:48:13.119Z"
   },
   {
    "duration": 12,
    "start_time": "2021-09-04T10:48:13.146Z"
   },
   {
    "duration": 97,
    "start_time": "2021-09-04T10:48:13.161Z"
   },
   {
    "duration": 33,
    "start_time": "2021-09-04T10:48:13.261Z"
   },
   {
    "duration": 19,
    "start_time": "2021-09-04T10:48:13.317Z"
   },
   {
    "duration": 19,
    "start_time": "2021-09-04T10:48:13.339Z"
   },
   {
    "duration": 10,
    "start_time": "2021-09-04T10:48:13.361Z"
   },
   {
    "duration": 11,
    "start_time": "2021-09-04T10:48:13.418Z"
   },
   {
    "duration": 38,
    "start_time": "2021-09-04T10:48:13.432Z"
   },
   {
    "duration": 48,
    "start_time": "2021-09-04T10:48:13.473Z"
   },
   {
    "duration": 22,
    "start_time": "2021-09-04T10:48:13.528Z"
   },
   {
    "duration": 2065,
    "start_time": "2021-09-04T10:48:13.554Z"
   },
   {
    "duration": 353,
    "start_time": "2021-09-04T10:48:15.622Z"
   },
   {
    "duration": 2019,
    "start_time": "2021-09-04T10:48:15.978Z"
   },
   {
    "duration": 10,
    "start_time": "2021-09-04T10:49:14.328Z"
   },
   {
    "duration": 321,
    "start_time": "2021-09-04T10:49:39.319Z"
   },
   {
    "duration": 317,
    "start_time": "2021-09-04T10:49:44.927Z"
   },
   {
    "duration": 929,
    "start_time": "2021-09-04T10:50:14.256Z"
   },
   {
    "duration": 41,
    "start_time": "2021-09-04T10:50:15.188Z"
   },
   {
    "duration": 27,
    "start_time": "2021-09-04T10:50:15.233Z"
   },
   {
    "duration": 199,
    "start_time": "2021-09-04T10:50:15.263Z"
   },
   {
    "duration": 22,
    "start_time": "2021-09-04T10:50:15.464Z"
   },
   {
    "duration": 30,
    "start_time": "2021-09-04T10:50:15.489Z"
   },
   {
    "duration": 7,
    "start_time": "2021-09-04T10:50:15.522Z"
   },
   {
    "duration": 17,
    "start_time": "2021-09-04T10:50:15.532Z"
   },
   {
    "duration": 11,
    "start_time": "2021-09-04T10:50:15.552Z"
   },
   {
    "duration": 7,
    "start_time": "2021-09-04T10:50:15.566Z"
   },
   {
    "duration": 53,
    "start_time": "2021-09-04T10:50:15.576Z"
   },
   {
    "duration": 38,
    "start_time": "2021-09-04T10:50:15.631Z"
   },
   {
    "duration": 23,
    "start_time": "2021-09-04T10:50:15.672Z"
   },
   {
    "duration": 13,
    "start_time": "2021-09-04T10:50:15.717Z"
   },
   {
    "duration": 70,
    "start_time": "2021-09-04T10:50:15.732Z"
   },
   {
    "duration": 38,
    "start_time": "2021-09-04T10:50:15.805Z"
   },
   {
    "duration": 17,
    "start_time": "2021-09-04T10:50:15.845Z"
   },
   {
    "duration": 52,
    "start_time": "2021-09-04T10:50:15.864Z"
   },
   {
    "duration": 9,
    "start_time": "2021-09-04T10:50:15.918Z"
   },
   {
    "duration": 10,
    "start_time": "2021-09-04T10:50:15.929Z"
   },
   {
    "duration": 29,
    "start_time": "2021-09-04T10:50:15.942Z"
   },
   {
    "duration": 51,
    "start_time": "2021-09-04T10:50:15.973Z"
   },
   {
    "duration": 22,
    "start_time": "2021-09-04T10:50:16.029Z"
   },
   {
    "duration": 1867,
    "start_time": "2021-09-04T10:50:16.053Z"
   },
   {
    "duration": 335,
    "start_time": "2021-09-04T10:50:17.923Z"
   },
   {
    "duration": 1933,
    "start_time": "2021-09-04T10:50:18.261Z"
   },
   {
    "duration": 9,
    "start_time": "2021-09-04T10:50:50.154Z"
   },
   {
    "duration": 8,
    "start_time": "2021-09-04T10:54:51.600Z"
   },
   {
    "duration": 6,
    "start_time": "2021-09-04T10:55:33.104Z"
   },
   {
    "duration": 12,
    "start_time": "2021-09-04T10:58:54.537Z"
   },
   {
    "duration": 309,
    "start_time": "2021-09-04T10:59:31.225Z"
   },
   {
    "duration": 279,
    "start_time": "2021-09-04T11:00:17.430Z"
   },
   {
    "duration": 11,
    "start_time": "2021-09-04T11:04:19.405Z"
   },
   {
    "duration": 287,
    "start_time": "2021-09-04T11:28:13.180Z"
   },
   {
    "duration": 445,
    "start_time": "2021-09-04T11:29:25.738Z"
   },
   {
    "duration": 309,
    "start_time": "2021-09-04T11:29:54.781Z"
   },
   {
    "duration": 290,
    "start_time": "2021-09-04T11:30:50.451Z"
   },
   {
    "duration": 309,
    "start_time": "2021-09-04T11:30:55.667Z"
   },
   {
    "duration": 929,
    "start_time": "2021-09-04T11:31:17.049Z"
   },
   {
    "duration": 48,
    "start_time": "2021-09-04T11:31:17.980Z"
   },
   {
    "duration": 26,
    "start_time": "2021-09-04T11:31:18.031Z"
   },
   {
    "duration": 198,
    "start_time": "2021-09-04T11:31:18.060Z"
   },
   {
    "duration": 23,
    "start_time": "2021-09-04T11:31:18.261Z"
   },
   {
    "duration": 37,
    "start_time": "2021-09-04T11:31:18.287Z"
   },
   {
    "duration": 9,
    "start_time": "2021-09-04T11:31:18.327Z"
   },
   {
    "duration": 10,
    "start_time": "2021-09-04T11:31:18.341Z"
   },
   {
    "duration": 12,
    "start_time": "2021-09-04T11:31:18.355Z"
   },
   {
    "duration": 55,
    "start_time": "2021-09-04T11:31:18.369Z"
   },
   {
    "duration": 19,
    "start_time": "2021-09-04T11:31:18.427Z"
   },
   {
    "duration": 70,
    "start_time": "2021-09-04T11:31:18.449Z"
   },
   {
    "duration": 24,
    "start_time": "2021-09-04T11:31:18.522Z"
   },
   {
    "duration": 13,
    "start_time": "2021-09-04T11:31:18.549Z"
   },
   {
    "duration": 107,
    "start_time": "2021-09-04T11:31:18.565Z"
   },
   {
    "duration": 44,
    "start_time": "2021-09-04T11:31:18.674Z"
   },
   {
    "duration": 16,
    "start_time": "2021-09-04T11:31:18.720Z"
   },
   {
    "duration": 15,
    "start_time": "2021-09-04T11:31:18.739Z"
   },
   {
    "duration": 8,
    "start_time": "2021-09-04T11:31:18.757Z"
   },
   {
    "duration": 52,
    "start_time": "2021-09-04T11:31:18.767Z"
   },
   {
    "duration": 30,
    "start_time": "2021-09-04T11:31:18.821Z"
   },
   {
    "duration": 17,
    "start_time": "2021-09-04T11:31:18.853Z"
   },
   {
    "duration": 49,
    "start_time": "2021-09-04T11:31:18.875Z"
   },
   {
    "duration": 2434,
    "start_time": "2021-09-04T11:31:18.927Z"
   },
   {
    "duration": 510,
    "start_time": "2021-09-04T11:31:21.365Z"
   },
   {
    "duration": 517,
    "start_time": "2021-09-04T11:31:21.878Z"
   },
   {
    "duration": 2115,
    "start_time": "2021-09-04T11:31:22.397Z"
   },
   {
    "duration": 309,
    "start_time": "2021-09-04T11:31:41.107Z"
   },
   {
    "duration": 911,
    "start_time": "2021-09-04T11:31:51.949Z"
   },
   {
    "duration": 34,
    "start_time": "2021-09-04T11:31:52.863Z"
   },
   {
    "duration": 39,
    "start_time": "2021-09-04T11:31:52.900Z"
   },
   {
    "duration": 185,
    "start_time": "2021-09-04T11:31:52.941Z"
   },
   {
    "duration": 21,
    "start_time": "2021-09-04T11:31:53.128Z"
   },
   {
    "duration": 16,
    "start_time": "2021-09-04T11:31:53.151Z"
   },
   {
    "duration": 24,
    "start_time": "2021-09-04T11:31:53.169Z"
   },
   {
    "duration": 22,
    "start_time": "2021-09-04T11:31:53.197Z"
   },
   {
    "duration": 13,
    "start_time": "2021-09-04T11:31:53.222Z"
   },
   {
    "duration": 11,
    "start_time": "2021-09-04T11:31:53.237Z"
   },
   {
    "duration": 21,
    "start_time": "2021-09-04T11:31:53.251Z"
   },
   {
    "duration": 54,
    "start_time": "2021-09-04T11:31:53.274Z"
   },
   {
    "duration": 23,
    "start_time": "2021-09-04T11:31:53.331Z"
   },
   {
    "duration": 13,
    "start_time": "2021-09-04T11:31:53.356Z"
   },
   {
    "duration": 98,
    "start_time": "2021-09-04T11:31:53.371Z"
   },
   {
    "duration": 47,
    "start_time": "2021-09-04T11:31:53.471Z"
   },
   {
    "duration": 16,
    "start_time": "2021-09-04T11:31:53.521Z"
   },
   {
    "duration": 17,
    "start_time": "2021-09-04T11:31:53.540Z"
   },
   {
    "duration": 8,
    "start_time": "2021-09-04T11:31:53.559Z"
   },
   {
    "duration": 49,
    "start_time": "2021-09-04T11:31:53.570Z"
   },
   {
    "duration": 27,
    "start_time": "2021-09-04T11:31:53.621Z"
   },
   {
    "duration": 16,
    "start_time": "2021-09-04T11:31:53.651Z"
   },
   {
    "duration": 53,
    "start_time": "2021-09-04T11:31:53.671Z"
   },
   {
    "duration": 1829,
    "start_time": "2021-09-04T11:31:53.726Z"
   },
   {
    "duration": 332,
    "start_time": "2021-09-04T11:31:55.557Z"
   },
   {
    "duration": 336,
    "start_time": "2021-09-04T11:31:55.891Z"
   },
   {
    "duration": 1932,
    "start_time": "2021-09-04T11:31:56.229Z"
   },
   {
    "duration": 310,
    "start_time": "2021-09-04T11:32:20.609Z"
   },
   {
    "duration": 981,
    "start_time": "2021-09-04T11:32:28.887Z"
   },
   {
    "duration": 31,
    "start_time": "2021-09-04T11:32:29.871Z"
   },
   {
    "duration": 26,
    "start_time": "2021-09-04T11:32:29.918Z"
   },
   {
    "duration": 197,
    "start_time": "2021-09-04T11:32:29.947Z"
   },
   {
    "duration": 22,
    "start_time": "2021-09-04T11:32:30.147Z"
   },
   {
    "duration": 10,
    "start_time": "2021-09-04T11:32:30.171Z"
   },
   {
    "duration": 37,
    "start_time": "2021-09-04T11:32:30.184Z"
   },
   {
    "duration": 14,
    "start_time": "2021-09-04T11:32:30.224Z"
   },
   {
    "duration": 18,
    "start_time": "2021-09-04T11:32:30.242Z"
   },
   {
    "duration": 24,
    "start_time": "2021-09-04T11:32:30.263Z"
   },
   {
    "duration": 35,
    "start_time": "2021-09-04T11:32:30.289Z"
   },
   {
    "duration": 52,
    "start_time": "2021-09-04T11:32:30.327Z"
   },
   {
    "duration": 23,
    "start_time": "2021-09-04T11:32:30.381Z"
   },
   {
    "duration": 16,
    "start_time": "2021-09-04T11:32:30.407Z"
   },
   {
    "duration": 86,
    "start_time": "2021-09-04T11:32:30.426Z"
   },
   {
    "duration": 31,
    "start_time": "2021-09-04T11:32:30.516Z"
   },
   {
    "duration": 46,
    "start_time": "2021-09-04T11:32:30.550Z"
   },
   {
    "duration": 39,
    "start_time": "2021-09-04T11:32:30.598Z"
   },
   {
    "duration": 23,
    "start_time": "2021-09-04T11:32:30.639Z"
   },
   {
    "duration": 33,
    "start_time": "2021-09-04T11:32:30.664Z"
   },
   {
    "duration": 50,
    "start_time": "2021-09-04T11:32:30.699Z"
   },
   {
    "duration": 17,
    "start_time": "2021-09-04T11:32:30.752Z"
   },
   {
    "duration": 43,
    "start_time": "2021-09-04T11:32:30.772Z"
   },
   {
    "duration": 1892,
    "start_time": "2021-09-04T11:32:30.818Z"
   },
   {
    "duration": 341,
    "start_time": "2021-09-04T11:32:32.716Z"
   },
   {
    "duration": 323,
    "start_time": "2021-09-04T11:32:33.059Z"
   },
   {
    "duration": 1999,
    "start_time": "2021-09-04T11:32:33.386Z"
   },
   {
    "duration": 1123,
    "start_time": "2021-09-04T11:35:05.156Z"
   },
   {
    "duration": 43,
    "start_time": "2021-09-04T11:35:06.282Z"
   },
   {
    "duration": 28,
    "start_time": "2021-09-04T11:35:06.329Z"
   },
   {
    "duration": 209,
    "start_time": "2021-09-04T11:35:06.361Z"
   },
   {
    "duration": 46,
    "start_time": "2021-09-04T11:35:06.573Z"
   },
   {
    "duration": 19,
    "start_time": "2021-09-04T11:35:06.621Z"
   },
   {
    "duration": 17,
    "start_time": "2021-09-04T11:35:06.643Z"
   },
   {
    "duration": 12,
    "start_time": "2021-09-04T11:35:06.664Z"
   },
   {
    "duration": 23,
    "start_time": "2021-09-04T11:35:06.679Z"
   },
   {
    "duration": 10,
    "start_time": "2021-09-04T11:35:06.717Z"
   },
   {
    "duration": 15,
    "start_time": "2021-09-04T11:35:06.729Z"
   },
   {
    "duration": 51,
    "start_time": "2021-09-04T11:35:06.746Z"
   },
   {
    "duration": 34,
    "start_time": "2021-09-04T11:35:06.799Z"
   },
   {
    "duration": 12,
    "start_time": "2021-09-04T11:35:06.835Z"
   },
   {
    "duration": 94,
    "start_time": "2021-09-04T11:35:06.849Z"
   },
   {
    "duration": 31,
    "start_time": "2021-09-04T11:35:06.945Z"
   },
   {
    "duration": 39,
    "start_time": "2021-09-04T11:35:06.979Z"
   },
   {
    "duration": 18,
    "start_time": "2021-09-04T11:35:07.020Z"
   },
   {
    "duration": 8,
    "start_time": "2021-09-04T11:35:07.041Z"
   },
   {
    "duration": 14,
    "start_time": "2021-09-04T11:35:07.052Z"
   },
   {
    "duration": 60,
    "start_time": "2021-09-04T11:35:07.069Z"
   },
   {
    "duration": 18,
    "start_time": "2021-09-04T11:35:07.132Z"
   },
   {
    "duration": 26,
    "start_time": "2021-09-04T11:35:07.155Z"
   },
   {
    "duration": 2011,
    "start_time": "2021-09-04T11:35:07.184Z"
   },
   {
    "duration": 346,
    "start_time": "2021-09-04T11:35:09.198Z"
   },
   {
    "duration": 328,
    "start_time": "2021-09-04T11:35:09.547Z"
   },
   {
    "duration": 2094,
    "start_time": "2021-09-04T11:35:09.878Z"
   },
   {
    "duration": 1083,
    "start_time": "2021-09-04T11:35:58.510Z"
   },
   {
    "duration": 40,
    "start_time": "2021-09-04T11:35:59.596Z"
   },
   {
    "duration": 25,
    "start_time": "2021-09-04T11:35:59.639Z"
   },
   {
    "duration": 198,
    "start_time": "2021-09-04T11:35:59.667Z"
   },
   {
    "duration": 20,
    "start_time": "2021-09-04T11:35:59.867Z"
   },
   {
    "duration": 29,
    "start_time": "2021-09-04T11:35:59.890Z"
   },
   {
    "duration": 7,
    "start_time": "2021-09-04T11:35:59.922Z"
   },
   {
    "duration": 9,
    "start_time": "2021-09-04T11:35:59.931Z"
   },
   {
    "duration": 11,
    "start_time": "2021-09-04T11:35:59.944Z"
   },
   {
    "duration": 8,
    "start_time": "2021-09-04T11:35:59.958Z"
   },
   {
    "duration": 60,
    "start_time": "2021-09-04T11:35:59.968Z"
   },
   {
    "duration": 35,
    "start_time": "2021-09-04T11:36:00.030Z"
   },
   {
    "duration": 25,
    "start_time": "2021-09-04T11:36:00.067Z"
   },
   {
    "duration": 30,
    "start_time": "2021-09-04T11:36:00.094Z"
   },
   {
    "duration": 72,
    "start_time": "2021-09-04T11:36:00.126Z"
   },
   {
    "duration": 29,
    "start_time": "2021-09-04T11:36:00.217Z"
   },
   {
    "duration": 16,
    "start_time": "2021-09-04T11:36:00.249Z"
   },
   {
    "duration": 51,
    "start_time": "2021-09-04T11:36:00.267Z"
   },
   {
    "duration": 9,
    "start_time": "2021-09-04T11:36:00.320Z"
   },
   {
    "duration": 11,
    "start_time": "2021-09-04T11:36:00.332Z"
   },
   {
    "duration": 39,
    "start_time": "2021-09-04T11:36:00.345Z"
   },
   {
    "duration": 38,
    "start_time": "2021-09-04T11:36:00.386Z"
   },
   {
    "duration": 38,
    "start_time": "2021-09-04T11:36:00.427Z"
   },
   {
    "duration": 1892,
    "start_time": "2021-09-04T11:36:00.467Z"
   },
   {
    "duration": 335,
    "start_time": "2021-09-04T11:36:02.362Z"
   },
   {
    "duration": 357,
    "start_time": "2021-09-04T11:36:02.700Z"
   },
   {
    "duration": 2031,
    "start_time": "2021-09-04T11:36:03.063Z"
   },
   {
    "duration": 281,
    "start_time": "2021-09-04T11:42:42.635Z"
   },
   {
    "duration": 911,
    "start_time": "2021-09-04T11:42:54.270Z"
   },
   {
    "duration": 44,
    "start_time": "2021-09-04T11:42:55.184Z"
   },
   {
    "duration": 27,
    "start_time": "2021-09-04T11:42:55.231Z"
   },
   {
    "duration": 201,
    "start_time": "2021-09-04T11:42:55.261Z"
   },
   {
    "duration": 23,
    "start_time": "2021-09-04T11:42:55.464Z"
   },
   {
    "duration": 30,
    "start_time": "2021-09-04T11:42:55.490Z"
   },
   {
    "duration": 9,
    "start_time": "2021-09-04T11:42:55.523Z"
   },
   {
    "duration": 10,
    "start_time": "2021-09-04T11:42:55.538Z"
   },
   {
    "duration": 12,
    "start_time": "2021-09-04T11:42:55.552Z"
   },
   {
    "duration": 57,
    "start_time": "2021-09-04T11:42:55.566Z"
   },
   {
    "duration": 15,
    "start_time": "2021-09-04T11:42:55.626Z"
   },
   {
    "duration": 28,
    "start_time": "2021-09-04T11:42:55.643Z"
   },
   {
    "duration": 59,
    "start_time": "2021-09-04T11:42:55.673Z"
   },
   {
    "duration": 12,
    "start_time": "2021-09-04T11:42:55.734Z"
   },
   {
    "duration": 88,
    "start_time": "2021-09-04T11:42:55.749Z"
   },
   {
    "duration": 30,
    "start_time": "2021-09-04T11:42:55.840Z"
   },
   {
    "duration": 17,
    "start_time": "2021-09-04T11:42:55.873Z"
   },
   {
    "duration": 18,
    "start_time": "2021-09-04T11:42:55.917Z"
   },
   {
    "duration": 9,
    "start_time": "2021-09-04T11:42:55.937Z"
   },
   {
    "duration": 9,
    "start_time": "2021-09-04T11:42:55.948Z"
   },
   {
    "duration": 70,
    "start_time": "2021-09-04T11:42:55.960Z"
   },
   {
    "duration": 18,
    "start_time": "2021-09-04T11:42:56.032Z"
   },
   {
    "duration": 23,
    "start_time": "2021-09-04T11:42:56.054Z"
   },
   {
    "duration": 1863,
    "start_time": "2021-09-04T11:42:56.080Z"
   },
   {
    "duration": 343,
    "start_time": "2021-09-04T11:42:57.946Z"
   },
   {
    "duration": 1985,
    "start_time": "2021-09-04T11:42:58.291Z"
   },
   {
    "duration": 287,
    "start_time": "2021-09-04T11:43:18.479Z"
   },
   {
    "duration": 965,
    "start_time": "2021-09-04T11:44:08.188Z"
   },
   {
    "duration": 32,
    "start_time": "2021-09-04T11:44:09.155Z"
   },
   {
    "duration": 41,
    "start_time": "2021-09-04T11:44:09.190Z"
   },
   {
    "duration": 202,
    "start_time": "2021-09-04T11:44:09.234Z"
   },
   {
    "duration": 28,
    "start_time": "2021-09-04T11:44:09.439Z"
   },
   {
    "duration": 12,
    "start_time": "2021-09-04T11:44:09.469Z"
   },
   {
    "duration": 35,
    "start_time": "2021-09-04T11:44:09.484Z"
   },
   {
    "duration": 15,
    "start_time": "2021-09-04T11:44:09.523Z"
   },
   {
    "duration": 14,
    "start_time": "2021-09-04T11:44:09.542Z"
   },
   {
    "duration": 22,
    "start_time": "2021-09-04T11:44:09.559Z"
   },
   {
    "duration": 43,
    "start_time": "2021-09-04T11:44:09.583Z"
   },
   {
    "duration": 40,
    "start_time": "2021-09-04T11:44:09.628Z"
   },
   {
    "duration": 25,
    "start_time": "2021-09-04T11:44:09.670Z"
   },
   {
    "duration": 31,
    "start_time": "2021-09-04T11:44:09.698Z"
   },
   {
    "duration": 86,
    "start_time": "2021-09-04T11:44:09.732Z"
   },
   {
    "duration": 29,
    "start_time": "2021-09-04T11:44:09.821Z"
   },
   {
    "duration": 16,
    "start_time": "2021-09-04T11:44:09.853Z"
   },
   {
    "duration": 45,
    "start_time": "2021-09-04T11:44:09.871Z"
   },
   {
    "duration": 8,
    "start_time": "2021-09-04T11:44:09.919Z"
   },
   {
    "duration": 11,
    "start_time": "2021-09-04T11:44:09.930Z"
   },
   {
    "duration": 31,
    "start_time": "2021-09-04T11:44:09.944Z"
   },
   {
    "duration": 48,
    "start_time": "2021-09-04T11:44:09.978Z"
   },
   {
    "duration": 23,
    "start_time": "2021-09-04T11:44:10.030Z"
   },
   {
    "duration": 1873,
    "start_time": "2021-09-04T11:44:10.056Z"
   },
   {
    "duration": 335,
    "start_time": "2021-09-04T11:44:11.931Z"
   },
   {
    "duration": 1966,
    "start_time": "2021-09-04T11:44:12.269Z"
   },
   {
    "duration": 907,
    "start_time": "2021-09-04T11:46:20.564Z"
   },
   {
    "duration": 44,
    "start_time": "2021-09-04T11:46:21.473Z"
   },
   {
    "duration": 26,
    "start_time": "2021-09-04T11:46:21.520Z"
   },
   {
    "duration": 196,
    "start_time": "2021-09-04T11:46:21.549Z"
   },
   {
    "duration": 21,
    "start_time": "2021-09-04T11:46:21.748Z"
   },
   {
    "duration": 9,
    "start_time": "2021-09-04T11:46:21.772Z"
   },
   {
    "duration": 8,
    "start_time": "2021-09-04T11:46:21.816Z"
   },
   {
    "duration": 20,
    "start_time": "2021-09-04T11:46:21.828Z"
   },
   {
    "duration": 11,
    "start_time": "2021-09-04T11:46:21.851Z"
   },
   {
    "duration": 10,
    "start_time": "2021-09-04T11:46:21.865Z"
   },
   {
    "duration": 50,
    "start_time": "2021-09-04T11:46:21.878Z"
   },
   {
    "duration": 30,
    "start_time": "2021-09-04T11:46:21.931Z"
   },
   {
    "duration": 59,
    "start_time": "2021-09-04T11:46:21.964Z"
   },
   {
    "duration": 15,
    "start_time": "2021-09-04T11:46:22.026Z"
   },
   {
    "duration": 95,
    "start_time": "2021-09-04T11:46:22.043Z"
   },
   {
    "duration": 33,
    "start_time": "2021-09-04T11:46:22.141Z"
   },
   {
    "duration": 47,
    "start_time": "2021-09-04T11:46:22.177Z"
   },
   {
    "duration": 17,
    "start_time": "2021-09-04T11:46:22.227Z"
   },
   {
    "duration": 8,
    "start_time": "2021-09-04T11:46:22.247Z"
   },
   {
    "duration": 17,
    "start_time": "2021-09-04T11:46:22.257Z"
   },
   {
    "duration": 62,
    "start_time": "2021-09-04T11:46:22.276Z"
   },
   {
    "duration": 16,
    "start_time": "2021-09-04T11:46:22.341Z"
   },
   {
    "duration": 21,
    "start_time": "2021-09-04T11:46:22.362Z"
   },
   {
    "duration": 2035,
    "start_time": "2021-09-04T11:46:22.386Z"
   },
   {
    "duration": 38,
    "start_time": "2021-09-04T11:46:24.423Z"
   },
   {
    "duration": 2128,
    "start_time": "2021-09-04T11:46:24.464Z"
   },
   {
    "duration": 11316,
    "start_time": "2021-09-04T11:48:47.735Z"
   },
   {
    "duration": 1009,
    "start_time": "2021-09-04T11:49:17.799Z"
   },
   {
    "duration": 32,
    "start_time": "2021-09-04T11:49:18.810Z"
   },
   {
    "duration": 25,
    "start_time": "2021-09-04T11:49:18.845Z"
   },
   {
    "duration": 205,
    "start_time": "2021-09-04T11:49:18.872Z"
   },
   {
    "duration": 36,
    "start_time": "2021-09-04T11:49:19.080Z"
   },
   {
    "duration": 9,
    "start_time": "2021-09-04T11:49:19.118Z"
   },
   {
    "duration": 8,
    "start_time": "2021-09-04T11:49:19.130Z"
   },
   {
    "duration": 11,
    "start_time": "2021-09-04T11:49:19.144Z"
   },
   {
    "duration": 69,
    "start_time": "2021-09-04T11:49:19.159Z"
   },
   {
    "duration": 10,
    "start_time": "2021-09-04T11:49:19.230Z"
   },
   {
    "duration": 17,
    "start_time": "2021-09-04T11:49:19.243Z"
   },
   {
    "duration": 29,
    "start_time": "2021-09-04T11:49:19.262Z"
   },
   {
    "duration": 44,
    "start_time": "2021-09-04T11:49:19.293Z"
   },
   {
    "duration": 13,
    "start_time": "2021-09-04T11:49:19.339Z"
   },
   {
    "duration": 99,
    "start_time": "2021-09-04T11:49:19.354Z"
   },
   {
    "duration": 30,
    "start_time": "2021-09-04T11:49:19.456Z"
   },
   {
    "duration": 33,
    "start_time": "2021-09-04T11:49:19.488Z"
   },
   {
    "duration": 17,
    "start_time": "2021-09-04T11:49:19.524Z"
   },
   {
    "duration": 9,
    "start_time": "2021-09-04T11:49:19.544Z"
   },
   {
    "duration": 10,
    "start_time": "2021-09-04T11:49:19.556Z"
   },
   {
    "duration": 72,
    "start_time": "2021-09-04T11:49:19.568Z"
   },
   {
    "duration": 19,
    "start_time": "2021-09-04T11:49:19.642Z"
   },
   {
    "duration": 56,
    "start_time": "2021-09-04T11:49:19.667Z"
   },
   {
    "duration": 1968,
    "start_time": "2021-09-04T11:49:19.725Z"
   },
   {
    "duration": 342,
    "start_time": "2021-09-04T11:49:21.695Z"
   },
   {
    "duration": 1957,
    "start_time": "2021-09-04T11:49:22.040Z"
   },
   {
    "duration": 10125,
    "start_time": "2021-09-04T11:53:20.673Z"
   },
   {
    "duration": 1001,
    "start_time": "2021-09-04T11:53:41.695Z"
   },
   {
    "duration": 42,
    "start_time": "2021-09-04T11:53:42.700Z"
   },
   {
    "duration": 28,
    "start_time": "2021-09-04T11:53:42.746Z"
   },
   {
    "duration": 210,
    "start_time": "2021-09-04T11:53:42.778Z"
   },
   {
    "duration": 35,
    "start_time": "2021-09-04T11:53:42.991Z"
   },
   {
    "duration": 33,
    "start_time": "2021-09-04T11:53:43.030Z"
   },
   {
    "duration": 14,
    "start_time": "2021-09-04T11:53:43.066Z"
   },
   {
    "duration": 21,
    "start_time": "2021-09-04T11:53:43.085Z"
   },
   {
    "duration": 19,
    "start_time": "2021-09-04T11:53:43.110Z"
   },
   {
    "duration": 24,
    "start_time": "2021-09-04T11:53:43.132Z"
   },
   {
    "duration": 22,
    "start_time": "2021-09-04T11:53:43.159Z"
   },
   {
    "duration": 40,
    "start_time": "2021-09-04T11:53:43.184Z"
   },
   {
    "duration": 23,
    "start_time": "2021-09-04T11:53:43.226Z"
   },
   {
    "duration": 14,
    "start_time": "2021-09-04T11:53:43.252Z"
   },
   {
    "duration": 95,
    "start_time": "2021-09-04T11:53:43.268Z"
   },
   {
    "duration": 30,
    "start_time": "2021-09-04T11:53:43.365Z"
   },
   {
    "duration": 28,
    "start_time": "2021-09-04T11:53:43.398Z"
   },
   {
    "duration": 16,
    "start_time": "2021-09-04T11:53:43.429Z"
   },
   {
    "duration": 11,
    "start_time": "2021-09-04T11:53:43.448Z"
   },
   {
    "duration": 19,
    "start_time": "2021-09-04T11:53:43.462Z"
   },
   {
    "duration": 67,
    "start_time": "2021-09-04T11:53:43.483Z"
   },
   {
    "duration": 16,
    "start_time": "2021-09-04T11:53:43.553Z"
   },
   {
    "duration": 23,
    "start_time": "2021-09-04T11:53:43.574Z"
   },
   {
    "duration": 1916,
    "start_time": "2021-09-04T11:53:43.617Z"
   },
   {
    "duration": 1774,
    "start_time": "2021-09-04T11:53:45.536Z"
   },
   {
    "duration": 1963,
    "start_time": "2021-09-04T11:53:47.313Z"
   },
   {
    "duration": 519,
    "start_time": "2021-09-04T12:02:43.178Z"
   },
   {
    "duration": 421,
    "start_time": "2021-09-04T12:05:07.117Z"
   },
   {
    "duration": 409,
    "start_time": "2021-09-04T12:09:17.089Z"
   },
   {
    "duration": 912,
    "start_time": "2021-09-04T12:09:28.257Z"
   },
   {
    "duration": 31,
    "start_time": "2021-09-04T12:09:29.171Z"
   },
   {
    "duration": 25,
    "start_time": "2021-09-04T12:09:29.217Z"
   },
   {
    "duration": 294,
    "start_time": "2021-09-04T12:09:29.245Z"
   },
   {
    "duration": 22,
    "start_time": "2021-09-04T12:09:29.542Z"
   },
   {
    "duration": 12,
    "start_time": "2021-09-04T12:09:29.566Z"
   },
   {
    "duration": 41,
    "start_time": "2021-09-04T12:09:29.580Z"
   },
   {
    "duration": 10,
    "start_time": "2021-09-04T12:09:29.623Z"
   },
   {
    "duration": 13,
    "start_time": "2021-09-04T12:09:29.637Z"
   },
   {
    "duration": 9,
    "start_time": "2021-09-04T12:09:29.653Z"
   },
   {
    "duration": 58,
    "start_time": "2021-09-04T12:09:29.664Z"
   },
   {
    "duration": 28,
    "start_time": "2021-09-04T12:09:29.724Z"
   },
   {
    "duration": 22,
    "start_time": "2021-09-04T12:09:29.755Z"
   },
   {
    "duration": 39,
    "start_time": "2021-09-04T12:09:29.779Z"
   },
   {
    "duration": 69,
    "start_time": "2021-09-04T12:09:29.821Z"
   },
   {
    "duration": 47,
    "start_time": "2021-09-04T12:09:29.892Z"
   },
   {
    "duration": 16,
    "start_time": "2021-09-04T12:09:29.941Z"
   },
   {
    "duration": 16,
    "start_time": "2021-09-04T12:09:29.959Z"
   },
   {
    "duration": 40,
    "start_time": "2021-09-04T12:09:29.977Z"
   },
   {
    "duration": 8,
    "start_time": "2021-09-04T12:09:30.020Z"
   },
   {
    "duration": 34,
    "start_time": "2021-09-04T12:09:30.030Z"
   },
   {
    "duration": 50,
    "start_time": "2021-09-04T12:09:30.067Z"
   },
   {
    "duration": 21,
    "start_time": "2021-09-04T12:09:30.120Z"
   },
   {
    "duration": 2086,
    "start_time": "2021-09-04T12:09:30.143Z"
   },
   {
    "duration": 1724,
    "start_time": "2021-09-04T12:09:32.232Z"
   },
   {
    "duration": 414,
    "start_time": "2021-09-04T12:09:33.959Z"
   },
   {
    "duration": 2100,
    "start_time": "2021-09-04T12:09:34.377Z"
   },
   {
    "duration": 945,
    "start_time": "2021-09-04T12:10:04.608Z"
   },
   {
    "duration": 32,
    "start_time": "2021-09-04T12:10:05.555Z"
   },
   {
    "duration": 47,
    "start_time": "2021-09-04T12:10:05.591Z"
   },
   {
    "duration": 184,
    "start_time": "2021-09-04T12:10:05.642Z"
   },
   {
    "duration": 24,
    "start_time": "2021-09-04T12:10:05.829Z"
   },
   {
    "duration": 20,
    "start_time": "2021-09-04T12:10:05.856Z"
   },
   {
    "duration": 40,
    "start_time": "2021-09-04T12:10:05.880Z"
   },
   {
    "duration": 13,
    "start_time": "2021-09-04T12:10:05.923Z"
   },
   {
    "duration": 17,
    "start_time": "2021-09-04T12:10:05.942Z"
   },
   {
    "duration": 10,
    "start_time": "2021-09-04T12:10:05.963Z"
   },
   {
    "duration": 48,
    "start_time": "2021-09-04T12:10:05.975Z"
   },
   {
    "duration": 37,
    "start_time": "2021-09-04T12:10:06.026Z"
   },
   {
    "duration": 24,
    "start_time": "2021-09-04T12:10:06.066Z"
   },
   {
    "duration": 33,
    "start_time": "2021-09-04T12:10:06.093Z"
   },
   {
    "duration": 73,
    "start_time": "2021-09-04T12:10:06.129Z"
   },
   {
    "duration": 33,
    "start_time": "2021-09-04T12:10:06.217Z"
   },
   {
    "duration": 18,
    "start_time": "2021-09-04T12:10:06.253Z"
   },
   {
    "duration": 54,
    "start_time": "2021-09-04T12:10:06.274Z"
   },
   {
    "duration": 11,
    "start_time": "2021-09-04T12:10:06.331Z"
   },
   {
    "duration": 26,
    "start_time": "2021-09-04T12:10:06.345Z"
   },
   {
    "duration": 53,
    "start_time": "2021-09-04T12:10:06.374Z"
   },
   {
    "duration": 20,
    "start_time": "2021-09-04T12:10:06.430Z"
   },
   {
    "duration": 28,
    "start_time": "2021-09-04T12:10:06.452Z"
   },
   {
    "duration": 2106,
    "start_time": "2021-09-04T12:10:06.482Z"
   },
   {
    "duration": 1944,
    "start_time": "2021-09-04T12:10:08.590Z"
   },
   {
    "duration": 459,
    "start_time": "2021-09-04T12:10:10.537Z"
   },
   {
    "duration": 2103,
    "start_time": "2021-09-04T12:10:11.001Z"
   },
   {
    "duration": 451,
    "start_time": "2021-09-04T18:37:31.689Z"
   },
   {
    "duration": 936,
    "start_time": "2021-09-04T18:37:41.619Z"
   },
   {
    "duration": 34,
    "start_time": "2021-09-04T18:37:42.557Z"
   },
   {
    "duration": 26,
    "start_time": "2021-09-04T18:37:42.594Z"
   },
   {
    "duration": 191,
    "start_time": "2021-09-04T18:37:42.623Z"
   },
   {
    "duration": 21,
    "start_time": "2021-09-04T18:37:42.817Z"
   },
   {
    "duration": 11,
    "start_time": "2021-09-04T18:37:42.855Z"
   },
   {
    "duration": 18,
    "start_time": "2021-09-04T18:37:42.868Z"
   },
   {
    "duration": 16,
    "start_time": "2021-09-04T18:37:42.888Z"
   },
   {
    "duration": 23,
    "start_time": "2021-09-04T18:37:42.908Z"
   },
   {
    "duration": 24,
    "start_time": "2021-09-04T18:37:42.934Z"
   },
   {
    "duration": 14,
    "start_time": "2021-09-04T18:37:42.960Z"
   },
   {
    "duration": 26,
    "start_time": "2021-09-04T18:37:42.976Z"
   },
   {
    "duration": 22,
    "start_time": "2021-09-04T18:37:43.004Z"
   },
   {
    "duration": 13,
    "start_time": "2021-09-04T18:37:43.055Z"
   },
   {
    "duration": 64,
    "start_time": "2021-09-04T18:37:43.070Z"
   },
   {
    "duration": 44,
    "start_time": "2021-09-04T18:37:43.136Z"
   },
   {
    "duration": 16,
    "start_time": "2021-09-04T18:37:43.183Z"
   },
   {
    "duration": 15,
    "start_time": "2021-09-04T18:37:43.202Z"
   },
   {
    "duration": 42,
    "start_time": "2021-09-04T18:37:43.219Z"
   },
   {
    "duration": 10,
    "start_time": "2021-09-04T18:37:43.264Z"
   },
   {
    "duration": 29,
    "start_time": "2021-09-04T18:37:43.277Z"
   },
   {
    "duration": 53,
    "start_time": "2021-09-04T18:37:43.308Z"
   },
   {
    "duration": 21,
    "start_time": "2021-09-04T18:37:43.363Z"
   },
   {
    "duration": 1811,
    "start_time": "2021-09-04T18:37:43.386Z"
   },
   {
    "duration": 1776,
    "start_time": "2021-09-04T18:37:45.199Z"
   },
   {
    "duration": 423,
    "start_time": "2021-09-04T18:37:46.977Z"
   },
   {
    "duration": 314,
    "start_time": "2021-09-04T18:37:47.406Z"
   },
   {
    "duration": 9,
    "start_time": "2021-09-04T18:40:28.401Z"
   },
   {
    "duration": 854,
    "start_time": "2021-09-04T18:51:34.277Z"
   },
   {
    "duration": 452,
    "start_time": "2021-09-04T18:52:22.238Z"
   },
   {
    "duration": 2436,
    "start_time": "2021-09-04T18:55:29.677Z"
   },
   {
    "duration": 1741,
    "start_time": "2021-09-04T18:56:02.581Z"
   },
   {
    "duration": 1093,
    "start_time": "2021-09-04T19:04:31.363Z"
   },
   {
    "duration": 32,
    "start_time": "2021-09-04T19:04:32.458Z"
   },
   {
    "duration": 24,
    "start_time": "2021-09-04T19:04:32.493Z"
   },
   {
    "duration": 200,
    "start_time": "2021-09-04T19:04:32.519Z"
   },
   {
    "duration": 36,
    "start_time": "2021-09-04T19:04:32.722Z"
   },
   {
    "duration": 27,
    "start_time": "2021-09-04T19:04:32.761Z"
   },
   {
    "duration": 15,
    "start_time": "2021-09-04T19:04:32.790Z"
   },
   {
    "duration": 9,
    "start_time": "2021-09-04T19:04:32.809Z"
   },
   {
    "duration": 20,
    "start_time": "2021-09-04T19:04:32.821Z"
   },
   {
    "duration": 13,
    "start_time": "2021-09-04T19:04:32.844Z"
   },
   {
    "duration": 29,
    "start_time": "2021-09-04T19:04:32.859Z"
   },
   {
    "duration": 40,
    "start_time": "2021-09-04T19:04:32.891Z"
   },
   {
    "duration": 24,
    "start_time": "2021-09-04T19:04:32.933Z"
   },
   {
    "duration": 11,
    "start_time": "2021-09-04T19:04:32.959Z"
   },
   {
    "duration": 83,
    "start_time": "2021-09-04T19:04:32.973Z"
   },
   {
    "duration": 28,
    "start_time": "2021-09-04T19:04:33.059Z"
   },
   {
    "duration": 15,
    "start_time": "2021-09-04T19:04:33.090Z"
   },
   {
    "duration": 29,
    "start_time": "2021-09-04T19:04:33.107Z"
   },
   {
    "duration": 7,
    "start_time": "2021-09-04T19:04:33.157Z"
   },
   {
    "duration": 20,
    "start_time": "2021-09-04T19:04:33.166Z"
   },
   {
    "duration": 42,
    "start_time": "2021-09-04T19:04:33.188Z"
   },
   {
    "duration": 35,
    "start_time": "2021-09-04T19:04:33.232Z"
   },
   {
    "duration": 34,
    "start_time": "2021-09-04T19:04:33.272Z"
   },
   {
    "duration": 2012,
    "start_time": "2021-09-04T19:04:33.310Z"
   },
   {
    "duration": 1689,
    "start_time": "2021-09-04T19:04:35.325Z"
   },
   {
    "duration": 441,
    "start_time": "2021-09-04T19:04:37.017Z"
   },
   {
    "duration": 308,
    "start_time": "2021-09-04T19:04:37.460Z"
   },
   {
    "duration": 8,
    "start_time": "2021-09-04T19:04:37.770Z"
   },
   {
    "duration": 445,
    "start_time": "2021-09-04T19:06:27.038Z"
   },
   {
    "duration": 1207,
    "start_time": "2021-09-04T19:06:41.434Z"
   },
   {
    "duration": 46,
    "start_time": "2021-09-04T19:06:42.644Z"
   },
   {
    "duration": 37,
    "start_time": "2021-09-04T19:06:42.694Z"
   },
   {
    "duration": 255,
    "start_time": "2021-09-04T19:06:42.755Z"
   },
   {
    "duration": 30,
    "start_time": "2021-09-04T19:06:43.013Z"
   },
   {
    "duration": 9,
    "start_time": "2021-09-04T19:06:43.055Z"
   },
   {
    "duration": 7,
    "start_time": "2021-09-04T19:06:43.067Z"
   },
   {
    "duration": 10,
    "start_time": "2021-09-04T19:06:43.078Z"
   },
   {
    "duration": 12,
    "start_time": "2021-09-04T19:06:43.091Z"
   },
   {
    "duration": 54,
    "start_time": "2021-09-04T19:06:43.106Z"
   },
   {
    "duration": 15,
    "start_time": "2021-09-04T19:06:43.162Z"
   },
   {
    "duration": 30,
    "start_time": "2021-09-04T19:06:43.180Z"
   },
   {
    "duration": 46,
    "start_time": "2021-09-04T19:06:43.212Z"
   },
   {
    "duration": 13,
    "start_time": "2021-09-04T19:06:43.260Z"
   },
   {
    "duration": 87,
    "start_time": "2021-09-04T19:06:43.275Z"
   },
   {
    "duration": 30,
    "start_time": "2021-09-04T19:06:43.364Z"
   },
   {
    "duration": 16,
    "start_time": "2021-09-04T19:06:43.396Z"
   },
   {
    "duration": 49,
    "start_time": "2021-09-04T19:06:43.414Z"
   },
   {
    "duration": 8,
    "start_time": "2021-09-04T19:06:43.465Z"
   },
   {
    "duration": 16,
    "start_time": "2021-09-04T19:06:43.475Z"
   },
   {
    "duration": 35,
    "start_time": "2021-09-04T19:06:43.493Z"
   },
   {
    "duration": 37,
    "start_time": "2021-09-04T19:06:43.531Z"
   },
   {
    "duration": 22,
    "start_time": "2021-09-04T19:06:43.573Z"
   },
   {
    "duration": 1845,
    "start_time": "2021-09-04T19:06:43.598Z"
   },
   {
    "duration": 1722,
    "start_time": "2021-09-04T19:06:45.445Z"
   },
   {
    "duration": 443,
    "start_time": "2021-09-04T19:06:47.169Z"
   },
   {
    "duration": 323,
    "start_time": "2021-09-04T19:06:47.614Z"
   },
   {
    "duration": 16,
    "start_time": "2021-09-04T19:06:47.940Z"
   },
   {
    "duration": 6,
    "start_time": "2021-09-04T19:06:47.959Z"
   },
   {
    "duration": 7,
    "start_time": "2021-09-04T19:07:15.670Z"
   },
   {
    "duration": 981,
    "start_time": "2021-09-04T19:07:24.782Z"
   },
   {
    "duration": 33,
    "start_time": "2021-09-04T19:07:25.766Z"
   },
   {
    "duration": 56,
    "start_time": "2021-09-04T19:07:25.803Z"
   },
   {
    "duration": 193,
    "start_time": "2021-09-04T19:07:25.862Z"
   },
   {
    "duration": 23,
    "start_time": "2021-09-04T19:07:26.059Z"
   },
   {
    "duration": 10,
    "start_time": "2021-09-04T19:07:26.085Z"
   },
   {
    "duration": 14,
    "start_time": "2021-09-04T19:07:26.097Z"
   },
   {
    "duration": 48,
    "start_time": "2021-09-04T19:07:26.114Z"
   },
   {
    "duration": 11,
    "start_time": "2021-09-04T19:07:26.167Z"
   },
   {
    "duration": 9,
    "start_time": "2021-09-04T19:07:26.182Z"
   },
   {
    "duration": 16,
    "start_time": "2021-09-04T19:07:26.194Z"
   },
   {
    "duration": 24,
    "start_time": "2021-09-04T19:07:26.257Z"
   },
   {
    "duration": 24,
    "start_time": "2021-09-04T19:07:26.284Z"
   },
   {
    "duration": 53,
    "start_time": "2021-09-04T19:07:26.311Z"
   },
   {
    "duration": 111,
    "start_time": "2021-09-04T19:07:26.367Z"
   },
   {
    "duration": 40,
    "start_time": "2021-09-04T19:07:26.481Z"
   },
   {
    "duration": 42,
    "start_time": "2021-09-04T19:07:26.524Z"
   },
   {
    "duration": 32,
    "start_time": "2021-09-04T19:07:26.569Z"
   },
   {
    "duration": 12,
    "start_time": "2021-09-04T19:07:26.604Z"
   },
   {
    "duration": 38,
    "start_time": "2021-09-04T19:07:26.619Z"
   },
   {
    "duration": 32,
    "start_time": "2021-09-04T19:07:26.660Z"
   },
   {
    "duration": 17,
    "start_time": "2021-09-04T19:07:26.695Z"
   },
   {
    "duration": 54,
    "start_time": "2021-09-04T19:07:26.715Z"
   },
   {
    "duration": 2122,
    "start_time": "2021-09-04T19:07:26.771Z"
   },
   {
    "duration": 2623,
    "start_time": "2021-09-04T19:07:28.896Z"
   },
   {
    "duration": 4,
    "start_time": "2021-09-04T19:07:31.522Z"
   },
   {
    "duration": 428,
    "start_time": "2021-09-04T19:07:31.531Z"
   },
   {
    "duration": 9,
    "start_time": "2021-09-04T19:07:31.962Z"
   },
   {
    "duration": 11,
    "start_time": "2021-09-04T19:07:31.985Z"
   },
   {
    "duration": 8,
    "start_time": "2021-09-04T19:07:35.492Z"
   },
   {
    "duration": 7,
    "start_time": "2021-09-04T19:07:45.868Z"
   },
   {
    "duration": 447,
    "start_time": "2021-09-04T19:09:07.167Z"
   },
   {
    "duration": 869,
    "start_time": "2021-09-04T19:09:17.907Z"
   },
   {
    "duration": 33,
    "start_time": "2021-09-04T19:09:18.780Z"
   },
   {
    "duration": 43,
    "start_time": "2021-09-04T19:09:18.817Z"
   },
   {
    "duration": 187,
    "start_time": "2021-09-04T19:09:18.863Z"
   },
   {
    "duration": 21,
    "start_time": "2021-09-04T19:09:19.055Z"
   },
   {
    "duration": 18,
    "start_time": "2021-09-04T19:09:19.079Z"
   },
   {
    "duration": 13,
    "start_time": "2021-09-04T19:09:19.099Z"
   },
   {
    "duration": 25,
    "start_time": "2021-09-04T19:09:19.114Z"
   },
   {
    "duration": 11,
    "start_time": "2021-09-04T19:09:19.155Z"
   },
   {
    "duration": 14,
    "start_time": "2021-09-04T19:09:19.170Z"
   },
   {
    "duration": 29,
    "start_time": "2021-09-04T19:09:19.186Z"
   },
   {
    "duration": 43,
    "start_time": "2021-09-04T19:09:19.218Z"
   },
   {
    "duration": 23,
    "start_time": "2021-09-04T19:09:19.263Z"
   },
   {
    "duration": 14,
    "start_time": "2021-09-04T19:09:19.288Z"
   },
   {
    "duration": 93,
    "start_time": "2021-09-04T19:09:19.304Z"
   },
   {
    "duration": 30,
    "start_time": "2021-09-04T19:09:19.399Z"
   },
   {
    "duration": 36,
    "start_time": "2021-09-04T19:09:19.432Z"
   },
   {
    "duration": 17,
    "start_time": "2021-09-04T19:09:19.471Z"
   },
   {
    "duration": 8,
    "start_time": "2021-09-04T19:09:19.490Z"
   },
   {
    "duration": 22,
    "start_time": "2021-09-04T19:09:19.501Z"
   },
   {
    "duration": 53,
    "start_time": "2021-09-04T19:09:19.526Z"
   },
   {
    "duration": 17,
    "start_time": "2021-09-04T19:09:19.581Z"
   },
   {
    "duration": 23,
    "start_time": "2021-09-04T19:09:19.601Z"
   },
   {
    "duration": 1963,
    "start_time": "2021-09-04T19:09:19.656Z"
   },
   {
    "duration": 1816,
    "start_time": "2021-09-04T19:09:21.621Z"
   },
   {
    "duration": 3,
    "start_time": "2021-09-04T19:09:23.439Z"
   },
   {
    "duration": 316,
    "start_time": "2021-09-04T19:09:23.458Z"
   },
   {
    "duration": 7,
    "start_time": "2021-09-04T19:09:23.776Z"
   },
   {
    "duration": 14,
    "start_time": "2021-09-04T19:09:23.785Z"
   },
   {
    "duration": 7,
    "start_time": "2021-09-04T19:11:17.206Z"
   },
   {
    "duration": 15,
    "start_time": "2021-09-04T19:12:36.190Z"
   },
   {
    "duration": 40208,
    "start_time": "2021-09-04T19:14:17.871Z"
   },
   {
    "duration": 441,
    "start_time": "2021-09-04T19:15:36.381Z"
   },
   {
    "duration": 37857,
    "start_time": "2021-09-04T19:15:41.981Z"
   },
   {
    "duration": 421,
    "start_time": "2021-09-04T19:21:21.992Z"
   },
   {
    "duration": 382,
    "start_time": "2021-09-04T19:21:39.737Z"
   },
   {
    "duration": 6576,
    "start_time": "2021-09-04T19:21:52.448Z"
   },
   {
    "duration": 1068,
    "start_time": "2021-09-04T19:26:27.668Z"
   },
   {
    "duration": 38,
    "start_time": "2021-09-04T19:26:28.740Z"
   },
   {
    "duration": 26,
    "start_time": "2021-09-04T19:26:28.782Z"
   },
   {
    "duration": 205,
    "start_time": "2021-09-04T19:26:28.812Z"
   },
   {
    "duration": 36,
    "start_time": "2021-09-04T19:26:29.020Z"
   },
   {
    "duration": 10,
    "start_time": "2021-09-04T19:26:29.059Z"
   },
   {
    "duration": 9,
    "start_time": "2021-09-04T19:26:29.071Z"
   },
   {
    "duration": 8,
    "start_time": "2021-09-04T19:26:29.086Z"
   },
   {
    "duration": 65,
    "start_time": "2021-09-04T19:26:29.097Z"
   },
   {
    "duration": 8,
    "start_time": "2021-09-04T19:26:29.164Z"
   },
   {
    "duration": 17,
    "start_time": "2021-09-04T19:26:29.175Z"
   },
   {
    "duration": 31,
    "start_time": "2021-09-04T19:26:29.195Z"
   },
   {
    "duration": 47,
    "start_time": "2021-09-04T19:26:29.229Z"
   },
   {
    "duration": 12,
    "start_time": "2021-09-04T19:26:29.278Z"
   },
   {
    "duration": 92,
    "start_time": "2021-09-04T19:26:29.293Z"
   },
   {
    "duration": 30,
    "start_time": "2021-09-04T19:26:29.387Z"
   },
   {
    "duration": 38,
    "start_time": "2021-09-04T19:26:29.419Z"
   },
   {
    "duration": 17,
    "start_time": "2021-09-04T19:26:29.459Z"
   },
   {
    "duration": 9,
    "start_time": "2021-09-04T19:26:29.478Z"
   },
   {
    "duration": 10,
    "start_time": "2021-09-04T19:26:29.489Z"
   },
   {
    "duration": 78,
    "start_time": "2021-09-04T19:26:29.502Z"
   },
   {
    "duration": 22,
    "start_time": "2021-09-04T19:26:29.583Z"
   },
   {
    "duration": 46,
    "start_time": "2021-09-04T19:26:29.611Z"
   },
   {
    "duration": 1844,
    "start_time": "2021-09-04T19:26:29.660Z"
   },
   {
    "duration": 1803,
    "start_time": "2021-09-04T19:26:31.506Z"
   },
   {
    "duration": 3,
    "start_time": "2021-09-04T19:26:33.311Z"
   },
   {
    "duration": 315,
    "start_time": "2021-09-04T19:26:33.317Z"
   },
   {
    "duration": 7,
    "start_time": "2021-09-04T19:26:33.634Z"
   },
   {
    "duration": 110690,
    "start_time": "2021-09-04T19:26:33.656Z"
   },
   {
    "duration": 122,
    "start_time": "2021-09-04T19:37:44.384Z"
   },
   {
    "duration": 425,
    "start_time": "2021-09-04T19:37:50.067Z"
   },
   {
    "duration": 1190,
    "start_time": "2021-09-04T19:38:19.737Z"
   },
   {
    "duration": 44,
    "start_time": "2021-09-04T19:38:20.930Z"
   },
   {
    "duration": 25,
    "start_time": "2021-09-04T19:38:20.977Z"
   },
   {
    "duration": 203,
    "start_time": "2021-09-04T19:38:21.005Z"
   },
   {
    "duration": 51,
    "start_time": "2021-09-04T19:38:21.211Z"
   },
   {
    "duration": 13,
    "start_time": "2021-09-04T19:38:21.264Z"
   },
   {
    "duration": 15,
    "start_time": "2021-09-04T19:38:21.279Z"
   },
   {
    "duration": 21,
    "start_time": "2021-09-04T19:38:21.296Z"
   },
   {
    "duration": 14,
    "start_time": "2021-09-04T19:38:21.322Z"
   },
   {
    "duration": 16,
    "start_time": "2021-09-04T19:38:21.356Z"
   },
   {
    "duration": 15,
    "start_time": "2021-09-04T19:38:21.374Z"
   },
   {
    "duration": 26,
    "start_time": "2021-09-04T19:38:21.392Z"
   },
   {
    "duration": 60,
    "start_time": "2021-09-04T19:38:21.420Z"
   },
   {
    "duration": 13,
    "start_time": "2021-09-04T19:38:21.482Z"
   },
   {
    "duration": 106,
    "start_time": "2021-09-04T19:38:21.497Z"
   },
   {
    "duration": 63,
    "start_time": "2021-09-04T19:38:21.606Z"
   },
   {
    "duration": 23,
    "start_time": "2021-09-04T19:38:21.675Z"
   },
   {
    "duration": 24,
    "start_time": "2021-09-04T19:38:21.701Z"
   },
   {
    "duration": 38,
    "start_time": "2021-09-04T19:38:21.729Z"
   },
   {
    "duration": 10,
    "start_time": "2021-09-04T19:38:21.770Z"
   },
   {
    "duration": 30,
    "start_time": "2021-09-04T19:38:21.783Z"
   },
   {
    "duration": 61,
    "start_time": "2021-09-04T19:38:21.816Z"
   },
   {
    "duration": 21,
    "start_time": "2021-09-04T19:38:21.880Z"
   },
   {
    "duration": 1921,
    "start_time": "2021-09-04T19:38:21.903Z"
   },
   {
    "duration": 1777,
    "start_time": "2021-09-04T19:38:23.826Z"
   },
   {
    "duration": 591,
    "start_time": "2021-09-04T19:38:25.606Z"
   },
   {
    "duration": 407,
    "start_time": "2021-09-04T19:38:26.203Z"
   },
   {
    "duration": 9,
    "start_time": "2021-09-04T19:38:26.614Z"
   },
   {
    "duration": 12372,
    "start_time": "2021-09-04T19:44:52.951Z"
   },
   {
    "duration": 13072,
    "start_time": "2021-09-04T19:45:16.443Z"
   },
   {
    "duration": 13219,
    "start_time": "2021-09-04T19:45:42.708Z"
   },
   {
    "duration": 24741,
    "start_time": "2021-09-04T19:48:03.941Z"
   },
   {
    "duration": 25264,
    "start_time": "2021-09-04T19:48:32.708Z"
   },
   {
    "duration": 24479,
    "start_time": "2021-09-04T19:49:25.420Z"
   },
   {
    "duration": 17,
    "start_time": "2021-09-04T20:51:47.707Z"
   },
   {
    "duration": 485,
    "start_time": "2021-09-04T20:57:03.715Z"
   },
   {
    "duration": 485,
    "start_time": "2021-09-04T20:57:25.832Z"
   },
   {
    "duration": 14,
    "start_time": "2021-09-04T20:59:59.737Z"
   },
   {
    "duration": 812,
    "start_time": "2021-09-04T21:02:08.722Z"
   },
   {
    "duration": 1035,
    "start_time": "2021-09-04T21:02:10.998Z"
   },
   {
    "duration": 55,
    "start_time": "2021-09-04T21:02:12.036Z"
   },
   {
    "duration": 36,
    "start_time": "2021-09-04T21:02:12.095Z"
   },
   {
    "duration": 257,
    "start_time": "2021-09-04T21:02:12.135Z"
   },
   {
    "duration": 21,
    "start_time": "2021-09-04T21:02:12.395Z"
   },
   {
    "duration": 16,
    "start_time": "2021-09-04T21:02:12.418Z"
   },
   {
    "duration": 28,
    "start_time": "2021-09-04T21:02:12.437Z"
   },
   {
    "duration": 17,
    "start_time": "2021-09-04T21:02:12.471Z"
   },
   {
    "duration": 18,
    "start_time": "2021-09-04T21:02:12.492Z"
   },
   {
    "duration": 28,
    "start_time": "2021-09-04T21:02:12.513Z"
   },
   {
    "duration": 13,
    "start_time": "2021-09-04T21:02:12.556Z"
   },
   {
    "duration": 31,
    "start_time": "2021-09-04T21:02:12.572Z"
   },
   {
    "duration": 49,
    "start_time": "2021-09-04T21:02:12.606Z"
   },
   {
    "duration": 35,
    "start_time": "2021-09-04T21:02:12.658Z"
   },
   {
    "duration": 17,
    "start_time": "2021-09-04T21:02:12.697Z"
   },
   {
    "duration": 116,
    "start_time": "2021-09-04T21:02:12.717Z"
   },
   {
    "duration": 40,
    "start_time": "2021-09-04T21:02:12.835Z"
   },
   {
    "duration": 21,
    "start_time": "2021-09-04T21:02:12.878Z"
   },
   {
    "duration": 16,
    "start_time": "2021-09-04T21:02:12.901Z"
   },
   {
    "duration": 46,
    "start_time": "2021-09-04T21:02:12.919Z"
   },
   {
    "duration": 15,
    "start_time": "2021-09-04T21:02:12.970Z"
   },
   {
    "duration": 32,
    "start_time": "2021-09-04T21:02:12.988Z"
   },
   {
    "duration": 52,
    "start_time": "2021-09-04T21:02:13.024Z"
   },
   {
    "duration": 24,
    "start_time": "2021-09-04T21:02:13.081Z"
   },
   {
    "duration": 2116,
    "start_time": "2021-09-04T21:02:13.108Z"
   },
   {
    "duration": 1924,
    "start_time": "2021-09-04T21:02:15.227Z"
   },
   {
    "duration": 535,
    "start_time": "2021-09-04T21:02:17.153Z"
   },
   {
    "duration": 337,
    "start_time": "2021-09-04T21:02:17.692Z"
   },
   {
    "duration": 8,
    "start_time": "2021-09-04T21:02:18.032Z"
   },
   {
    "duration": 1101,
    "start_time": "2021-09-04T21:02:26.444Z"
   },
   {
    "duration": 49,
    "start_time": "2021-09-04T21:02:27.548Z"
   },
   {
    "duration": 25,
    "start_time": "2021-09-04T21:02:27.601Z"
   },
   {
    "duration": 232,
    "start_time": "2021-09-04T21:02:27.629Z"
   },
   {
    "duration": 33,
    "start_time": "2021-09-04T21:02:27.864Z"
   },
   {
    "duration": 4,
    "start_time": "2021-09-04T21:02:27.899Z"
   },
   {
    "duration": 18,
    "start_time": "2021-09-04T21:02:27.906Z"
   },
   {
    "duration": 14,
    "start_time": "2021-09-04T21:02:27.956Z"
   },
   {
    "duration": 15,
    "start_time": "2021-09-04T21:02:27.978Z"
   },
   {
    "duration": 14,
    "start_time": "2021-09-04T21:02:27.996Z"
   },
   {
    "duration": 43,
    "start_time": "2021-09-04T21:02:28.012Z"
   },
   {
    "duration": 26,
    "start_time": "2021-09-04T21:02:28.061Z"
   },
   {
    "duration": 25,
    "start_time": "2021-09-04T21:02:28.091Z"
   },
   {
    "duration": 64,
    "start_time": "2021-09-04T21:02:28.118Z"
   },
   {
    "duration": 14,
    "start_time": "2021-09-04T21:02:28.185Z"
   },
   {
    "duration": 113,
    "start_time": "2021-09-04T21:02:28.202Z"
   },
   {
    "duration": 40,
    "start_time": "2021-09-04T21:02:28.318Z"
   },
   {
    "duration": 31,
    "start_time": "2021-09-04T21:02:28.361Z"
   },
   {
    "duration": 15,
    "start_time": "2021-09-04T21:02:28.395Z"
   },
   {
    "duration": 8,
    "start_time": "2021-09-04T21:02:28.413Z"
   },
   {
    "duration": 44,
    "start_time": "2021-09-04T21:02:28.423Z"
   },
   {
    "duration": 35,
    "start_time": "2021-09-04T21:02:28.471Z"
   },
   {
    "duration": 52,
    "start_time": "2021-09-04T21:02:28.509Z"
   },
   {
    "duration": 37,
    "start_time": "2021-09-04T21:02:28.564Z"
   },
   {
    "duration": 2132,
    "start_time": "2021-09-04T21:02:28.604Z"
   },
   {
    "duration": 1928,
    "start_time": "2021-09-04T21:02:30.739Z"
   },
   {
    "duration": 610,
    "start_time": "2021-09-04T21:02:32.674Z"
   },
   {
    "duration": 407,
    "start_time": "2021-09-04T21:02:33.288Z"
   },
   {
    "duration": 7,
    "start_time": "2021-09-04T21:02:33.697Z"
   },
   {
    "duration": 20830,
    "start_time": "2021-09-04T21:02:33.707Z"
   },
   {
    "duration": 27266,
    "start_time": "2021-09-04T21:02:54.540Z"
   },
   {
    "duration": 4240,
    "start_time": "2021-09-04T21:03:21.809Z"
   },
   {
    "duration": 337,
    "start_time": "2021-09-04T21:06:41.662Z"
   },
   {
    "duration": 40,
    "start_time": "2021-09-04T21:07:25.207Z"
   },
   {
    "duration": 359,
    "start_time": "2021-09-04T21:08:49.647Z"
   },
   {
    "duration": 13,
    "start_time": "2021-09-04T22:19:16.141Z"
   },
   {
    "duration": 16,
    "start_time": "2021-09-04T22:19:21.572Z"
   },
   {
    "duration": 6,
    "start_time": "2021-09-04T22:20:10.418Z"
   },
   {
    "duration": 20482,
    "start_time": "2021-09-04T22:22:23.382Z"
   },
   {
    "duration": 28,
    "start_time": "2021-09-04T22:28:48.794Z"
   },
   {
    "duration": 6,
    "start_time": "2021-09-04T22:30:08.182Z"
   },
   {
    "duration": 59,
    "start_time": "2021-09-04T22:30:32.878Z"
   },
   {
    "duration": 412,
    "start_time": "2021-09-04T22:31:13.390Z"
   },
   {
    "duration": 36,
    "start_time": "2021-09-04T22:31:23.198Z"
   },
   {
    "duration": 1586,
    "start_time": "2021-09-04T22:35:02.918Z"
   },
   {
    "duration": 1110,
    "start_time": "2021-09-04T22:35:55.093Z"
   },
   {
    "duration": 1205,
    "start_time": "2021-09-04T22:36:15.678Z"
   },
   {
    "duration": 1847,
    "start_time": "2021-09-04T22:36:28.730Z"
   },
   {
    "duration": 12539,
    "start_time": "2021-09-04T22:37:20.323Z"
   },
   {
    "duration": 1738,
    "start_time": "2021-09-04T22:37:49.647Z"
   },
   {
    "duration": 1342,
    "start_time": "2021-09-04T22:38:17.657Z"
   },
   {
    "duration": 2976,
    "start_time": "2021-09-04T22:43:41.437Z"
   },
   {
    "duration": 3016,
    "start_time": "2021-09-04T22:44:12.485Z"
   },
   {
    "duration": 2807,
    "start_time": "2021-09-04T22:44:37.916Z"
   },
   {
    "duration": 12539,
    "start_time": "2021-09-04T22:45:15.769Z"
   },
   {
    "duration": 24209,
    "start_time": "2021-09-04T22:45:45.882Z"
   },
   {
    "duration": 400,
    "start_time": "2021-09-04T22:49:30.160Z"
   },
   {
    "duration": 920,
    "start_time": "2021-09-04T22:49:46.040Z"
   },
   {
    "duration": 31,
    "start_time": "2021-09-04T22:49:46.963Z"
   },
   {
    "duration": 24,
    "start_time": "2021-09-04T22:49:46.997Z"
   },
   {
    "duration": 209,
    "start_time": "2021-09-04T22:49:47.025Z"
   },
   {
    "duration": 29,
    "start_time": "2021-09-04T22:49:47.236Z"
   },
   {
    "duration": 8,
    "start_time": "2021-09-04T22:49:47.268Z"
   },
   {
    "duration": 16,
    "start_time": "2021-09-04T22:49:47.278Z"
   },
   {
    "duration": 10,
    "start_time": "2021-09-04T22:49:47.299Z"
   },
   {
    "duration": 45,
    "start_time": "2021-09-04T22:49:47.312Z"
   },
   {
    "duration": 12,
    "start_time": "2021-09-04T22:49:47.359Z"
   },
   {
    "duration": 8,
    "start_time": "2021-09-04T22:49:47.374Z"
   },
   {
    "duration": 17,
    "start_time": "2021-09-04T22:49:47.385Z"
   },
   {
    "duration": 69,
    "start_time": "2021-09-04T22:49:47.404Z"
   },
   {
    "duration": 24,
    "start_time": "2021-09-04T22:49:47.476Z"
   },
   {
    "duration": 13,
    "start_time": "2021-09-04T22:49:47.502Z"
   },
   {
    "duration": 99,
    "start_time": "2021-09-04T22:49:47.518Z"
   },
   {
    "duration": 44,
    "start_time": "2021-09-04T22:49:47.620Z"
   },
   {
    "duration": 16,
    "start_time": "2021-09-04T22:49:47.666Z"
   },
   {
    "duration": 17,
    "start_time": "2021-09-04T22:49:47.684Z"
   },
   {
    "duration": 8,
    "start_time": "2021-09-04T22:49:47.703Z"
   },
   {
    "duration": 44,
    "start_time": "2021-09-04T22:49:47.713Z"
   },
   {
    "duration": 30,
    "start_time": "2021-09-04T22:49:47.760Z"
   },
   {
    "duration": 16,
    "start_time": "2021-09-04T22:49:47.794Z"
   },
   {
    "duration": 59,
    "start_time": "2021-09-04T22:49:47.813Z"
   },
   {
    "duration": 1822,
    "start_time": "2021-09-04T22:49:47.874Z"
   },
   {
    "duration": 1676,
    "start_time": "2021-09-04T22:49:49.698Z"
   },
   {
    "duration": 439,
    "start_time": "2021-09-04T22:49:51.376Z"
   },
   {
    "duration": 319,
    "start_time": "2021-09-04T22:49:51.818Z"
   },
   {
    "duration": 20,
    "start_time": "2021-09-04T22:49:52.140Z"
   },
   {
    "duration": 12195,
    "start_time": "2021-09-04T22:49:52.162Z"
   },
   {
    "duration": 23684,
    "start_time": "2021-09-04T22:50:04.359Z"
   },
   {
    "duration": 483,
    "start_time": "2021-09-04T22:50:28.046Z"
   },
   {
    "duration": 29,
    "start_time": "2021-09-04T22:50:50.684Z"
   },
   {
    "duration": 27,
    "start_time": "2021-09-04T22:52:30.246Z"
   },
   {
    "duration": 13,
    "start_time": "2021-09-04T22:53:51.917Z"
   },
   {
    "duration": 18,
    "start_time": "2021-09-04T22:53:59.607Z"
   },
   {
    "duration": 818,
    "start_time": "2021-09-04T22:55:59.694Z"
   },
   {
    "duration": 607,
    "start_time": "2021-09-04T23:00:21.260Z"
   },
   {
    "duration": 694,
    "start_time": "2021-09-04T23:00:36.054Z"
   },
   {
    "duration": 546,
    "start_time": "2021-09-04T23:04:33.589Z"
   },
   {
    "duration": 245,
    "start_time": "2021-09-04T23:04:45.680Z"
   },
   {
    "duration": 120,
    "start_time": "2021-09-04T23:05:13.024Z"
   },
   {
    "duration": 362,
    "start_time": "2021-09-04T23:05:17.878Z"
   },
   {
    "duration": 373,
    "start_time": "2021-09-04T23:05:32.920Z"
   },
   {
    "duration": 368,
    "start_time": "2021-09-04T23:05:39.213Z"
   },
   {
    "duration": 592,
    "start_time": "2021-09-04T23:05:46.490Z"
   },
   {
    "duration": 371,
    "start_time": "2021-09-04T23:05:49.074Z"
   },
   {
    "duration": 606,
    "start_time": "2021-09-04T23:06:53.184Z"
   },
   {
    "duration": 633,
    "start_time": "2021-09-04T23:07:54.058Z"
   },
   {
    "duration": 462,
    "start_time": "2021-09-04T23:09:47.175Z"
   },
   {
    "duration": 417,
    "start_time": "2021-09-04T23:15:58.777Z"
   },
   {
    "duration": 377,
    "start_time": "2021-09-04T23:16:46.981Z"
   },
   {
    "duration": 347,
    "start_time": "2021-09-04T23:18:56.148Z"
   },
   {
    "duration": 340,
    "start_time": "2021-09-04T23:19:04.764Z"
   },
   {
    "duration": 40,
    "start_time": "2021-09-04T23:21:57.189Z"
   },
   {
    "duration": 40,
    "start_time": "2021-09-04T23:22:19.366Z"
   },
   {
    "duration": 431,
    "start_time": "2021-09-04T23:23:16.497Z"
   },
   {
    "duration": 244,
    "start_time": "2021-09-04T23:23:20.970Z"
   },
   {
    "duration": 282,
    "start_time": "2021-09-04T23:25:58.312Z"
   },
   {
    "duration": 920,
    "start_time": "2021-09-04T23:29:13.782Z"
   },
   {
    "duration": 1627,
    "start_time": "2021-09-04T23:29:27.719Z"
   },
   {
    "duration": 1246,
    "start_time": "2021-09-04T23:29:36.570Z"
   },
   {
    "duration": 922,
    "start_time": "2021-09-05T00:03:16.780Z"
   },
   {
    "duration": 356,
    "start_time": "2021-09-05T00:06:34.241Z"
   },
   {
    "duration": 369,
    "start_time": "2021-09-05T00:06:46.128Z"
   },
   {
    "duration": 376,
    "start_time": "2021-09-05T00:06:53.526Z"
   },
   {
    "duration": 378,
    "start_time": "2021-09-05T00:07:14.191Z"
   },
   {
    "duration": 6468,
    "start_time": "2021-09-05T00:07:47.371Z"
   },
   {
    "duration": 977,
    "start_time": "2021-09-05T00:08:50.266Z"
   },
   {
    "duration": 46,
    "start_time": "2021-09-05T00:08:51.246Z"
   },
   {
    "duration": 26,
    "start_time": "2021-09-05T00:08:51.296Z"
   },
   {
    "duration": 216,
    "start_time": "2021-09-05T00:08:51.325Z"
   },
   {
    "duration": 32,
    "start_time": "2021-09-05T00:08:51.543Z"
   },
   {
    "duration": 3,
    "start_time": "2021-09-05T00:08:51.578Z"
   },
   {
    "duration": 17,
    "start_time": "2021-09-05T00:08:51.584Z"
   },
   {
    "duration": 8,
    "start_time": "2021-09-05T00:08:51.605Z"
   },
   {
    "duration": 42,
    "start_time": "2021-09-05T00:08:51.616Z"
   },
   {
    "duration": 19,
    "start_time": "2021-09-05T00:08:51.663Z"
   },
   {
    "duration": 13,
    "start_time": "2021-09-05T00:08:51.684Z"
   },
   {
    "duration": 19,
    "start_time": "2021-09-05T00:08:51.699Z"
   },
   {
    "duration": 66,
    "start_time": "2021-09-05T00:08:51.720Z"
   },
   {
    "duration": 23,
    "start_time": "2021-09-05T00:08:51.789Z"
   },
   {
    "duration": 12,
    "start_time": "2021-09-05T00:08:51.814Z"
   },
   {
    "duration": 88,
    "start_time": "2021-09-05T00:08:51.828Z"
   },
   {
    "duration": 39,
    "start_time": "2021-09-05T00:08:51.918Z"
   },
   {
    "duration": 18,
    "start_time": "2021-09-05T00:08:51.960Z"
   },
   {
    "duration": 18,
    "start_time": "2021-09-05T00:08:51.981Z"
   },
   {
    "duration": 9,
    "start_time": "2021-09-05T00:08:52.002Z"
   },
   {
    "duration": 51,
    "start_time": "2021-09-05T00:08:52.013Z"
   },
   {
    "duration": 44,
    "start_time": "2021-09-05T00:08:52.067Z"
   },
   {
    "duration": 43,
    "start_time": "2021-09-05T00:08:52.118Z"
   },
   {
    "duration": 29,
    "start_time": "2021-09-05T00:08:52.165Z"
   },
   {
    "duration": 1924,
    "start_time": "2021-09-05T00:08:52.196Z"
   },
   {
    "duration": 1824,
    "start_time": "2021-09-05T00:08:54.123Z"
   },
   {
    "duration": 454,
    "start_time": "2021-09-05T00:08:55.956Z"
   },
   {
    "duration": 316,
    "start_time": "2021-09-05T00:08:56.412Z"
   },
   {
    "duration": 7,
    "start_time": "2021-09-05T00:08:56.731Z"
   },
   {
    "duration": 13091,
    "start_time": "2021-09-05T00:08:56.740Z"
   },
   {
    "duration": 26046,
    "start_time": "2021-09-05T00:09:09.833Z"
   },
   {
    "duration": 18,
    "start_time": "2021-09-05T00:09:35.882Z"
   },
   {
    "duration": 63,
    "start_time": "2021-09-05T00:09:35.902Z"
   },
   {
    "duration": 339,
    "start_time": "2021-09-05T00:09:35.967Z"
   },
   {
    "duration": 939,
    "start_time": "2021-09-05T00:09:36.308Z"
   },
   {
    "duration": 6581,
    "start_time": "2021-09-05T00:09:37.256Z"
   },
   {
    "duration": 6468,
    "start_time": "2021-09-05T00:10:37.488Z"
   },
   {
    "duration": 13,
    "start_time": "2021-09-05T00:11:01.665Z"
   },
   {
    "duration": 6845,
    "start_time": "2021-09-05T00:11:23.792Z"
   },
   {
    "duration": 8,
    "start_time": "2021-09-05T00:12:31.243Z"
   },
   {
    "duration": 371,
    "start_time": "2021-09-05T00:16:12.624Z"
   },
   {
    "duration": 6674,
    "start_time": "2021-09-05T00:16:35.521Z"
   },
   {
    "duration": 6867,
    "start_time": "2021-09-05T00:16:58.349Z"
   },
   {
    "duration": 6678,
    "start_time": "2021-09-05T00:17:22.416Z"
   },
   {
    "duration": 484,
    "start_time": "2021-09-05T00:17:39.736Z"
   },
   {
    "duration": 19902,
    "start_time": "2021-09-05T00:20:26.270Z"
   },
   {
    "duration": 1064,
    "start_time": "2021-09-05T00:20:58.548Z"
   },
   {
    "duration": 51,
    "start_time": "2021-09-05T00:20:59.615Z"
   },
   {
    "duration": 29,
    "start_time": "2021-09-05T00:20:59.670Z"
   },
   {
    "duration": 218,
    "start_time": "2021-09-05T00:20:59.701Z"
   },
   {
    "duration": 36,
    "start_time": "2021-09-05T00:20:59.922Z"
   },
   {
    "duration": 5,
    "start_time": "2021-09-05T00:20:59.960Z"
   },
   {
    "duration": 16,
    "start_time": "2021-09-05T00:20:59.967Z"
   },
   {
    "duration": 7,
    "start_time": "2021-09-05T00:20:59.987Z"
   },
   {
    "duration": 13,
    "start_time": "2021-09-05T00:20:59.998Z"
   },
   {
    "duration": 56,
    "start_time": "2021-09-05T00:21:00.014Z"
   },
   {
    "duration": 23,
    "start_time": "2021-09-05T00:21:00.074Z"
   },
   {
    "duration": 23,
    "start_time": "2021-09-05T00:21:00.099Z"
   },
   {
    "duration": 66,
    "start_time": "2021-09-05T00:21:00.125Z"
   },
   {
    "duration": 30,
    "start_time": "2021-09-05T00:21:00.194Z"
   },
   {
    "duration": 34,
    "start_time": "2021-09-05T00:21:00.227Z"
   },
   {
    "duration": 107,
    "start_time": "2021-09-05T00:21:00.264Z"
   },
   {
    "duration": 41,
    "start_time": "2021-09-05T00:21:00.374Z"
   },
   {
    "duration": 45,
    "start_time": "2021-09-05T00:21:00.418Z"
   },
   {
    "duration": 20,
    "start_time": "2021-09-05T00:21:00.465Z"
   },
   {
    "duration": 9,
    "start_time": "2021-09-05T00:21:00.488Z"
   },
   {
    "duration": 23,
    "start_time": "2021-09-05T00:21:00.499Z"
   },
   {
    "duration": 73,
    "start_time": "2021-09-05T00:21:00.525Z"
   },
   {
    "duration": 19,
    "start_time": "2021-09-05T00:21:00.603Z"
   },
   {
    "duration": 51,
    "start_time": "2021-09-05T00:21:00.626Z"
   },
   {
    "duration": 2957,
    "start_time": "2021-09-05T00:21:00.680Z"
   },
   {
    "duration": 2721,
    "start_time": "2021-09-05T00:21:03.640Z"
   },
   {
    "duration": 686,
    "start_time": "2021-09-05T00:21:06.364Z"
   },
   {
    "duration": 486,
    "start_time": "2021-09-05T00:21:07.056Z"
   },
   {
    "duration": 18,
    "start_time": "2021-09-05T00:21:07.545Z"
   },
   {
    "duration": 13497,
    "start_time": "2021-09-05T00:21:07.566Z"
   },
   {
    "duration": 23916,
    "start_time": "2021-09-05T00:21:21.066Z"
   },
   {
    "duration": 18,
    "start_time": "2021-09-05T00:21:44.985Z"
   },
   {
    "duration": 57,
    "start_time": "2021-09-05T00:21:45.005Z"
   },
   {
    "duration": 311,
    "start_time": "2021-09-05T00:21:45.064Z"
   },
   {
    "duration": 1034,
    "start_time": "2021-09-05T00:21:45.377Z"
   },
   {
    "duration": 8850,
    "start_time": "2021-09-05T00:21:46.414Z"
   },
   {
    "duration": 31820,
    "start_time": "2021-09-05T00:27:45.381Z"
   },
   {
    "duration": 30647,
    "start_time": "2021-09-05T00:28:30.672Z"
   },
   {
    "duration": 18,
    "start_time": "2021-09-05T00:32:05.279Z"
   },
   {
    "duration": 876,
    "start_time": "2021-09-05T00:32:37.849Z"
   },
   {
    "duration": 980,
    "start_time": "2021-09-05T00:33:23.742Z"
   },
   {
    "duration": 43,
    "start_time": "2021-09-05T00:35:48.671Z"
   },
   {
    "duration": 224,
    "start_time": "2021-09-05T00:36:31.223Z"
   },
   {
    "duration": 324,
    "start_time": "2021-09-05T00:37:04.145Z"
   },
   {
    "duration": 42,
    "start_time": "2021-09-05T00:37:19.365Z"
   },
   {
    "duration": 8851,
    "start_time": "2021-09-05T00:37:57.059Z"
   },
   {
    "duration": 8412,
    "start_time": "2021-09-05T00:44:41.226Z"
   },
   {
    "duration": 292,
    "start_time": "2021-09-05T00:45:07.168Z"
   },
   {
    "duration": 8783,
    "start_time": "2021-09-05T00:45:56.663Z"
   },
   {
    "duration": 274,
    "start_time": "2021-09-05T00:46:14.506Z"
   },
   {
    "duration": 253,
    "start_time": "2021-09-05T00:48:03.167Z"
   },
   {
    "duration": 377,
    "start_time": "2021-09-05T00:48:41.102Z"
   },
   {
    "duration": 342,
    "start_time": "2021-09-05T00:48:56.424Z"
   },
   {
    "duration": 625,
    "start_time": "2021-09-05T00:51:45.452Z"
   },
   {
    "duration": 129,
    "start_time": "2021-09-05T00:53:08.395Z"
   },
   {
    "duration": 888,
    "start_time": "2021-09-05T00:53:20.953Z"
   },
   {
    "duration": 111,
    "start_time": "2021-09-05T00:53:59.651Z"
   },
   {
    "duration": 131,
    "start_time": "2021-09-05T00:54:24.239Z"
   },
   {
    "duration": 1042,
    "start_time": "2021-09-05T00:54:34.714Z"
   },
   {
    "duration": 1193,
    "start_time": "2021-09-05T00:55:07.155Z"
   },
   {
    "duration": 953,
    "start_time": "2021-09-05T00:55:17.512Z"
   },
   {
    "duration": 1286,
    "start_time": "2021-09-05T00:56:36.157Z"
   },
   {
    "duration": 973,
    "start_time": "2021-09-05T00:57:12.782Z"
   },
   {
    "duration": 662,
    "start_time": "2021-09-05T16:01:28.987Z"
   },
   {
    "duration": 24,
    "start_time": "2021-09-05T16:01:29.651Z"
   },
   {
    "duration": 27,
    "start_time": "2021-09-05T16:01:29.677Z"
   },
   {
    "duration": 132,
    "start_time": "2021-09-05T16:01:29.706Z"
   },
   {
    "duration": 15,
    "start_time": "2021-09-05T16:01:29.841Z"
   },
   {
    "duration": 3,
    "start_time": "2021-09-05T16:01:29.858Z"
   },
   {
    "duration": 28,
    "start_time": "2021-09-05T16:01:29.863Z"
   },
   {
    "duration": 6,
    "start_time": "2021-09-05T16:01:29.894Z"
   },
   {
    "duration": 7,
    "start_time": "2021-09-05T16:01:29.902Z"
   },
   {
    "duration": 9,
    "start_time": "2021-09-05T16:01:29.911Z"
   },
   {
    "duration": 6,
    "start_time": "2021-09-05T16:01:29.922Z"
   },
   {
    "duration": 57,
    "start_time": "2021-09-05T16:01:29.930Z"
   },
   {
    "duration": 17,
    "start_time": "2021-09-05T16:01:29.989Z"
   },
   {
    "duration": 17,
    "start_time": "2021-09-05T16:01:30.008Z"
   },
   {
    "duration": 9,
    "start_time": "2021-09-05T16:01:30.026Z"
   },
   {
    "duration": 78,
    "start_time": "2021-09-05T16:01:30.037Z"
   },
   {
    "duration": 20,
    "start_time": "2021-09-05T16:01:30.116Z"
   },
   {
    "duration": 11,
    "start_time": "2021-09-05T16:01:30.137Z"
   },
   {
    "duration": 10,
    "start_time": "2021-09-05T16:01:30.150Z"
   },
   {
    "duration": 5,
    "start_time": "2021-09-05T16:01:30.185Z"
   },
   {
    "duration": 7,
    "start_time": "2021-09-05T16:01:30.192Z"
   },
   {
    "duration": 20,
    "start_time": "2021-09-05T16:01:30.200Z"
   },
   {
    "duration": 12,
    "start_time": "2021-09-05T16:01:30.223Z"
   },
   {
    "duration": 14,
    "start_time": "2021-09-05T16:01:30.237Z"
   },
   {
    "duration": 1197,
    "start_time": "2021-09-05T16:01:30.253Z"
   },
   {
    "duration": 1052,
    "start_time": "2021-09-05T16:01:31.453Z"
   },
   {
    "duration": 270,
    "start_time": "2021-09-05T16:01:32.507Z"
   },
   {
    "duration": 195,
    "start_time": "2021-09-05T16:01:32.779Z"
   },
   {
    "duration": 12,
    "start_time": "2021-09-05T16:01:32.976Z"
   },
   {
    "duration": 7349,
    "start_time": "2021-09-05T16:01:32.989Z"
   },
   {
    "duration": 14601,
    "start_time": "2021-09-05T16:01:40.339Z"
   },
   {
    "duration": 11,
    "start_time": "2021-09-05T16:01:54.942Z"
   },
   {
    "duration": 34,
    "start_time": "2021-09-05T16:01:54.954Z"
   },
   {
    "duration": 181,
    "start_time": "2021-09-05T16:01:54.990Z"
   },
   {
    "duration": 575,
    "start_time": "2021-09-05T16:01:55.173Z"
   },
   {
    "duration": 14448,
    "start_time": "2021-09-05T16:01:55.749Z"
   },
   {
    "duration": 13,
    "start_time": "2021-09-05T16:02:10.199Z"
   },
   {
    "duration": 114,
    "start_time": "2021-09-05T16:07:16.798Z"
   },
   {
    "duration": 4412,
    "start_time": "2021-09-05T16:37:52.837Z"
   },
   {
    "duration": 627,
    "start_time": "2021-09-05T16:38:14.127Z"
   },
   {
    "duration": 22,
    "start_time": "2021-09-05T16:38:14.756Z"
   },
   {
    "duration": 18,
    "start_time": "2021-09-05T16:38:14.785Z"
   },
   {
    "duration": 131,
    "start_time": "2021-09-05T16:38:14.806Z"
   },
   {
    "duration": 15,
    "start_time": "2021-09-05T16:38:14.939Z"
   },
   {
    "duration": 9,
    "start_time": "2021-09-05T16:38:14.956Z"
   },
   {
    "duration": 21,
    "start_time": "2021-09-05T16:38:14.966Z"
   },
   {
    "duration": 4,
    "start_time": "2021-09-05T16:38:14.989Z"
   },
   {
    "duration": 6,
    "start_time": "2021-09-05T16:38:14.995Z"
   },
   {
    "duration": 7,
    "start_time": "2021-09-05T16:38:15.003Z"
   },
   {
    "duration": 6,
    "start_time": "2021-09-05T16:38:15.012Z"
   },
   {
    "duration": 11,
    "start_time": "2021-09-05T16:38:15.019Z"
   },
   {
    "duration": 16,
    "start_time": "2021-09-05T16:38:15.031Z"
   },
   {
    "duration": 15,
    "start_time": "2021-09-05T16:38:15.085Z"
   },
   {
    "duration": 8,
    "start_time": "2021-09-05T16:38:15.102Z"
   },
   {
    "duration": 42,
    "start_time": "2021-09-05T16:38:15.111Z"
   },
   {
    "duration": 43,
    "start_time": "2021-09-05T16:38:15.155Z"
   },
   {
    "duration": 10,
    "start_time": "2021-09-05T16:38:15.200Z"
   },
   {
    "duration": 11,
    "start_time": "2021-09-05T16:38:15.211Z"
   },
   {
    "duration": 5,
    "start_time": "2021-09-05T16:38:15.224Z"
   },
   {
    "duration": 7,
    "start_time": "2021-09-05T16:38:15.230Z"
   },
   {
    "duration": 8,
    "start_time": "2021-09-05T16:38:15.238Z"
   },
   {
    "duration": 47,
    "start_time": "2021-09-05T16:38:15.249Z"
   },
   {
    "duration": 12,
    "start_time": "2021-09-05T16:38:15.297Z"
   },
   {
    "duration": 13,
    "start_time": "2021-09-05T16:38:15.310Z"
   },
   {
    "duration": 1163,
    "start_time": "2021-09-05T16:38:15.325Z"
   },
   {
    "duration": 1044,
    "start_time": "2021-09-05T16:38:16.491Z"
   },
   {
    "duration": 280,
    "start_time": "2021-09-05T16:38:17.537Z"
   },
   {
    "duration": 187,
    "start_time": "2021-09-05T16:38:17.819Z"
   },
   {
    "duration": 5,
    "start_time": "2021-09-05T16:38:18.008Z"
   },
   {
    "duration": 7731,
    "start_time": "2021-09-05T16:38:18.015Z"
   },
   {
    "duration": 14678,
    "start_time": "2021-09-05T16:38:25.748Z"
   },
   {
    "duration": 12,
    "start_time": "2021-09-05T16:38:40.428Z"
   },
   {
    "duration": 19,
    "start_time": "2021-09-05T16:38:40.441Z"
   },
   {
    "duration": 205,
    "start_time": "2021-09-05T16:38:40.461Z"
   },
   {
    "duration": 583,
    "start_time": "2021-09-05T16:38:40.667Z"
   },
   {
    "duration": 14733,
    "start_time": "2021-09-05T16:38:41.252Z"
   },
   {
    "duration": 14,
    "start_time": "2021-09-05T16:38:55.987Z"
   },
   {
    "duration": 24,
    "start_time": "2021-09-05T16:38:56.003Z"
   },
   {
    "duration": 2218,
    "start_time": "2021-09-05T18:51:27.780Z"
   },
   {
    "duration": 645,
    "start_time": "2021-09-05T18:53:10.672Z"
   },
   {
    "duration": 50,
    "start_time": "2021-09-05T18:53:19.380Z"
   },
   {
    "duration": 11,
    "start_time": "2021-09-05T18:58:15.298Z"
   },
   {
    "duration": 12,
    "start_time": "2021-09-05T18:58:39.096Z"
   },
   {
    "duration": 91,
    "start_time": "2021-09-05T19:18:17.246Z"
   },
   {
    "duration": 67,
    "start_time": "2021-09-05T19:19:13.302Z"
   },
   {
    "duration": 1615,
    "start_time": "2021-09-05T19:20:04.482Z"
   },
   {
    "duration": 69,
    "start_time": "2021-09-05T19:20:25.882Z"
   },
   {
    "duration": 11,
    "start_time": "2021-09-05T19:22:24.426Z"
   },
   {
    "duration": 11,
    "start_time": "2021-09-05T19:24:21.538Z"
   },
   {
    "duration": 526,
    "start_time": "2021-09-05T19:24:24.309Z"
   },
   {
    "duration": 20,
    "start_time": "2021-09-05T19:25:54.667Z"
   },
   {
    "duration": 16,
    "start_time": "2021-09-05T19:26:05.995Z"
   },
   {
    "duration": 6,
    "start_time": "2021-09-05T19:29:49.363Z"
   },
   {
    "duration": 17,
    "start_time": "2021-09-05T19:30:00.013Z"
   },
   {
    "duration": 17,
    "start_time": "2021-09-05T19:30:13.558Z"
   },
   {
    "duration": 20,
    "start_time": "2021-09-05T19:34:12.621Z"
   },
   {
    "duration": 16,
    "start_time": "2021-09-05T19:34:25.240Z"
   },
   {
    "duration": 56,
    "start_time": "2021-09-05T19:34:45.267Z"
   },
   {
    "duration": 18,
    "start_time": "2021-09-05T19:34:59.375Z"
   },
   {
    "duration": 156,
    "start_time": "2021-09-05T19:36:32.668Z"
   },
   {
    "duration": 406,
    "start_time": "2021-09-05T19:36:37.515Z"
   },
   {
    "duration": 23,
    "start_time": "2021-09-05T19:36:57.843Z"
   },
   {
    "duration": 389,
    "start_time": "2021-09-05T20:07:24.617Z"
   },
   {
    "duration": 46,
    "start_time": "2021-09-05T20:07:40.273Z"
   },
   {
    "duration": 46,
    "start_time": "2021-09-05T20:08:58.970Z"
   },
   {
    "duration": 44,
    "start_time": "2021-09-05T20:11:12.347Z"
   },
   {
    "duration": 396,
    "start_time": "2021-09-05T20:12:55.972Z"
   },
   {
    "duration": 980,
    "start_time": "2021-09-05T20:13:22.512Z"
   },
   {
    "duration": 60,
    "start_time": "2021-09-05T20:13:23.494Z"
   },
   {
    "duration": 189,
    "start_time": "2021-09-05T20:13:23.556Z"
   },
   {
    "duration": 21,
    "start_time": "2021-09-05T20:13:23.749Z"
   },
   {
    "duration": 102,
    "start_time": "2021-09-05T20:13:23.772Z"
   },
   {
    "duration": 9,
    "start_time": "2021-09-05T20:13:23.877Z"
   },
   {
    "duration": 39,
    "start_time": "2021-09-05T20:13:23.888Z"
   },
   {
    "duration": 9,
    "start_time": "2021-09-05T20:13:23.932Z"
   },
   {
    "duration": 15,
    "start_time": "2021-09-05T20:13:23.944Z"
   },
   {
    "duration": 498,
    "start_time": "2021-09-05T20:13:23.961Z"
   },
   {
    "duration": -237,
    "start_time": "2021-09-05T20:13:24.699Z"
   },
   {
    "duration": -242,
    "start_time": "2021-09-05T20:13:24.705Z"
   },
   {
    "duration": -256,
    "start_time": "2021-09-05T20:13:24.721Z"
   },
   {
    "duration": -261,
    "start_time": "2021-09-05T20:13:24.727Z"
   },
   {
    "duration": -333,
    "start_time": "2021-09-05T20:13:24.800Z"
   },
   {
    "duration": -347,
    "start_time": "2021-09-05T20:13:24.816Z"
   },
   {
    "duration": -350,
    "start_time": "2021-09-05T20:13:24.820Z"
   },
   {
    "duration": -359,
    "start_time": "2021-09-05T20:13:24.830Z"
   },
   {
    "duration": -361,
    "start_time": "2021-09-05T20:13:24.834Z"
   },
   {
    "duration": -364,
    "start_time": "2021-09-05T20:13:24.838Z"
   },
   {
    "duration": -370,
    "start_time": "2021-09-05T20:13:24.846Z"
   },
   {
    "duration": -374,
    "start_time": "2021-09-05T20:13:24.851Z"
   },
   {
    "duration": -377,
    "start_time": "2021-09-05T20:13:24.856Z"
   },
   {
    "duration": -386,
    "start_time": "2021-09-05T20:13:24.866Z"
   },
   {
    "duration": -390,
    "start_time": "2021-09-05T20:13:24.871Z"
   },
   {
    "duration": -392,
    "start_time": "2021-09-05T20:13:24.875Z"
   },
   {
    "duration": -399,
    "start_time": "2021-09-05T20:13:24.883Z"
   },
   {
    "duration": -414,
    "start_time": "2021-09-05T20:13:24.900Z"
   },
   {
    "duration": -424,
    "start_time": "2021-09-05T20:13:24.911Z"
   },
   {
    "duration": -428,
    "start_time": "2021-09-05T20:13:24.916Z"
   },
   {
    "duration": -436,
    "start_time": "2021-09-05T20:13:24.926Z"
   },
   {
    "duration": -444,
    "start_time": "2021-09-05T20:13:24.935Z"
   },
   {
    "duration": -448,
    "start_time": "2021-09-05T20:13:24.940Z"
   },
   {
    "duration": -454,
    "start_time": "2021-09-05T20:13:24.948Z"
   },
   {
    "duration": -456,
    "start_time": "2021-09-05T20:13:24.951Z"
   },
   {
    "duration": -459,
    "start_time": "2021-09-05T20:13:24.955Z"
   },
   {
    "duration": 377,
    "start_time": "2021-09-05T20:13:39.492Z"
   },
   {
    "duration": 493,
    "start_time": "2021-09-05T20:15:40.491Z"
   },
   {
    "duration": 12,
    "start_time": "2021-09-05T20:16:00.801Z"
   },
   {
    "duration": 993,
    "start_time": "2021-09-05T20:16:16.203Z"
   },
   {
    "duration": 65,
    "start_time": "2021-09-05T20:16:17.199Z"
   },
   {
    "duration": 213,
    "start_time": "2021-09-05T20:16:17.268Z"
   },
   {
    "duration": 94,
    "start_time": "2021-09-05T20:16:17.485Z"
   },
   {
    "duration": 11,
    "start_time": "2021-09-05T20:16:17.582Z"
   },
   {
    "duration": 10,
    "start_time": "2021-09-05T20:16:17.615Z"
   },
   {
    "duration": 30,
    "start_time": "2021-09-05T20:16:17.628Z"
   },
   {
    "duration": 16,
    "start_time": "2021-09-05T20:16:17.664Z"
   },
   {
    "duration": 33,
    "start_time": "2021-09-05T20:16:17.683Z"
   },
   {
    "duration": 23,
    "start_time": "2021-09-05T20:16:17.719Z"
   },
   {
    "duration": 21,
    "start_time": "2021-09-05T20:16:17.745Z"
   },
   {
    "duration": 80,
    "start_time": "2021-09-05T20:16:17.769Z"
   },
   {
    "duration": 44,
    "start_time": "2021-09-05T20:16:17.851Z"
   },
   {
    "duration": 42,
    "start_time": "2021-09-05T20:16:17.897Z"
   },
   {
    "duration": 31,
    "start_time": "2021-09-05T20:16:17.942Z"
   },
   {
    "duration": 51,
    "start_time": "2021-09-05T20:16:17.976Z"
   },
   {
    "duration": 17,
    "start_time": "2021-09-05T20:16:18.030Z"
   },
   {
    "duration": 10,
    "start_time": "2021-09-05T20:16:18.050Z"
   },
   {
    "duration": 55,
    "start_time": "2021-09-05T20:16:18.063Z"
   },
   {
    "duration": 30,
    "start_time": "2021-09-05T20:16:18.121Z"
   },
   {
    "duration": 19,
    "start_time": "2021-09-05T20:16:18.154Z"
   },
   {
    "duration": 57,
    "start_time": "2021-09-05T20:16:18.175Z"
   },
   {
    "duration": 1987,
    "start_time": "2021-09-05T20:16:18.237Z"
   },
   {
    "duration": 1768,
    "start_time": "2021-09-05T20:16:20.227Z"
   },
   {
    "duration": 440,
    "start_time": "2021-09-05T20:16:21.998Z"
   },
   {
    "duration": 317,
    "start_time": "2021-09-05T20:16:22.441Z"
   },
   {
    "duration": 8,
    "start_time": "2021-09-05T20:16:22.761Z"
   },
   {
    "duration": 12492,
    "start_time": "2021-09-05T20:16:22.771Z"
   },
   {
    "duration": 26203,
    "start_time": "2021-09-05T20:16:35.265Z"
   },
   {
    "duration": 16,
    "start_time": "2021-09-05T20:17:01.471Z"
   },
   {
    "duration": 52,
    "start_time": "2021-09-05T20:17:01.489Z"
   },
   {
    "duration": 354,
    "start_time": "2021-09-05T20:17:01.544Z"
   },
   {
    "duration": 1028,
    "start_time": "2021-09-05T20:17:01.900Z"
   },
   {
    "duration": 23569,
    "start_time": "2021-09-05T20:17:02.930Z"
   },
   {
    "duration": 31,
    "start_time": "2021-09-05T20:17:26.502Z"
   },
   {
    "duration": 41,
    "start_time": "2021-09-05T20:17:27.267Z"
   },
   {
    "duration": 506,
    "start_time": "2021-09-05T20:29:01.231Z"
   },
   {
    "duration": 67,
    "start_time": "2021-09-05T20:29:42.331Z"
   },
   {
    "duration": 379,
    "start_time": "2021-09-05T20:46:48.036Z"
   },
   {
    "duration": 386,
    "start_time": "2021-09-05T20:47:22.591Z"
   },
   {
    "duration": 20,
    "start_time": "2021-09-05T20:47:32.577Z"
   },
   {
    "duration": 22,
    "start_time": "2021-09-05T20:47:48.096Z"
   },
   {
    "duration": 101,
    "start_time": "2021-09-05T20:48:07.952Z"
   },
   {
    "duration": 9,
    "start_time": "2021-09-05T20:50:52.391Z"
   },
   {
    "duration": 14,
    "start_time": "2021-09-05T20:51:31.494Z"
   },
   {
    "duration": 46,
    "start_time": "2021-09-05T20:51:48.204Z"
   },
   {
    "duration": 459,
    "start_time": "2021-09-05T21:06:36.673Z"
   },
   {
    "duration": 843,
    "start_time": "2021-09-05T21:06:54.823Z"
   },
   {
    "duration": 1021,
    "start_time": "2021-09-05T21:12:43.576Z"
   },
   {
    "duration": 381,
    "start_time": "2021-09-05T21:12:52.854Z"
   },
   {
    "duration": 376,
    "start_time": "2021-09-05T21:14:35.421Z"
   },
   {
    "duration": 4,
    "start_time": "2021-09-05T21:30:41.196Z"
   },
   {
    "duration": 845,
    "start_time": "2021-09-05T21:31:14.545Z"
   },
   {
    "duration": 1402,
    "start_time": "2021-09-05T21:31:35.216Z"
   },
   {
    "duration": -236,
    "start_time": "2021-09-05T21:32:41.109Z"
   },
   {
    "duration": 59137,
    "start_time": "2021-09-05T21:32:44.965Z"
   },
   {
    "duration": 406,
    "start_time": "2021-09-05T21:34:16.386Z"
   },
   {
    "duration": 365,
    "start_time": "2021-09-05T21:39:05.222Z"
   },
   {
    "duration": 643,
    "start_time": "2021-09-05T21:45:03.309Z"
   },
   {
    "duration": 763,
    "start_time": "2021-09-05T21:45:15.100Z"
   },
   {
    "duration": 358,
    "start_time": "2021-09-05T21:45:25.284Z"
   },
   {
    "duration": 738,
    "start_time": "2021-09-05T21:49:13.998Z"
   },
   {
    "duration": 374,
    "start_time": "2021-09-05T21:56:12.923Z"
   },
   {
    "duration": 376,
    "start_time": "2021-09-05T21:56:31.145Z"
   },
   {
    "duration": 380,
    "start_time": "2021-09-05T21:57:28.603Z"
   },
   {
    "duration": 939,
    "start_time": "2021-09-05T21:57:44.637Z"
   },
   {
    "duration": 60,
    "start_time": "2021-09-05T21:57:45.579Z"
   },
   {
    "duration": 184,
    "start_time": "2021-09-05T21:57:45.643Z"
   },
   {
    "duration": 89,
    "start_time": "2021-09-05T21:57:45.831Z"
   },
   {
    "duration": 9,
    "start_time": "2021-09-05T21:57:45.923Z"
   },
   {
    "duration": 17,
    "start_time": "2021-09-05T21:57:45.935Z"
   },
   {
    "duration": 10,
    "start_time": "2021-09-05T21:57:45.954Z"
   },
   {
    "duration": 50,
    "start_time": "2021-09-05T21:57:45.968Z"
   },
   {
    "duration": 12,
    "start_time": "2021-09-05T21:57:46.021Z"
   },
   {
    "duration": 21,
    "start_time": "2021-09-05T21:57:46.035Z"
   },
   {
    "duration": 13,
    "start_time": "2021-09-05T21:57:46.058Z"
   },
   {
    "duration": 90,
    "start_time": "2021-09-05T21:57:46.074Z"
   },
   {
    "duration": 60,
    "start_time": "2021-09-05T21:57:46.166Z"
   },
   {
    "duration": 28,
    "start_time": "2021-09-05T21:57:46.229Z"
   },
   {
    "duration": 78,
    "start_time": "2021-09-05T21:57:46.260Z"
   },
   {
    "duration": 37,
    "start_time": "2021-09-05T21:57:46.340Z"
   },
   {
    "duration": 36,
    "start_time": "2021-09-05T21:57:46.380Z"
   },
   {
    "duration": 8,
    "start_time": "2021-09-05T21:57:46.419Z"
   },
   {
    "duration": 30,
    "start_time": "2021-09-05T21:57:46.429Z"
   },
   {
    "duration": 461,
    "start_time": "2021-09-05T21:57:46.461Z"
   },
   {
    "duration": 1821,
    "start_time": "2021-09-05T21:57:46.924Z"
   },
   {
    "duration": 456,
    "start_time": "2021-09-05T21:57:48.747Z"
   },
   {
    "duration": 319,
    "start_time": "2021-09-05T21:57:49.207Z"
   },
   {
    "duration": 9,
    "start_time": "2021-09-05T21:57:49.529Z"
   },
   {
    "duration": 12448,
    "start_time": "2021-09-05T21:57:49.541Z"
   },
   {
    "duration": 23810,
    "start_time": "2021-09-05T21:58:01.991Z"
   },
   {
    "duration": 24,
    "start_time": "2021-09-05T21:58:25.803Z"
   },
   {
    "duration": 31,
    "start_time": "2021-09-05T21:58:25.829Z"
   },
   {
    "duration": 435,
    "start_time": "2021-09-05T21:58:25.863Z"
   },
   {
    "duration": 995,
    "start_time": "2021-09-05T21:58:26.301Z"
   },
   {
    "duration": 24724,
    "start_time": "2021-09-05T21:58:27.298Z"
   },
   {
    "duration": 20,
    "start_time": "2021-09-05T21:58:52.024Z"
   },
   {
    "duration": 518,
    "start_time": "2021-09-05T21:59:17.888Z"
   },
   {
    "duration": 1660,
    "start_time": "2021-09-05T21:59:46.700Z"
   },
   {
    "duration": 388,
    "start_time": "2021-09-05T22:01:28.705Z"
   },
   {
    "duration": 388,
    "start_time": "2021-09-05T22:03:29.529Z"
   },
   {
    "duration": 381,
    "start_time": "2021-09-05T22:03:45.755Z"
   },
   {
    "duration": 147,
    "start_time": "2021-09-05T22:04:05.718Z"
   },
   {
    "duration": 453,
    "start_time": "2021-09-05T22:04:09.736Z"
   },
   {
    "duration": 198,
    "start_time": "2021-09-05T22:04:47.461Z"
   },
   {
    "duration": 446,
    "start_time": "2021-09-05T22:05:28.416Z"
   },
   {
    "duration": 1152,
    "start_time": "2021-09-05T22:06:34.816Z"
   },
   {
    "duration": 404,
    "start_time": "2021-09-05T22:10:24.030Z"
   },
   {
    "duration": 792,
    "start_time": "2021-09-05T22:10:37.830Z"
   },
   {
    "duration": 1095,
    "start_time": "2021-09-05T22:10:54.686Z"
   },
   {
    "duration": 18,
    "start_time": "2021-09-05T22:13:29.637Z"
   },
   {
    "duration": 26,
    "start_time": "2021-09-05T22:15:19.498Z"
   },
   {
    "duration": 33,
    "start_time": "2021-09-05T22:17:58.799Z"
   },
   {
    "duration": 35,
    "start_time": "2021-09-05T22:18:25.737Z"
   },
   {
    "duration": 17,
    "start_time": "2021-09-05T22:20:23.753Z"
   },
   {
    "duration": 17,
    "start_time": "2021-09-05T22:20:28.429Z"
   },
   {
    "duration": 986,
    "start_time": "2021-09-05T22:20:39.830Z"
   },
   {
    "duration": 50,
    "start_time": "2021-09-05T22:20:40.818Z"
   },
   {
    "duration": 186,
    "start_time": "2021-09-05T22:20:40.871Z"
   },
   {
    "duration": 84,
    "start_time": "2021-09-05T22:20:41.061Z"
   },
   {
    "duration": 9,
    "start_time": "2021-09-05T22:20:41.147Z"
   },
   {
    "duration": 9,
    "start_time": "2021-09-05T22:20:41.159Z"
   },
   {
    "duration": 47,
    "start_time": "2021-09-05T22:20:41.171Z"
   },
   {
    "duration": 16,
    "start_time": "2021-09-05T22:20:41.221Z"
   },
   {
    "duration": 14,
    "start_time": "2021-09-05T22:20:41.240Z"
   },
   {
    "duration": 21,
    "start_time": "2021-09-05T22:20:41.257Z"
   },
   {
    "duration": 12,
    "start_time": "2021-09-05T22:20:41.317Z"
   },
   {
    "duration": 53,
    "start_time": "2021-09-05T22:20:41.331Z"
   },
   {
    "duration": 72,
    "start_time": "2021-09-05T22:20:41.386Z"
   },
   {
    "duration": 28,
    "start_time": "2021-09-05T22:20:41.460Z"
   },
   {
    "duration": 51,
    "start_time": "2021-09-05T22:20:41.517Z"
   },
   {
    "duration": 59,
    "start_time": "2021-09-05T22:20:41.571Z"
   },
   {
    "duration": 15,
    "start_time": "2021-09-05T22:20:41.633Z"
   },
   {
    "duration": 9,
    "start_time": "2021-09-05T22:20:41.650Z"
   },
   {
    "duration": 65,
    "start_time": "2021-09-05T22:20:41.661Z"
   },
   {
    "duration": 1169,
    "start_time": "2021-09-05T22:20:41.728Z"
   },
   {
    "duration": 27,
    "start_time": "2021-09-05T22:20:42.899Z"
   },
   {
    "duration": 22,
    "start_time": "2021-09-05T22:20:42.929Z"
   },
   {
    "duration": 425,
    "start_time": "2021-09-05T22:20:42.955Z"
   },
   {
    "duration": 311,
    "start_time": "2021-09-05T22:20:43.383Z"
   },
   {
    "duration": 7,
    "start_time": "2021-09-05T22:20:43.697Z"
   },
   {
    "duration": 11844,
    "start_time": "2021-09-05T22:20:43.717Z"
   },
   {
    "duration": 32788,
    "start_time": "2021-09-05T22:20:55.564Z"
   },
   {
    "duration": 24,
    "start_time": "2021-09-05T22:21:28.355Z"
   },
   {
    "duration": 69,
    "start_time": "2021-09-05T22:21:28.381Z"
   },
   {
    "duration": 451,
    "start_time": "2021-09-05T22:21:28.453Z"
   },
   {
    "duration": 1457,
    "start_time": "2021-09-05T22:21:28.907Z"
   },
   {
    "duration": 22,
    "start_time": "2021-09-05T22:22:43.631Z"
   },
   {
    "duration": 36,
    "start_time": "2021-09-05T22:23:59.908Z"
   },
   {
    "duration": 57,
    "start_time": "2021-09-05T22:24:26.303Z"
   },
   {
    "duration": 982,
    "start_time": "2021-09-05T22:24:42.398Z"
   },
   {
    "duration": 59,
    "start_time": "2021-09-05T22:24:43.382Z"
   },
   {
    "duration": 186,
    "start_time": "2021-09-05T22:24:43.444Z"
   },
   {
    "duration": 89,
    "start_time": "2021-09-05T22:24:43.633Z"
   },
   {
    "duration": 9,
    "start_time": "2021-09-05T22:24:43.724Z"
   },
   {
    "duration": 10,
    "start_time": "2021-09-05T22:24:43.736Z"
   },
   {
    "duration": 10,
    "start_time": "2021-09-05T22:24:43.749Z"
   },
   {
    "duration": 54,
    "start_time": "2021-09-05T22:24:43.766Z"
   },
   {
    "duration": 17,
    "start_time": "2021-09-05T22:24:43.823Z"
   },
   {
    "duration": 21,
    "start_time": "2021-09-05T22:24:43.842Z"
   },
   {
    "duration": 12,
    "start_time": "2021-09-05T22:24:43.865Z"
   },
   {
    "duration": 82,
    "start_time": "2021-09-05T22:24:43.879Z"
   },
   {
    "duration": 61,
    "start_time": "2021-09-05T22:24:43.963Z"
   },
   {
    "duration": 30,
    "start_time": "2021-09-05T22:24:44.027Z"
   },
   {
    "duration": 81,
    "start_time": "2021-09-05T22:24:44.060Z"
   },
   {
    "duration": 38,
    "start_time": "2021-09-05T22:24:44.143Z"
   },
   {
    "duration": 38,
    "start_time": "2021-09-05T22:24:44.183Z"
   },
   {
    "duration": 8,
    "start_time": "2021-09-05T22:24:44.223Z"
   },
   {
    "duration": 41,
    "start_time": "2021-09-05T22:24:44.234Z"
   },
   {
    "duration": 1786,
    "start_time": "2021-09-05T22:24:44.278Z"
   },
   {
    "duration": 24,
    "start_time": "2021-09-05T22:24:46.067Z"
   },
   {
    "duration": 70,
    "start_time": "2021-09-05T22:24:46.094Z"
   },
   {
    "duration": 594,
    "start_time": "2021-09-05T22:24:46.171Z"
   },
   {
    "duration": 458,
    "start_time": "2021-09-05T22:24:46.768Z"
   },
   {
    "duration": 10,
    "start_time": "2021-09-05T22:24:47.229Z"
   },
   {
    "duration": 19943,
    "start_time": "2021-09-05T22:24:47.242Z"
   },
   {
    "duration": 23701,
    "start_time": "2021-09-05T22:25:07.188Z"
   },
   {
    "duration": 27,
    "start_time": "2021-09-05T22:25:30.892Z"
   },
   {
    "duration": 35,
    "start_time": "2021-09-05T22:25:30.922Z"
   },
   {
    "duration": 348,
    "start_time": "2021-09-05T22:25:30.960Z"
   },
   {
    "duration": 1000,
    "start_time": "2021-09-05T22:25:31.316Z"
   },
   {
    "duration": 22934,
    "start_time": "2021-09-05T22:25:32.319Z"
   },
   {
    "duration": 21,
    "start_time": "2021-09-05T22:25:55.256Z"
   },
   {
    "duration": 37,
    "start_time": "2021-09-05T22:25:55.352Z"
   },
   {
    "duration": 976,
    "start_time": "2021-09-05T22:26:05.842Z"
   },
   {
    "duration": 51,
    "start_time": "2021-09-05T22:26:06.821Z"
   },
   {
    "duration": 202,
    "start_time": "2021-09-05T22:26:06.876Z"
   },
   {
    "duration": 84,
    "start_time": "2021-09-05T22:26:07.081Z"
   },
   {
    "duration": 9,
    "start_time": "2021-09-05T22:26:07.167Z"
   },
   {
    "duration": 9,
    "start_time": "2021-09-05T22:26:07.178Z"
   },
   {
    "duration": 9,
    "start_time": "2021-09-05T22:26:07.217Z"
   },
   {
    "duration": 14,
    "start_time": "2021-09-05T22:26:07.228Z"
   },
   {
    "duration": 11,
    "start_time": "2021-09-05T22:26:07.246Z"
   },
   {
    "duration": 58,
    "start_time": "2021-09-05T22:26:07.260Z"
   },
   {
    "duration": 12,
    "start_time": "2021-09-05T22:26:07.320Z"
   },
   {
    "duration": 52,
    "start_time": "2021-09-05T22:26:07.335Z"
   },
   {
    "duration": 68,
    "start_time": "2021-09-05T22:26:07.389Z"
   },
   {
    "duration": 31,
    "start_time": "2021-09-05T22:26:07.459Z"
   },
   {
    "duration": 52,
    "start_time": "2021-09-05T22:26:07.517Z"
   },
   {
    "duration": 61,
    "start_time": "2021-09-05T22:26:07.571Z"
   },
   {
    "duration": 18,
    "start_time": "2021-09-05T22:26:07.635Z"
   },
   {
    "duration": 10,
    "start_time": "2021-09-05T22:26:07.656Z"
   },
   {
    "duration": 74,
    "start_time": "2021-09-05T22:26:07.669Z"
   },
   {
    "duration": 1761,
    "start_time": "2021-09-05T22:26:07.746Z"
   },
   {
    "duration": 27,
    "start_time": "2021-09-05T22:26:09.515Z"
   },
   {
    "duration": 78,
    "start_time": "2021-09-05T22:26:09.546Z"
   },
   {
    "duration": 592,
    "start_time": "2021-09-05T22:26:09.627Z"
   },
   {
    "duration": 445,
    "start_time": "2021-09-05T22:26:10.223Z"
   },
   {
    "duration": 9,
    "start_time": "2021-09-05T22:26:10.672Z"
   },
   {
    "duration": 12811,
    "start_time": "2021-09-05T22:26:10.684Z"
   },
   {
    "duration": 23209,
    "start_time": "2021-09-05T22:26:23.499Z"
   },
   {
    "duration": 16,
    "start_time": "2021-09-05T22:26:46.715Z"
   },
   {
    "duration": 39,
    "start_time": "2021-09-05T22:26:46.733Z"
   },
   {
    "duration": 316,
    "start_time": "2021-09-05T22:26:46.775Z"
   },
   {
    "duration": 947,
    "start_time": "2021-09-05T22:26:47.094Z"
   },
   {
    "duration": 22932,
    "start_time": "2021-09-05T22:26:48.044Z"
   },
   {
    "duration": 38,
    "start_time": "2021-09-05T22:27:10.979Z"
   },
   {
    "duration": 1144,
    "start_time": "2021-09-05T22:27:24.356Z"
   },
   {
    "duration": 1024,
    "start_time": "2021-09-05T22:34:50.798Z"
   },
   {
    "duration": 1006,
    "start_time": "2021-09-05T22:35:20.649Z"
   },
   {
    "duration": 1359,
    "start_time": "2021-09-05T22:35:34.526Z"
   },
   {
    "duration": 744,
    "start_time": "2021-09-05T22:40:43.230Z"
   },
   {
    "duration": 298,
    "start_time": "2021-09-05T22:41:57.295Z"
   },
   {
    "duration": 723,
    "start_time": "2021-09-05T22:43:37.676Z"
   },
   {
    "duration": 297,
    "start_time": "2021-09-05T22:44:32.578Z"
   },
   {
    "duration": 295,
    "start_time": "2021-09-05T22:45:35.603Z"
   },
   {
    "duration": 293,
    "start_time": "2021-09-05T22:46:15.453Z"
   },
   {
    "duration": 965,
    "start_time": "2021-09-05T22:46:26.412Z"
   },
   {
    "duration": 58,
    "start_time": "2021-09-05T22:46:27.379Z"
   },
   {
    "duration": 183,
    "start_time": "2021-09-05T22:46:27.441Z"
   },
   {
    "duration": 90,
    "start_time": "2021-09-05T22:46:27.627Z"
   },
   {
    "duration": 10,
    "start_time": "2021-09-05T22:46:27.719Z"
   },
   {
    "duration": 9,
    "start_time": "2021-09-05T22:46:27.731Z"
   },
   {
    "duration": 9,
    "start_time": "2021-09-05T22:46:27.742Z"
   },
   {
    "duration": 15,
    "start_time": "2021-09-05T22:46:27.755Z"
   },
   {
    "duration": 52,
    "start_time": "2021-09-05T22:46:27.773Z"
   },
   {
    "duration": 20,
    "start_time": "2021-09-05T22:46:27.827Z"
   },
   {
    "duration": 11,
    "start_time": "2021-09-05T22:46:27.850Z"
   },
   {
    "duration": 94,
    "start_time": "2021-09-05T22:46:27.864Z"
   },
   {
    "duration": 56,
    "start_time": "2021-09-05T22:46:27.961Z"
   },
   {
    "duration": 29,
    "start_time": "2021-09-05T22:46:28.019Z"
   },
   {
    "duration": 78,
    "start_time": "2021-09-05T22:46:28.050Z"
   },
   {
    "duration": 37,
    "start_time": "2021-09-05T22:46:28.131Z"
   },
   {
    "duration": 23,
    "start_time": "2021-09-05T22:46:28.171Z"
   },
   {
    "duration": 26,
    "start_time": "2021-09-05T22:46:28.196Z"
   },
   {
    "duration": 29,
    "start_time": "2021-09-05T22:46:28.225Z"
   },
   {
    "duration": 1225,
    "start_time": "2021-09-05T22:46:28.256Z"
   },
   {
    "duration": 34,
    "start_time": "2021-09-05T22:46:29.483Z"
   },
   {
    "duration": 37,
    "start_time": "2021-09-05T22:46:29.520Z"
   },
   {
    "duration": 1171,
    "start_time": "2021-09-05T22:46:29.561Z"
   },
   {
    "duration": 1307,
    "start_time": "2021-09-05T22:46:30.735Z"
   },
   {
    "duration": 418,
    "start_time": "2021-09-05T22:46:32.045Z"
   },
   {
    "duration": 399,
    "start_time": "2021-09-05T22:46:32.465Z"
   },
   {
    "duration": 8,
    "start_time": "2021-09-05T22:46:32.867Z"
   },
   {
    "duration": 12179,
    "start_time": "2021-09-05T22:46:32.877Z"
   },
   {
    "duration": 23543,
    "start_time": "2021-09-05T22:46:45.058Z"
   },
   {
    "duration": 23,
    "start_time": "2021-09-05T22:47:08.603Z"
   },
   {
    "duration": 36,
    "start_time": "2021-09-05T22:47:08.628Z"
   },
   {
    "duration": 406,
    "start_time": "2021-09-05T22:47:08.667Z"
   },
   {
    "duration": 992,
    "start_time": "2021-09-05T22:47:09.075Z"
   },
   {
    "duration": 22100,
    "start_time": "2021-09-05T22:47:10.069Z"
   },
   {
    "duration": 47,
    "start_time": "2021-09-05T22:47:32.172Z"
   },
   {
    "duration": 771,
    "start_time": "2021-09-05T22:47:32.223Z"
   },
   {
    "duration": 356,
    "start_time": "2021-09-05T22:48:03.390Z"
   },
   {
    "duration": 435,
    "start_time": "2021-09-05T22:48:53.845Z"
   },
   {
    "duration": 336,
    "start_time": "2021-09-05T22:49:24.299Z"
   },
   {
    "duration": 388,
    "start_time": "2021-09-05T22:58:01.044Z"
   },
   {
    "duration": 671,
    "start_time": "2021-09-05T22:58:05.450Z"
   },
   {
    "duration": 1330,
    "start_time": "2021-09-05T22:58:26.400Z"
   },
   {
    "duration": 614,
    "start_time": "2021-09-05T22:59:01.664Z"
   },
   {
    "duration": 989,
    "start_time": "2021-09-05T23:01:47.990Z"
   },
   {
    "duration": 58,
    "start_time": "2021-09-05T23:01:48.982Z"
   },
   {
    "duration": 187,
    "start_time": "2021-09-05T23:01:49.043Z"
   },
   {
    "duration": 85,
    "start_time": "2021-09-05T23:01:49.232Z"
   },
   {
    "duration": 9,
    "start_time": "2021-09-05T23:01:49.320Z"
   },
   {
    "duration": 9,
    "start_time": "2021-09-05T23:01:49.331Z"
   },
   {
    "duration": 9,
    "start_time": "2021-09-05T23:01:49.343Z"
   },
   {
    "duration": 14,
    "start_time": "2021-09-05T23:01:49.356Z"
   },
   {
    "duration": 52,
    "start_time": "2021-09-05T23:01:49.373Z"
   },
   {
    "duration": 19,
    "start_time": "2021-09-05T23:01:49.428Z"
   },
   {
    "duration": 12,
    "start_time": "2021-09-05T23:01:49.450Z"
   },
   {
    "duration": 91,
    "start_time": "2021-09-05T23:01:49.464Z"
   },
   {
    "duration": 43,
    "start_time": "2021-09-05T23:01:49.557Z"
   },
   {
    "duration": 42,
    "start_time": "2021-09-05T23:01:49.602Z"
   },
   {
    "duration": 85,
    "start_time": "2021-09-05T23:01:49.647Z"
   },
   {
    "duration": 37,
    "start_time": "2021-09-05T23:01:49.735Z"
   },
   {
    "duration": 42,
    "start_time": "2021-09-05T23:01:49.775Z"
   },
   {
    "duration": 9,
    "start_time": "2021-09-05T23:01:49.819Z"
   },
   {
    "duration": 39,
    "start_time": "2021-09-05T23:01:49.830Z"
   },
   {
    "duration": 1175,
    "start_time": "2021-09-05T23:01:49.871Z"
   },
   {
    "duration": 20,
    "start_time": "2021-09-05T23:01:51.048Z"
   },
   {
    "duration": 58,
    "start_time": "2021-09-05T23:01:51.070Z"
   },
   {
    "duration": 1032,
    "start_time": "2021-09-05T23:01:51.132Z"
   },
   {
    "duration": 1283,
    "start_time": "2021-09-05T23:01:52.166Z"
   },
   {
    "duration": 403,
    "start_time": "2021-09-05T23:01:53.451Z"
   },
   {
    "duration": 425,
    "start_time": "2021-09-05T23:01:53.857Z"
   },
   {
    "duration": 10,
    "start_time": "2021-09-05T23:01:54.285Z"
   },
   {
    "duration": 11717,
    "start_time": "2021-09-05T23:01:54.317Z"
   },
   {
    "duration": 22159,
    "start_time": "2021-09-05T23:02:06.037Z"
   },
   {
    "duration": 31,
    "start_time": "2021-09-05T23:02:28.199Z"
   },
   {
    "duration": 31,
    "start_time": "2021-09-05T23:02:28.233Z"
   },
   {
    "duration": 447,
    "start_time": "2021-09-05T23:02:28.266Z"
   },
   {
    "duration": 976,
    "start_time": "2021-09-05T23:02:28.716Z"
   },
   {
    "duration": 22325,
    "start_time": "2021-09-05T23:02:29.695Z"
   },
   {
    "duration": 17,
    "start_time": "2021-09-05T23:02:52.022Z"
   },
   {
    "duration": 1473,
    "start_time": "2021-09-05T23:02:53.239Z"
   },
   {
    "duration": 22467,
    "start_time": "2021-09-05T23:04:49.807Z"
   },
   {
    "duration": 24,
    "start_time": "2021-09-05T23:10:16.991Z"
   },
   {
    "duration": 964,
    "start_time": "2021-09-05T23:10:30.954Z"
   },
   {
    "duration": 50,
    "start_time": "2021-09-05T23:10:31.920Z"
   },
   {
    "duration": 192,
    "start_time": "2021-09-05T23:10:31.973Z"
   },
   {
    "duration": 88,
    "start_time": "2021-09-05T23:10:32.168Z"
   },
   {
    "duration": 9,
    "start_time": "2021-09-05T23:10:32.258Z"
   },
   {
    "duration": 17,
    "start_time": "2021-09-05T23:10:32.269Z"
   },
   {
    "duration": 29,
    "start_time": "2021-09-05T23:10:32.288Z"
   },
   {
    "duration": 15,
    "start_time": "2021-09-05T23:10:32.321Z"
   },
   {
    "duration": 21,
    "start_time": "2021-09-05T23:10:32.338Z"
   },
   {
    "duration": 31,
    "start_time": "2021-09-05T23:10:32.361Z"
   },
   {
    "duration": 25,
    "start_time": "2021-09-05T23:10:32.394Z"
   },
   {
    "duration": 64,
    "start_time": "2021-09-05T23:10:32.422Z"
   },
   {
    "duration": 58,
    "start_time": "2021-09-05T23:10:32.488Z"
   },
   {
    "duration": 30,
    "start_time": "2021-09-05T23:10:32.549Z"
   },
   {
    "duration": 75,
    "start_time": "2021-09-05T23:10:32.581Z"
   },
   {
    "duration": 61,
    "start_time": "2021-09-05T23:10:32.659Z"
   },
   {
    "duration": 16,
    "start_time": "2021-09-05T23:10:32.723Z"
   },
   {
    "duration": 25,
    "start_time": "2021-09-05T23:10:32.742Z"
   },
   {
    "duration": 50,
    "start_time": "2021-09-05T23:10:32.770Z"
   },
   {
    "duration": 1194,
    "start_time": "2021-09-05T23:10:32.822Z"
   },
   {
    "duration": 19,
    "start_time": "2021-09-05T23:10:34.018Z"
   },
   {
    "duration": 39,
    "start_time": "2021-09-05T23:10:34.039Z"
   },
   {
    "duration": 1046,
    "start_time": "2021-09-05T23:10:34.083Z"
   },
   {
    "duration": 1258,
    "start_time": "2021-09-05T23:10:35.132Z"
   },
   {
    "duration": 407,
    "start_time": "2021-09-05T23:10:36.392Z"
   },
   {
    "duration": 429,
    "start_time": "2021-09-05T23:10:36.802Z"
   },
   {
    "duration": 9,
    "start_time": "2021-09-05T23:10:37.233Z"
   },
   {
    "duration": 11674,
    "start_time": "2021-09-05T23:10:37.244Z"
   },
   {
    "duration": 21783,
    "start_time": "2021-09-05T23:10:48.921Z"
   },
   {
    "duration": 527,
    "start_time": "2021-09-05T23:11:10.707Z"
   },
   {
    "duration": -167,
    "start_time": "2021-09-05T23:11:11.404Z"
   },
   {
    "duration": -169,
    "start_time": "2021-09-05T23:11:11.408Z"
   },
   {
    "duration": -173,
    "start_time": "2021-09-05T23:11:11.414Z"
   },
   {
    "duration": -174,
    "start_time": "2021-09-05T23:11:11.417Z"
   },
   {
    "duration": -176,
    "start_time": "2021-09-05T23:11:11.422Z"
   },
   {
    "duration": -178,
    "start_time": "2021-09-05T23:11:11.426Z"
   },
   {
    "duration": 30,
    "start_time": "2021-09-05T23:13:05.741Z"
   },
   {
    "duration": 1192,
    "start_time": "2021-09-05T23:20:48.940Z"
   },
   {
    "duration": 781,
    "start_time": "2021-09-05T23:24:18.613Z"
   },
   {
    "duration": 1188,
    "start_time": "2021-09-05T23:24:43.702Z"
   },
   {
    "duration": 375,
    "start_time": "2021-09-05T23:27:32.214Z"
   },
   {
    "duration": 452,
    "start_time": "2021-09-05T23:30:28.233Z"
   },
   {
    "duration": 4633,
    "start_time": "2021-09-05T23:30:42.276Z"
   },
   {
    "duration": 29,
    "start_time": "2021-09-05T23:32:31.379Z"
   },
   {
    "duration": 31,
    "start_time": "2021-09-05T23:33:10.184Z"
   },
   {
    "duration": 37,
    "start_time": "2021-09-05T23:33:31.248Z"
   },
   {
    "duration": 41,
    "start_time": "2021-09-05T23:35:25.477Z"
   },
   {
    "duration": 50,
    "start_time": "2021-09-05T23:36:15.314Z"
   },
   {
    "duration": 467,
    "start_time": "2021-09-05T23:45:22.383Z"
   },
   {
    "duration": 1051,
    "start_time": "2021-09-05T23:45:34.489Z"
   },
   {
    "duration": 51,
    "start_time": "2021-09-05T23:45:35.542Z"
   },
   {
    "duration": 209,
    "start_time": "2021-09-05T23:45:35.596Z"
   },
   {
    "duration": 75,
    "start_time": "2021-09-05T23:45:35.807Z"
   },
   {
    "duration": 8,
    "start_time": "2021-09-05T23:45:35.885Z"
   },
   {
    "duration": 9,
    "start_time": "2021-09-05T23:45:35.917Z"
   },
   {
    "duration": 9,
    "start_time": "2021-09-05T23:45:35.929Z"
   },
   {
    "duration": 17,
    "start_time": "2021-09-05T23:45:35.941Z"
   },
   {
    "duration": 20,
    "start_time": "2021-09-05T23:45:35.961Z"
   },
   {
    "duration": 21,
    "start_time": "2021-09-05T23:45:36.016Z"
   },
   {
    "duration": 12,
    "start_time": "2021-09-05T23:45:36.039Z"
   },
   {
    "duration": 77,
    "start_time": "2021-09-05T23:45:36.053Z"
   },
   {
    "duration": 43,
    "start_time": "2021-09-05T23:45:36.133Z"
   },
   {
    "duration": 49,
    "start_time": "2021-09-05T23:45:36.178Z"
   },
   {
    "duration": 51,
    "start_time": "2021-09-05T23:45:36.229Z"
   },
   {
    "duration": 65,
    "start_time": "2021-09-05T23:45:36.282Z"
   },
   {
    "duration": 25,
    "start_time": "2021-09-05T23:45:36.349Z"
   },
   {
    "duration": 7,
    "start_time": "2021-09-05T23:45:36.377Z"
   },
   {
    "duration": 54,
    "start_time": "2021-09-05T23:45:36.387Z"
   },
   {
    "duration": 1195,
    "start_time": "2021-09-05T23:45:36.443Z"
   },
   {
    "duration": 19,
    "start_time": "2021-09-05T23:45:37.641Z"
   },
   {
    "duration": 62,
    "start_time": "2021-09-05T23:45:37.663Z"
   },
   {
    "duration": 1050,
    "start_time": "2021-09-05T23:45:37.729Z"
   },
   {
    "duration": 1309,
    "start_time": "2021-09-05T23:45:38.782Z"
   },
   {
    "duration": 407,
    "start_time": "2021-09-05T23:45:40.094Z"
   },
   {
    "duration": 443,
    "start_time": "2021-09-05T23:45:40.505Z"
   },
   {
    "duration": 9,
    "start_time": "2021-09-05T23:45:40.951Z"
   },
   {
    "duration": 11842,
    "start_time": "2021-09-05T23:45:40.963Z"
   },
   {
    "duration": 22386,
    "start_time": "2021-09-05T23:45:52.808Z"
   },
   {
    "duration": 43,
    "start_time": "2021-09-05T23:46:15.196Z"
   },
   {
    "duration": 15,
    "start_time": "2021-09-05T23:46:15.242Z"
   },
   {
    "duration": 30,
    "start_time": "2021-09-05T23:46:15.259Z"
   },
   {
    "duration": 406,
    "start_time": "2021-09-05T23:46:15.316Z"
   },
   {
    "duration": 53,
    "start_time": "2021-09-05T23:46:15.724Z"
   },
   {
    "duration": 559,
    "start_time": "2021-09-05T23:46:15.780Z"
   },
   {
    "duration": 457,
    "start_time": "2021-09-05T23:47:25.294Z"
   },
   {
    "duration": 68,
    "start_time": "2021-09-05T23:47:52.629Z"
   },
   {
    "duration": 68,
    "start_time": "2021-09-05T23:48:06.992Z"
   },
   {
    "duration": 1057,
    "start_time": "2021-09-05T23:48:25.755Z"
   },
   {
    "duration": 1161,
    "start_time": "2021-09-05T23:49:02.685Z"
   },
   {
    "duration": 959,
    "start_time": "2021-09-05T23:50:48.065Z"
   },
   {
    "duration": 316,
    "start_time": "2021-09-05T23:53:32.542Z"
   },
   {
    "duration": 948,
    "start_time": "2021-09-05T23:54:13.270Z"
   },
   {
    "duration": 52,
    "start_time": "2021-09-05T23:54:14.220Z"
   },
   {
    "duration": 190,
    "start_time": "2021-09-05T23:54:14.275Z"
   },
   {
    "duration": 91,
    "start_time": "2021-09-05T23:54:14.468Z"
   },
   {
    "duration": 11,
    "start_time": "2021-09-05T23:54:14.562Z"
   },
   {
    "duration": 12,
    "start_time": "2021-09-05T23:54:14.576Z"
   },
   {
    "duration": 10,
    "start_time": "2021-09-05T23:54:14.617Z"
   },
   {
    "duration": 18,
    "start_time": "2021-09-05T23:54:14.631Z"
   },
   {
    "duration": 20,
    "start_time": "2021-09-05T23:54:14.652Z"
   },
   {
    "duration": 46,
    "start_time": "2021-09-05T23:54:14.674Z"
   },
   {
    "duration": 12,
    "start_time": "2021-09-05T23:54:14.723Z"
   },
   {
    "duration": 57,
    "start_time": "2021-09-05T23:54:14.738Z"
   },
   {
    "duration": 60,
    "start_time": "2021-09-05T23:54:14.797Z"
   },
   {
    "duration": 28,
    "start_time": "2021-09-05T23:54:14.859Z"
   },
   {
    "duration": 51,
    "start_time": "2021-09-05T23:54:14.917Z"
   },
   {
    "duration": 55,
    "start_time": "2021-09-05T23:54:14.970Z"
   },
   {
    "duration": 16,
    "start_time": "2021-09-05T23:54:15.027Z"
   },
   {
    "duration": 17,
    "start_time": "2021-09-05T23:54:15.045Z"
   },
   {
    "duration": 52,
    "start_time": "2021-09-05T23:54:15.065Z"
   },
   {
    "duration": 1165,
    "start_time": "2021-09-05T23:54:15.120Z"
   },
   {
    "duration": 32,
    "start_time": "2021-09-05T23:54:16.287Z"
   },
   {
    "duration": 39,
    "start_time": "2021-09-05T23:54:16.322Z"
   },
   {
    "duration": 1039,
    "start_time": "2021-09-05T23:54:16.368Z"
   },
   {
    "duration": 1254,
    "start_time": "2021-09-05T23:54:17.410Z"
   },
   {
    "duration": 400,
    "start_time": "2021-09-05T23:54:18.667Z"
   },
   {
    "duration": 499,
    "start_time": "2021-09-05T23:54:19.070Z"
   },
   {
    "duration": 8,
    "start_time": "2021-09-05T23:54:19.571Z"
   },
   {
    "duration": 11970,
    "start_time": "2021-09-05T23:54:19.581Z"
   },
   {
    "duration": 22362,
    "start_time": "2021-09-05T23:54:31.554Z"
   },
   {
    "duration": 36,
    "start_time": "2021-09-05T23:54:53.919Z"
   },
   {
    "duration": 15,
    "start_time": "2021-09-05T23:54:53.957Z"
   },
   {
    "duration": 64,
    "start_time": "2021-09-05T23:54:53.975Z"
   },
   {
    "duration": 430,
    "start_time": "2021-09-05T23:54:54.041Z"
   },
   {
    "duration": 73,
    "start_time": "2021-09-05T23:54:54.475Z"
   },
   {
    "duration": 1090,
    "start_time": "2021-09-05T23:54:54.551Z"
   },
   {
    "duration": 1026,
    "start_time": "2021-09-05T23:54:55.644Z"
   },
   {
    "duration": 4051,
    "start_time": "2021-09-05T23:56:32.109Z"
   },
   {
    "duration": 1419,
    "start_time": "2021-09-05T23:56:45.345Z"
   },
   {
    "duration": 1520,
    "start_time": "2021-09-05T23:57:26.033Z"
   },
   {
    "duration": 930,
    "start_time": "2021-09-06T16:51:40.120Z"
   },
   {
    "duration": 58,
    "start_time": "2021-09-06T16:51:41.053Z"
   },
   {
    "duration": 195,
    "start_time": "2021-09-06T16:51:41.115Z"
   },
   {
    "duration": 92,
    "start_time": "2021-09-06T16:51:41.314Z"
   },
   {
    "duration": 11,
    "start_time": "2021-09-06T16:51:41.410Z"
   },
   {
    "duration": 10,
    "start_time": "2021-09-06T16:51:41.423Z"
   },
   {
    "duration": 11,
    "start_time": "2021-09-06T16:51:41.463Z"
   },
   {
    "duration": 14,
    "start_time": "2021-09-06T16:51:41.479Z"
   },
   {
    "duration": 27,
    "start_time": "2021-09-06T16:51:41.496Z"
   },
   {
    "duration": 49,
    "start_time": "2021-09-06T16:51:41.525Z"
   },
   {
    "duration": 14,
    "start_time": "2021-09-06T16:51:41.576Z"
   },
   {
    "duration": 76,
    "start_time": "2021-09-06T16:51:41.592Z"
   },
   {
    "duration": 43,
    "start_time": "2021-09-06T16:51:41.671Z"
   },
   {
    "duration": 53,
    "start_time": "2021-09-06T16:51:41.717Z"
   },
   {
    "duration": 49,
    "start_time": "2021-09-06T16:51:41.773Z"
   },
   {
    "duration": 54,
    "start_time": "2021-09-06T16:51:41.825Z"
   },
   {
    "duration": 16,
    "start_time": "2021-09-06T16:51:41.882Z"
   },
   {
    "duration": 9,
    "start_time": "2021-09-06T16:51:41.900Z"
   },
   {
    "duration": 61,
    "start_time": "2021-09-06T16:51:41.911Z"
   },
   {
    "duration": 1197,
    "start_time": "2021-09-06T16:51:41.974Z"
   },
   {
    "duration": 20,
    "start_time": "2021-09-06T16:51:43.173Z"
   },
   {
    "duration": 38,
    "start_time": "2021-09-06T16:51:43.196Z"
   },
   {
    "duration": 1001,
    "start_time": "2021-09-06T16:51:43.265Z"
   },
   {
    "duration": 1367,
    "start_time": "2021-09-06T16:51:44.268Z"
   },
   {
    "duration": 420,
    "start_time": "2021-09-06T16:51:45.637Z"
   },
   {
    "duration": 448,
    "start_time": "2021-09-06T16:51:46.062Z"
   },
   {
    "duration": 8,
    "start_time": "2021-09-06T16:51:46.512Z"
   },
   {
    "duration": 11099,
    "start_time": "2021-09-06T16:51:46.522Z"
   },
   {
    "duration": 21451,
    "start_time": "2021-09-06T16:51:57.623Z"
   },
   {
    "duration": 34,
    "start_time": "2021-09-06T16:52:19.077Z"
   },
   {
    "duration": 15,
    "start_time": "2021-09-06T16:52:19.114Z"
   },
   {
    "duration": 55,
    "start_time": "2021-09-06T16:52:19.131Z"
   },
   {
    "duration": 428,
    "start_time": "2021-09-06T16:52:19.188Z"
   },
   {
    "duration": 66,
    "start_time": "2021-09-06T16:52:19.618Z"
   },
   {
    "duration": 1443,
    "start_time": "2021-09-06T16:52:19.686Z"
   },
   {
    "duration": 1445,
    "start_time": "2021-09-06T16:52:21.131Z"
   },
   {
    "duration": 1056,
    "start_time": "2021-09-06T16:52:22.578Z"
   },
   {
    "duration": 952,
    "start_time": "2021-09-06T16:52:23.636Z"
   }
  ],
  "kernelspec": {
   "display_name": "Python 3 (ipykernel)",
   "language": "python",
   "name": "python3"
  },
  "language_info": {
   "codemirror_mode": {
    "name": "ipython",
    "version": 3
   },
   "file_extension": ".py",
   "mimetype": "text/x-python",
   "name": "python",
   "nbconvert_exporter": "python",
   "pygments_lexer": "ipython3",
   "version": "3.9.7"
  },
  "toc": {
   "base_numbering": 1,
   "nav_menu": {},
   "number_sections": true,
   "sideBar": true,
   "skip_h1_title": true,
   "title_cell": "Table of Contents",
   "title_sidebar": "Contents",
   "toc_cell": false,
   "toc_position": {},
   "toc_section_display": true,
   "toc_window_display": false
  }
 },
 "nbformat": 4,
 "nbformat_minor": 2
}
